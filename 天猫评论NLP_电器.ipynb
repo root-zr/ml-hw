{
 "cells": [
  {
   "cell_type": "code",
   "execution_count": 107,
   "metadata": {},
   "outputs": [],
   "source": [
    "from IPython.core.interactiveshell import InteractiveShell  #执行该代码可以使得当前nb支持多输出\n",
    "InteractiveShell.ast_node_interactivity = \"all\" \n",
    "import numpy as np\n",
    "from datetime import datetime\n",
    "import pandas as pd \n",
    "import matplotlib.pyplot as plt\n",
    "from mpl_toolkits.mplot3d import Axes3D\n",
    "pd.options.display.max_rows = 8  \n",
    "%matplotlib inline"
   ]
  },
  {
   "cell_type": "markdown",
   "metadata": {},
   "source": [
    "# 处理每一张单表的数据"
   ]
  },
  {
   "cell_type": "markdown",
   "metadata": {},
   "source": [
    "准备语料库"
   ]
  },
  {
   "cell_type": "markdown",
   "metadata": {},
   "source": [
    "jieba分词\n",
    "\n",
    "下载搜狗词库”电商客服输入法“，https://pinyin.sogou.com/dict/detail/index/63253\n",
    "\n",
    "采用深蓝词库转换"
   ]
  },
  {
   "cell_type": "code",
   "execution_count": 68,
   "metadata": {},
   "outputs": [
    {
     "name": "stderr",
     "output_type": "stream",
     "text": [
      "D:\\Anaconda3\\Anaconda3\\lib\\site-packages\\ipykernel_launcher.py:14: ParserWarning: Falling back to the 'python' engine because the 'c' engine does not support regex separators (separators > 1 char and different from '\\s+' are interpreted as regex); you can avoid this warning by specifying engine='python'.\n",
      "  \n"
     ]
    },
    {
     "data": {
      "text/html": [
       "<div>\n",
       "<style scoped>\n",
       "    .dataframe tbody tr th:only-of-type {\n",
       "        vertical-align: middle;\n",
       "    }\n",
       "\n",
       "    .dataframe tbody tr th {\n",
       "        vertical-align: top;\n",
       "    }\n",
       "\n",
       "    .dataframe thead th {\n",
       "        text-align: right;\n",
       "    }\n",
       "</style>\n",
       "<table border=\"1\" class=\"dataframe\">\n",
       "  <thead>\n",
       "    <tr style=\"text-align: right;\">\n",
       "      <th></th>\n",
       "      <th>w</th>\n",
       "    </tr>\n",
       "  </thead>\n",
       "  <tbody>\n",
       "    <tr>\n",
       "      <td>0</td>\n",
       "      <td>,</td>\n",
       "    </tr>\n",
       "    <tr>\n",
       "      <td>1</td>\n",
       "      <td>，</td>\n",
       "    </tr>\n",
       "    <tr>\n",
       "      <td>2</td>\n",
       "      <td>、</td>\n",
       "    </tr>\n",
       "    <tr>\n",
       "      <td>3</td>\n",
       "      <td>；</td>\n",
       "    </tr>\n",
       "    <tr>\n",
       "      <td>4</td>\n",
       "      <td>:</td>\n",
       "    </tr>\n",
       "  </tbody>\n",
       "</table>\n",
       "</div>"
      ],
      "text/plain": [
       "   w\n",
       "0  ,\n",
       "1  ，\n",
       "2  、\n",
       "3  ；\n",
       "4  :"
      ]
     },
     "execution_count": 68,
     "metadata": {},
     "output_type": "execute_result"
    },
    {
     "data": {
      "text/plain": [
       "0       电池续航：电池容量很大玩一天基本上没有问题，比较适合高强度的使用 而且小米的快充也非常不错哦...\n",
       "1       Noto10pro的性价比挺高的，拍照挺清晰的🐱 🐱 外观颜值挺高的，电池续航挺耐用的，基本...\n",
       "2       优点: 流畅，续航不错，高刷YYDS，LCD显示细腻，外放效果非常好，NFC 红外等基本功能...\n",
       "3       手机已经收到了,用了2天才来评价,运行速度比我之前的小米5快多了,通话音质清晰,拍照效果还不...\n",
       "                              ...                        \n",
       "1996    送给妈**，外宽很奈斯，现在还没拆开，希望妈妈喜欢，红米手机好用又便宜，购买后评论还可以送小...\n",
       "1997      小米手机无钱网络太差了，评个价都会网络断断续续，不能和华为手机比，差评，很垃圾，*******\n",
       "1998             拍照效果：拍照很清晰 手机比较厚，不够薄，爸爸说总体还不错，另外送的保温杯很好 \n",
       "1999                      拍照效果：图像清淅 电池续航：续航长 通信音质：；声音效果好 \n",
       "Name: 评价内容, Length: 2000, dtype: object"
      ]
     },
     "execution_count": 68,
     "metadata": {},
     "output_type": "execute_result"
    },
    {
     "data": {
      "text/plain": [
       "0       不错 拍照 快充 处理器 视频 拍摄 电池容量 能充 80% 天矶 效果 屏幕显示 看图 质...\n",
       "1       性价比 天玑 Noto10pro 颜值 一充 发烫 赞赞赞 真的 基带 奈斯 外放 续航 质...\n",
       "2       YYDS 显示 高刷 LCD NFC 67W 充爽 miui 12.5 5G 比米 框易 买...\n",
       "3       一充 通话音质 玩游戏 拍照 小米 天才 电池 清晰 评价 收到 两天 不错 手机 效果 运...\n",
       "                              ...                        \n",
       "1996               红米 奈斯 好用 背包 拆开 送给 便宜 评论 妈妈 手机 购买 喜欢 希望\n",
       "1997                  评个 网络 手机 价都会 差评 无钱 华为 太差 小米 断断续续 垃圾\n",
       "1998                             拍照 保温杯 清晰 爸爸 不错 手机 总体 效果\n",
       "1999                           续航 清淅 效果 音质 拍照 图像 电池 通信 声音\n",
       "Name: 评价内容, Length: 2000, dtype: object"
      ]
     },
     "execution_count": 68,
     "metadata": {},
     "output_type": "execute_result"
    }
   ],
   "source": [
    "import jieba\n",
    "\n",
    "       \n",
    "dict1 = '../data/nlp/电商客服输入法.txt'\n",
    "dict2 = '../data/nlp/电子商务专用词汇.txt'\n",
    "jieba.load_userdict(dict1) # dict_为自定义词典的路径\n",
    "jieba.load_userdict(dict2) # dict_为自定义词典的路径\n",
    "\n",
    "\n",
    "\n",
    "# 去除停用词\n",
    "# 使用预先准备的停用词表\n",
    "tmpdf = pd.read_csv('../data/nlp/停用词.txt',\n",
    "                    names = ['w'], sep = 'aaa', encoding = 'utf-8')\n",
    "tmpdf.head()\n",
    "\n",
    "import jieba.analyse as ana\n",
    "ana.set_stop_words('../data/nlp/停用词.txt')\n",
    "\n",
    "df= pd.read_csv(r'../data/taobao/new/评论数据/小米官方旗舰店.csv',skiprows =1 ,lineterminator=\"\\n\")       \n",
    "df = df.iloc[:len(df)-2]['评价内容']\n",
    "df\n",
    "\n",
    "for i,value in enumerate(df):\n",
    "#     res = jieba.cut(value)\n",
    "    res = ana.extract_tags(value , topK = 50) # 使用TF-IDF算法提取关键词，并同时去掉停用词\n",
    "    df[i] = ' '.join(res)\n",
    "#     for i in jieba.lcut(value):\n",
    "               \n",
    "df        \n",
    "        "
   ]
  },
  {
   "cell_type": "markdown",
   "metadata": {},
   "source": [
    "# 词云展示¶\n"
   ]
  },
  {
   "cell_type": "code",
   "execution_count": 69,
   "metadata": {
    "scrolled": true
   },
   "outputs": [
    {
     "name": "stdout",
     "output_type": "stream",
     "text": [
      "<wordcloud.wordcloud.WordCloud object at 0x0000019E28E29208>\n"
     ]
    },
    {
     "data": {
      "text/plain": [
       "<Figure size 720x432 with 0 Axes>"
      ]
     },
     "execution_count": 69,
     "metadata": {},
     "output_type": "execute_result"
    },
    {
     "data": {
      "text/plain": [
       "<matplotlib.image.AxesImage at 0x19e22c4acc8>"
      ]
     },
     "execution_count": 69,
     "metadata": {},
     "output_type": "execute_result"
    },
    {
     "data": {
      "text/plain": [
       "(-0.5, 616.5, 441.5, -0.5)"
      ]
     },
     "execution_count": 69,
     "metadata": {},
     "output_type": "execute_result"
    },
    {
     "data": {
      "image/png": "[encoded data removed]",
      "text/plain": [
       "<Figure size 720x432 with 1 Axes>"
      ]
     },
     "metadata": {
      "needs_background": "light"
     },
     "output_type": "display_data"
    },
    {
     "data": {
      "text/plain": [
       "<wordcloud.wordcloud.WordCloud at 0x19e28e29208>"
      ]
     },
     "execution_count": 69,
     "metadata": {},
     "output_type": "execute_result"
    }
   ],
   "source": [
    "#词频统计\n",
    "#遍历整个list ，对每个词条:\n",
    "file_dict = { }\n",
    "for i,value in enumerate(df):\n",
    "    s = value.split(' ')\n",
    "    for word in s:\n",
    "        if word in file_dict:\n",
    "            file_dict[word] += 1\n",
    "        else:\n",
    "            file_dict[word] = 1         \n",
    "# file_dict \n",
    "\n",
    "# file_dict.keys()\n",
    "import wordcloud\n",
    "from imageio import imread\n",
    "myfont = r'C:\\Windows\\Fonts\\simkai.ttf'\n",
    "txt_freq = file_dict\n",
    "cloudobj = wordcloud.WordCloud(font_path = myfont, \n",
    "    width = 360, height = 180,\n",
    "    mask = imread(\"../data/nlp/background.PNG\"), \n",
    "    mode = \"RGBA\", background_color = None).fit_words(txt_freq)\n",
    "#.generate(\" \".join(file_dict.keys())) #把文本做词云，#文本需要用空格/标点符号分隔单词，否则不能正确分词  \n",
    "print(cloudobj)\n",
    "\n",
    "#显示词云\n",
    "import matplotlib.pyplot as plt\n",
    "plt.figure(figsize=(10,6))  # 设置图框大小尺寸\n",
    "plt.imshow(cloudobj)\n",
    "plt.axis(\"off\")  #把坐标轴关掉\n",
    "plt.show()\n",
    "\n",
    "cloudobj.to_file(\"词云.png\")\n",
    "# wordcloud.WordCloud(font_path = myfont).generate(text).to_file(r\"词云.png\")"
   ]
  },
  {
   "cell_type": "code",
   "execution_count": 164,
   "metadata": {},
   "outputs": [],
   "source": [
    "# 导入WordCloud及配置模块\n",
    "from pyecharts import options as opts\n",
    "from pyecharts.charts import WordCloud\n",
    "from pyecharts.globals import SymbolType\n",
    "\n",
    "\n",
    "#pyecharts需要的数据格式为二维数组:\n",
    "#[['的' '232'],['情感' '119'],['和' '42']]\n",
    "\n",
    "def create_wcloud(self):\n",
    "    (\n",
    "        WordCloud()\n",
    "            .add(series_name=\"热词云图\",\n",
    "                 # 添加数据\n",
    "                 data_pair=self,\n",
    "                 # 字间隙\n",
    "                 word_gap=5,\n",
    "                 # 调整字大小范围\n",
    "                 word_size_range=[15, 80],\n",
    "                   # 词云图轮廓，有 'circle', 'cardioid', 'diamond', 'triangle-forward', 'triangle', 'pentagon', 'star' 可选\n",
    "#                  shape=\"diamond\"\n",
    "                 # 选择背景图，也可以不加该参数，使用默认背景\n",
    "#                  mask_image = r'../data/nlp/background (2).png'\n",
    "\n",
    "            )\n",
    "            .set_global_opts(\n",
    "            title_opts=opts.TitleOpts(\n",
    "                title=\"热词云图\", title_textstyle_opts=opts.TextStyleOpts(font_size=23)\n",
    "            ),\n",
    "            tooltip_opts=opts.TooltipOpts(is_show=True),\n",
    "        )\n",
    "            # 输出为html格式\n",
    "            .render(\"testbasic.html\")\n",
    "    )\n",
    "\n",
    "# WordCloud模块，链式调用配置，最终生成html文件\n",
    "tuple0 = tuple(items for items in txt_freq.items())\n",
    "create_wcloud(tuple0)"
   ]
  },
  {
   "cell_type": "markdown",
   "metadata": {},
   "source": [
    "# 使用sklearn生成文档-词矩阵"
   ]
  },
  {
   "cell_type": "code",
   "execution_count": 12,
   "metadata": {},
   "outputs": [
    {
     "data": {
      "text/plain": [
       "<2000x1684 sparse matrix of type '<class 'numpy.int64'>'\n",
       "\twith 22582 stored elements in Compressed Sparse Row format>"
      ]
     },
     "execution_count": 12,
     "metadata": {},
     "output_type": "execute_result"
    },
    {
     "data": {
      "text/plain": [
       "matrix([[0, 0, 0, ..., 0, 0, 0],\n",
       "        [0, 0, 0, ..., 0, 0, 0],\n",
       "        [0, 0, 0, ..., 0, 0, 0],\n",
       "        ...,\n",
       "        [0, 0, 0, ..., 0, 0, 0],\n",
       "        [0, 0, 0, ..., 0, 0, 0],\n",
       "        [0, 0, 0, ..., 0, 0, 0]], dtype=int64)"
      ]
     },
     "execution_count": 12,
     "metadata": {},
     "output_type": "execute_result"
    },
    {
     "data": {
      "text/plain": [
       "(2000, 1684)"
      ]
     },
     "execution_count": 12,
     "metadata": {},
     "output_type": "execute_result"
    }
   ],
   "source": [
    "from sklearn.feature_extraction.text import CountVectorizer\n",
    "countvec = CountVectorizer(min_df = 2) # 在2个以上用户中出现的才保留\n",
    "\n",
    "res = countvec.fit_transform(df)   #使用fit_transform函数生成bow稀疏矩阵\n",
    "# countvec.get_feature_names() # 词汇列表，实际上就是获取每个行对应的词条\n",
    "# countvec.vocabulary_ # 词条字典\n",
    "res\n",
    "\n",
    "res.todense()   #转换为标准格式的d2m矩阵\n",
    "res.todense().shape\n"
   ]
  },
  {
   "cell_type": "markdown",
   "metadata": {},
   "source": [
    "# 关键词提取"
   ]
  },
  {
   "cell_type": "code",
   "execution_count": 13,
   "metadata": {},
   "outputs": [
    {
     "data": {
      "text/plain": [
       "<2000x4256 sparse matrix of type '<class 'numpy.float64'>'\n",
       "\twith 25154 stored elements in Compressed Sparse Row format>"
      ]
     },
     "execution_count": 13,
     "metadata": {},
     "output_type": "execute_result"
    },
    {
     "data": {
      "text/plain": [
       "array([[0., 0., 0., ..., 0., 0., 0.],\n",
       "       [0., 0., 0., ..., 0., 0., 0.],\n",
       "       [0., 0., 0., ..., 0., 0., 0.],\n",
       "       ...,\n",
       "       [0., 0., 0., ..., 0., 0., 0.],\n",
       "       [0., 0., 0., ..., 0., 0., 0.],\n",
       "       [0., 0., 0., ..., 0., 0., 0.]])"
      ]
     },
     "execution_count": 13,
     "metadata": {},
     "output_type": "execute_result"
    },
    {
     "data": {
      "text/plain": [
       "matrix([[0., 0., 0., ..., 0., 0., 0.],\n",
       "        [0., 0., 0., ..., 0., 0., 0.],\n",
       "        [0., 0., 0., ..., 0., 0., 0.],\n",
       "        ...,\n",
       "        [0., 0., 0., ..., 0., 0., 0.],\n",
       "        [0., 0., 0., ..., 0., 0., 0.],\n",
       "        [0., 0., 0., ..., 0., 0., 0.]])"
      ]
     },
     "execution_count": 13,
     "metadata": {},
     "output_type": "execute_result"
    },
    {
     "data": {
      "text/plain": [
       "(2000, 4256)"
      ]
     },
     "execution_count": 13,
     "metadata": {},
     "output_type": "execute_result"
    },
    {
     "name": "stdout",
     "output_type": "stream",
     "text": [
      "字典长度： 4256\n"
     ]
    },
    {
     "data": {
      "text/plain": [
       "{'不错': 472,\n",
       " '拍照': 2244,\n",
       " '快充': 2060,\n",
       " '处理器': 1467,\n",
       " '视频': 3619,\n",
       " '拍摄': 2243,\n",
       " '电池容量': 3099,\n",
       " '能充': 3512,\n",
       " '80': 85,\n",
       " '天矶': 1571,\n",
       " '效果': 2391,\n",
       " '屏幕显示': 1844,\n",
       " '看图': 3187,\n",
       " '质量': 3728,\n",
       " '大猩猩': 1552,\n",
       " '玩完': 3022,\n",
       " '续航': 3420,\n",
       " '性价比': 2082,\n",
       " '小米': 1821,\n",
       " '旗舰': 2443,\n",
       " '高强度': 4219,\n",
       " '鲜艳': 4241,\n",
       " '价位': 672,\n",
       " '电池': 3098,\n",
       " '品质': 1347,\n",
       " '清晰': 2873,\n",
       " '玻璃': 3037,\n",
       " '色彩': 3550,\n",
       " '适合': 3955,\n",
       " '半个': 1101,\n",
       " '图片': 1422,\n",
       " '手机': 2177,\n",
       " '小时': 1817,\n",
       " '运行': 3868,\n",
       " '真的': 3211,\n",
       " '速度': 3976,\n",
       " '整体': 2401,\n",
       " '明白': 2493,\n",
       " '很大': 2006,\n",
       " '显示': 2517,\n",
       " '天玑': 1570,\n",
       " 'noto10pro': 177,\n",
       " '颜值': 4176,\n",
       " '一充': 243,\n",
       " '发烫': 1210,\n",
       " '赞赞赞': 3755,\n",
       " '基带': 1449,\n",
       " '奈斯': 1628,\n",
       " '外放': 1483,\n",
       " '质感': 3727,\n",
       " '耐用': 3483,\n",
       " '块钱': 1443,\n",
       " '买到': 579,\n",
       " '一千': 255,\n",
       " '流畅': 2841,\n",
       " '外观': 1486,\n",
       " '信号': 757,\n",
       " '声音': 1465,\n",
       " 'yyds': 220,\n",
       " '高刷': 4214,\n",
       " 'lcd': 137,\n",
       " 'nfc': 157,\n",
       " '67w': 74,\n",
       " '充爽': 811,\n",
       " 'miui': 143,\n",
       " '12': 9,\n",
       " '5g': 58,\n",
       " '比米': 2762,\n",
       " '框易': 2700,\n",
       " '买买': 575,\n",
       " '功能齐全': 1044,\n",
       " '无息': 2454,\n",
       " '中规中矩': 536,\n",
       " '侧边': 739,\n",
       " '指纹': 2260,\n",
       " '无线': 2461,\n",
       " '室外': 1765,\n",
       " '亮度': 623,\n",
       " '尚可': 1827,\n",
       " '磨损': 3242,\n",
       " '红外': 3376,\n",
       " '细腻': 3393,\n",
       " '缺点': 3430,\n",
       " '优点': 688,\n",
       " '结论': 3407,\n",
       " '很小': 2007,\n",
       " '那种': 3994,\n",
       " '稳定': 3282,\n",
       " '地方': 1433,\n",
       " '通话音质': 3975,\n",
       " '玩游戏': 3025,\n",
       " '天才': 1565,\n",
       " '评价': 3658,\n",
       " '收到': 2371,\n",
       " '两天': 501,\n",
       " '机了': 2626,\n",
       " '关不了': 878,\n",
       " '像素': 791,\n",
       " '浏览器': 2849,\n",
       " '耗电': 3485,\n",
       " '开高': 1962,\n",
       " '相机': 3169,\n",
       " '屏幕': 1843,\n",
       " '发热': 1211,\n",
       " '广告': 1922,\n",
       " '推广': 2323,\n",
       " '网络': 3434,\n",
       " '两次': 507,\n",
       " '功能': 1039,\n",
       " '系统': 3369,\n",
       " 'yr': 219,\n",
       " '挺好用': 2280,\n",
       " '解锁': 3627,\n",
       " '生意兴隆': 3050,\n",
       " '溢于言表': 2889,\n",
       " '瑕疵': 3045,\n",
       " '重度': 4017,\n",
       " '店家': 1933,\n",
       " '习惯性': 567,\n",
       " '五星': 616,\n",
       " '不容': 426,\n",
       " '大声': 1526,\n",
       " '时间': 2488,\n",
       " '真给力': 3215,\n",
       " '再评': 910,\n",
       " '充电': 813,\n",
       " '速度快': 3977,\n",
       " '有待': 2582,\n",
       " '中断': 527,\n",
       " '体验': 727,\n",
       " '常规': 1901,\n",
       " '打电话': 2206,\n",
       " '后续': 1307,\n",
       " '游戏': 2886,\n",
       " '熟悉': 2959,\n",
       " '习惯': 566,\n",
       " '值得': 767,\n",
       " '感觉': 2121,\n",
       " '拥有': 2253,\n",
       " '很卡': 2003,\n",
       " '闪充': 4058,\n",
       " '柔和': 2689,\n",
       " '苹果': 3566,\n",
       " '性能': 2083,\n",
       " '电用': 3104,\n",
       " '特色功能': 3004,\n",
       " '星纱': 2505,\n",
       " '一半多': 260,\n",
       " '高级': 4226,\n",
       " '充满': 810,\n",
       " '能力': 3515,\n",
       " '好评': 1676,\n",
       " '算法': 3345,\n",
       " '强点': 1975,\n",
       " '未见异常': 2616,\n",
       " '比红米': 2763,\n",
       " 'n9p': 155,\n",
       " '比友商': 2755,\n",
       " '电仅': 3087,\n",
       " '供参考': 736,\n",
       " '重登': 4022,\n",
       " '个别情况': 516,\n",
       " '壁纸': 1463,\n",
       " '观感': 3615,\n",
       " '中上': 520,\n",
       " '扬声器': 2212,\n",
       " '马达': 4202,\n",
       " '卡住': 1127,\n",
       " '电量': 3113,\n",
       " '散热': 2396,\n",
       " '王者': 3018,\n",
       " '几点': 950,\n",
       " '半小时': 1107,\n",
       " '做工': 782,\n",
       " '立体': 3290,\n",
       " '进化': 3909,\n",
       " '绝大多数': 3414,\n",
       " '可惜': 1255,\n",
       " '动态': 1057,\n",
       " '消费者': 2859,\n",
       " '退出': 3935,\n",
       " '优势': 683,\n",
       " '支持': 2369,\n",
       " '表现': 3596,\n",
       " '填写': 1459,\n",
       " '用户': 3071,\n",
       " '满意': 2900,\n",
       " '十多天': 1091,\n",
       " '模式': 2711,\n",
       " '太迟顿': 1612,\n",
       " '影不': 1987,\n",
       " '电池寿命': 3100,\n",
       " '熄屏': 2958,\n",
       " '闪退': 4061,\n",
       " '追评': 3931,\n",
       " '晚上': 2524,\n",
       " '优缺点': 690,\n",
       " '快门': 2072,\n",
       " '听筒': 1320,\n",
       " '下单': 384,\n",
       " '底色': 1929,\n",
       " '够用': 1516,\n",
       " '不知': 453,\n",
       " '中度': 526,\n",
       " '实话实说': 1753,\n",
       " '精准': 3358,\n",
       " '发黑': 1223,\n",
       " '低端': 720,\n",
       " '延迟': 1940,\n",
       " '照相': 2956,\n",
       " '弊端': 1965,\n",
       " '影响': 1988,\n",
       " '画面': 3118,\n",
       " '手势': 2168,\n",
       " '识别': 3664,\n",
       " '疑问': 3134,\n",
       " '下方': 390,\n",
       " '参考': 1175,\n",
       " '白天': 3137,\n",
       " '有意': 2583,\n",
       " '感受': 2115,\n",
       " '没想到': 2807,\n",
       " '反复': 1192,\n",
       " '超级': 3781,\n",
       " '一千多块': 258,\n",
       " '爸爸妈妈': 2979,\n",
       " '新款': 2428,\n",
       " '全家人': 848,\n",
       " '两部': 512,\n",
       " '婆婆': 1693,\n",
       " '持久': 2258,\n",
       " '好看': 1673,\n",
       " '蓝色': 3580,\n",
       " '后悔': 1300,\n",
       " '一部': 338,\n",
       " '一人': 235,\n",
       " '还会': 3880,\n",
       " '活动': 2839,\n",
       " '待机时间': 1991,\n",
       " '长用': 4053,\n",
       " '耐看': 3484,\n",
       " '年龄段': 1918,\n",
       " '分辨率': 977,\n",
       " '618': 68,\n",
       " '挑剔': 2266,\n",
       " '没得': 2804,\n",
       " '款式': 2728,\n",
       " '一款': 307,\n",
       " '妈妈': 1683,\n",
       " '王一博': 3014,\n",
       " 'redmi': 185,\n",
       " 'note': 159,\n",
       " '10': 1,\n",
       " 'pro': 182,\n",
       " '酷盖': 4014,\n",
       " '同款': 1288,\n",
       " '好用': 1672,\n",
       " '前卫': 1026,\n",
       " '摩托': 2357,\n",
       " '机身': 2645,\n",
       " '时尚': 2483,\n",
       " '大气': 1545,\n",
       " '姐姐': 1690,\n",
       " '音质': 4146,\n",
       " '通信': 3970,\n",
       " '特色': 3002,\n",
       " '价格': 674,\n",
       " '打游戏': 2205,\n",
       " '一般般': 329,\n",
       " '充完用': 803,\n",
       " '常亮': 1897,\n",
       " '8g': 89,\n",
       " '运存': 3863,\n",
       " '不卡': 409,\n",
       " '不玩': 447,\n",
       " '喜欢': 1378,\n",
       " '很亮': 1998,\n",
       " '没电': 2819,\n",
       " '七点': 348,\n",
       " '哈哈哈': 1349,\n",
       " '洗漱': 2835,\n",
       " '莫名': 3571,\n",
       " '五天': 615,\n",
       " '起床': 3764,\n",
       " '太高': 1616,\n",
       " '其他人': 889,\n",
       " '早上': 2473,\n",
       " '夜晚': 1511,\n",
       " '日常': 2470,\n",
       " '睡觉': 3224,\n",
       " '吃饭': 1272,\n",
       " '下午': 383,\n",
       " '很快': 2010,\n",
       " '推荐': 2327,\n",
       " '接受': 2314,\n",
       " '事情': 592,\n",
       " '一点': 312,\n",
       " '拍照片': 2245,\n",
       " '试用': 3669,\n",
       " '美颜': 3451,\n",
       " '备用机': 1473,\n",
       " 'k40': 134,\n",
       " '人买': 629,\n",
       " '小爱': 1820,\n",
       " '召之': 1249,\n",
       " '即来': 1143,\n",
       " '挥之即去': 2272,\n",
       " '无可替代': 2453,\n",
       " '真不愧是': 3198,\n",
       " '种草': 3262,\n",
       " '自带': 3528,\n",
       " '一两': 225,\n",
       " '同学': 1287,\n",
       " '安排': 1721,\n",
       " '不到': 408,\n",
       " '较大': 3834,\n",
       " '分屏': 975,\n",
       " '打打': 2204,\n",
       " '阴阳师': 4082,\n",
       " '70': 81,\n",
       " '但用': 716,\n",
       " '全空到': 860,\n",
       " '全满': 857,\n",
       " '音游': 4141,\n",
       " '微博加': 2035,\n",
       " '帅哥': 1888,\n",
       " '放个': 2380,\n",
       " '摄像头': 2351,\n",
       " '晚霞': 2526,\n",
       " '遮挡': 3989,\n",
       " '悬浮': 2094,\n",
       " '初始': 993,\n",
       " '透明': 3967,\n",
       " '不行': 459,\n",
       " '第一次': 3308,\n",
       " '一个': 228,\n",
       " '空间': 3287,\n",
       " '正合适': 2732,\n",
       " '价格便宜': 676,\n",
       " '长辈': 4054,\n",
       " '父母': 2974,\n",
       " '边玩': 3845,\n",
       " '充充': 799,\n",
       " '边充': 3842,\n",
       " '但充': 714,\n",
       " '不好': 422,\n",
       " '开阔地': 1961,\n",
       " '断流': 2417,\n",
       " '不发': 414,\n",
       " '很慢': 2011,\n",
       " '偏僻': 770,\n",
       " '楼房': 2709,\n",
       " '不快': 433,\n",
       " '有时候': 2585,\n",
       " '反正': 1195,\n",
       " '充不上': 798,\n",
       " '不明说': 441,\n",
       " '返场': 3879,\n",
       " '云里雾里': 608,\n",
       " '新手机': 2424,\n",
       " '邮寄': 3995,\n",
       " '售后': 1359,\n",
       " '客服': 1760,\n",
       " '答案': 3336,\n",
       " '几天': 943,\n",
       " '几个': 938,\n",
       " '120hz': 11,\n",
       " '通话质量': 3974,\n",
       " '刷抖': 1012,\n",
       " '音不超': 4129,\n",
       " '安卓机': 1720,\n",
       " '不闪眼': 475,\n",
       " '暖手': 2532,\n",
       " '彩色': 1986,\n",
       " '冬天': 914,\n",
       " '越来越': 3792,\n",
       " '三个': 352,\n",
       " '空壳子': 3284,\n",
       " '太值': 1577,\n",
       " '太美': 1604,\n",
       " '太棒了': 1596,\n",
       " '一千多': 257,\n",
       " '重量': 4025,\n",
       " '刚刚': 987,\n",
       " '确实': 3237,\n",
       " '还好': 3884,\n",
       " '就够': 1831,\n",
       " '后壳': 1298,\n",
       " '会震': 709,\n",
       " '说会': 3684,\n",
       " '有个': 2573,\n",
       " '挺快': 2281,\n",
       " '收货': 2373,\n",
       " '外壳': 1480,\n",
       " '小孔': 1807,\n",
       " '平时': 1912,\n",
       " '网上': 3432,\n",
       " '本来': 2622,\n",
       " '担心': 2235,\n",
       " '发现': 1213,\n",
       " '分身': 976,\n",
       " '有罗': 2595,\n",
       " '可太': 1254,\n",
       " 'good': 117,\n",
       " 'nice': 158,\n",
       " '真不错': 3200,\n",
       " '小黑': 1826,\n",
       " '关机': 881,\n",
       " '革命性': 4128,\n",
       " '之王': 557,\n",
       " '再也': 902,\n",
       " '主题': 548,\n",
       " '突破': 3289,\n",
       " '四十多分钟': 1391,\n",
       " 'mi6x': 142,\n",
       " 'oled': 179,\n",
       " '闪屏': 4060,\n",
       " 'bug': 107,\n",
       " '32': 37,\n",
       " '近一': 3874,\n",
       " '68mp': 75,\n",
       " '48mp': 49,\n",
       " '个人见解': 515,\n",
       " '强多': 1971,\n",
       " '壳子': 1466,\n",
       " '待机': 1990,\n",
       " '内存': 895,\n",
       " '带个': 1892,\n",
       " '啥子': 1370,\n",
       " '十几': 1085,\n",
       " '仅供参考': 646,\n",
       " '出乎意料': 958,\n",
       " '道歉': 3981,\n",
       " '三千': 355,\n",
       " '稍微': 3277,\n",
       " '厚度': 1153,\n",
       " '舒服': 3543,\n",
       " '纪念': 3382,\n",
       " '不高': 476,\n",
       " '自行车': 3537,\n",
       " '厘米': 1151,\n",
       " '区别': 1078,\n",
       " '估计': 713,\n",
       " '谢谢': 3706,\n",
       " '麻烦': 4244,\n",
       " '召之即来': 1250,\n",
       " '音效': 4140,\n",
       " '钟意': 4030,\n",
       " '孝尽': 1706,\n",
       " '之息': 555,\n",
       " '初识': 995,\n",
       " '顺其自然': 4158,\n",
       " '太爱': 1598,\n",
       " '讨人喜欢': 3643,\n",
       " '不吝': 416,\n",
       " '够不够': 1514,\n",
       " '犬马之劳': 3005,\n",
       " '温文尔雅': 2885,\n",
       " '尽显': 1838,\n",
       " '音量': 4147,\n",
       " '太好': 1585,\n",
       " '服务质量': 2605,\n",
       " '言辞': 3636,\n",
       " '喜出望外': 1374,\n",
       " '夸奖': 1627,\n",
       " '出众': 959,\n",
       " '更要': 2547,\n",
       " '一切都是': 251,\n",
       " '浪漫': 2850,\n",
       " '相识': 3172,\n",
       " '真心': 3204,\n",
       " '再见': 909,\n",
       " '结识': 3408,\n",
       " '善良': 1372,\n",
       " '会见': 706,\n",
       " '说实话': 3690,\n",
       " '女孩子': 1638,\n",
       " '可爱': 1258,\n",
       " '睡着': 3223,\n",
       " '导航键': 1793,\n",
       " '验货': 4208,\n",
       " '换机': 2298,\n",
       " '加购': 1051,\n",
       " '取货': 1226,\n",
       " '所望': 2163,\n",
       " '锁屏': 4041,\n",
       " '卡顿': 1138,\n",
       " '机屏': 2637,\n",
       " '没个': 2791,\n",
       " '机子': 2635,\n",
       " '晕染': 2523,\n",
       " '开箱': 1959,\n",
       " '方框': 2436,\n",
       " '上色': 381,\n",
       " '物有所值': 2986,\n",
       " '十全十美': 1084,\n",
       " '开机': 1955,\n",
       " '七天': 347,\n",
       " '胶质': 3509,\n",
       " '满满的': 2903,\n",
       " '点点': 2936,\n",
       " '付款': 662,\n",
       " '不负': 462,\n",
       " '九个': 562,\n",
       " '心目': 2050,\n",
       " '友好': 1176,\n",
       " '回应': 1401,\n",
       " '均匀': 1437,\n",
       " '查看': 2690,\n",
       " '物流': 2987,\n",
       " '灵活': 2920,\n",
       " '期待': 2609,\n",
       " '准确': 930,\n",
       " '一段': 308,\n",
       " '关键': 885,\n",
       " '好像': 1647,\n",
       " '综合': 3424,\n",
       " '希望': 1890,\n",
       " '消息': 2856,\n",
       " '关注': 883,\n",
       " '果粉': 2685,\n",
       " '护眼': 2229,\n",
       " '华为': 1111,\n",
       " '极快': 2677,\n",
       " '转机': 3821,\n",
       " '资深': 3747,\n",
       " '均衡': 1438,\n",
       " '朦胧': 2613,\n",
       " '长时间': 4052,\n",
       " '真实': 3203,\n",
       " '一段时间': 309,\n",
       " '新闻': 2432,\n",
       " '特别': 2993,\n",
       " 'iphone': 125,\n",
       " '看久': 3183,\n",
       " '新机': 2427,\n",
       " '满足感': 2906,\n",
       " '酸涩': 4015,\n",
       " '精致': 3363,\n",
       " '包装': 1071,\n",
       " '一会儿': 241,\n",
       " '50': 52,\n",
       " '二十分钟': 596,\n",
       " '热得': 2945,\n",
       " '裤子': 3605,\n",
       " '最快': 2556,\n",
       " '回复': 1399,\n",
       " '一层': 285,\n",
       " '承认': 2216,\n",
       " '购买': 3730,\n",
       " '设计': 3655,\n",
       " '超过': 3787,\n",
       " '关机时': 882,\n",
       " '握机': 2344,\n",
       " '碰易': 3240,\n",
       " '易学': 2494,\n",
       " '代言人': 666,\n",
       " '手感': 2172,\n",
       " '淘汰': 2865,\n",
       " '外形': 1482,\n",
       " '区分': 1077,\n",
       " '碰到': 3239,\n",
       " '漂亮': 2908,\n",
       " '老人': 3457,\n",
       " '设置': 3654,\n",
       " '此前': 2739,\n",
       " '家里': 1773,\n",
       " '简单': 3340,\n",
       " '操作': 2364,\n",
       " '有线耳机': 2594,\n",
       " '我试': 2156,\n",
       " '快递': 2069,\n",
       " '淡淡的': 2866,\n",
       " '文艺': 2413,\n",
       " '颜色': 4178,\n",
       " '打开': 2202,\n",
       " '选择': 3962,\n",
       " '总体': 2086,\n",
       " '老年人': 3467,\n",
       " '侧面': 740,\n",
       " '年轻人': 1917,\n",
       " '色彩斑斓': 3551,\n",
       " '缤纷多彩': 3428,\n",
       " '侪辈': 741,\n",
       " '咯楼': 1342,\n",
       " '欧诺': 2724,\n",
       " '贵州': 3739,\n",
       " '刷新率': 1015,\n",
       " '带来': 1894,\n",
       " '调音': 3705,\n",
       " '加粗': 1050,\n",
       " '字体': 1701,\n",
       " '年纪': 1916,\n",
       " '后盖': 1304,\n",
       " '马马虎虎': 4203,\n",
       " '百香果': 3150,\n",
       " '自拍': 3530,\n",
       " '杜比': 2659,\n",
       " '用红米': 3082,\n",
       " '旗舰机': 2445,\n",
       " '博君': 1124,\n",
       " '一肖': 327,\n",
       " '挺不错': 2277,\n",
       " '代言': 665,\n",
       " '划算': 982,\n",
       " '粉丝': 3356,\n",
       " '我会': 2138,\n",
       " '配置': 4011,\n",
       " '最新版': 2560,\n",
       " '超快': 3776,\n",
       " '顺丰': 4154,\n",
       " '给力': 3410,\n",
       " '杂音': 2650,\n",
       " '发货': 1216,\n",
       " '速速': 3979,\n",
       " '红外线': 3377,\n",
       " '通话': 3973,\n",
       " '能用': 3519,\n",
       " '第二天': 3323,\n",
       " '服务': 2601,\n",
       " '北京': 1075,\n",
       " '情况': 2095,\n",
       " '吵杂': 1324,\n",
       " '水桶': 2784,\n",
       " '出门': 970,\n",
       " '放心': 2383,\n",
       " '资料': 3746,\n",
       " '肯定': 3500,\n",
       " '炒鸡': 2922,\n",
       " '岳父': 1854,\n",
       " '一台': 267,\n",
       " '最给力': 2567,\n",
       " '右快': 1264,\n",
       " '低配': 722,\n",
       " '遥控': 3984,\n",
       " '发射': 1203,\n",
       " '实体店': 1744,\n",
       " '期望值': 2611,\n",
       " '信赖': 764,\n",
       " '东西': 484,\n",
       " '超出': 3771,\n",
       " '平台': 1908,\n",
       " '品牌': 1346,\n",
       " '一分货': 247,\n",
       " '贵有': 3740,\n",
       " '没话说': 2824,\n",
       " '外包装': 1479,\n",
       " '严实': 513,\n",
       " '完全符合': 1725,\n",
       " '五分': 611,\n",
       " '卖家': 1120,\n",
       " '光顾': 836,\n",
       " '一分钱': 248,\n",
       " '高档': 4222,\n",
       " '购物': 3733,\n",
       " '运送': 3873,\n",
       " '回购': 1406,\n",
       " '宝贝': 1741,\n",
       " '感谢': 2124,\n",
       " '美丽': 3441,\n",
       " '描述': 2329,\n",
       " '仔细': 656,\n",
       " '道理': 3982,\n",
       " '商品': 1363,\n",
       " 'note10pro': 164,\n",
       " '不卡顿': 412,\n",
       " '外音': 1488,\n",
       " '顺畅': 4161,\n",
       " '喇叭': 1373,\n",
       " '合适': 1280,\n",
       " '大小': 1535,\n",
       " '两个': 491,\n",
       " '高画质': 4224,\n",
       " 'ios': 124,\n",
       " '品吧': 1344,\n",
       " '比前': 2754,\n",
       " '好太多': 1662,\n",
       " '需不需要': 4107,\n",
       " '几代': 939,\n",
       " '照片': 2954,\n",
       " '买手机': 583,\n",
       " '功课': 1045,\n",
       " '忠实': 2056,\n",
       " '人手': 638,\n",
       " '顺手': 4159,\n",
       " '耐心': 3482,\n",
       " '家人': 1769,\n",
       " '红米': 3378,\n",
       " '第三台': 3316,\n",
       " '某果': 2687,\n",
       " '纠结': 3374,\n",
       " '最让人': 2568,\n",
       " '极具': 2675,\n",
       " '可靠': 1261,\n",
       " '更是': 2544,\n",
       " '最终': 2566,\n",
       " '之间': 559,\n",
       " '这是': 3902,\n",
       " '拉满': 2240,\n",
       " '功能键': 1043,\n",
       " '包装盒': 1072,\n",
       " '美观': 3450,\n",
       " '符合': 3300,\n",
       " '预期': 4171,\n",
       " '太强大': 1590,\n",
       " '配带': 4008,\n",
       " '时会': 2481,\n",
       " '不用': 450,\n",
       " '货后': 3717,\n",
       " '隨机': 4097,\n",
       " '双卡': 1179,\n",
       " '不錯': 471,\n",
       " '充电器': 815,\n",
       " '清晰度': 2875,\n",
       " '此款': 2741,\n",
       " '巧遇': 1863,\n",
       " '原装': 1166,\n",
       " '神速': 3257,\n",
       " '更新换代': 2543,\n",
       " '真是太': 3206,\n",
       " '定下': 1736,\n",
       " '好久': 1642,\n",
       " '实惠': 1748,\n",
       " '只用': 1247,\n",
       " '实用': 1751,\n",
       " '搜索': 2345,\n",
       " '全新': 851,\n",
       " '失望': 1618,\n",
       " '运输': 3872,\n",
       " '睡醒': 3225,\n",
       " '刷牙': 1017,\n",
       " '天机': 1566,\n",
       " '不差': 429,\n",
       " '洗脸': 2836,\n",
       " '用用': 3078,\n",
       " '货比三家': 3722,\n",
       " '同等': 1291,\n",
       " '牌子': 2983,\n",
       " '实物': 1750,\n",
       " '拿到': 2255,\n",
       " '没试': 2823,\n",
       " '钢钢': 4033,\n",
       " '半天': 1106,\n",
       " '明天': 2490,\n",
       " '一半': 259,\n",
       " '卡机': 1136,\n",
       " '垃圾': 1444,\n",
       " '星期': 2500,\n",
       " '广角镜头': 1925,\n",
       " '补电': 3592,\n",
       " '极速': 2681,\n",
       " '百分之七': 3143,\n",
       " '后放': 1301,\n",
       " '幻青': 1921,\n",
       " 'mm': 148,\n",
       " '放着不用': 2388,\n",
       " '八到': 863,\n",
       " '百分之二十': 3145,\n",
       " '很漂亮': 2017,\n",
       " '耳机': 3489,\n",
       " '快速': 2071,\n",
       " '就行了': 1832,\n",
       " '指纹识别': 2261,\n",
       " '边框': 3844,\n",
       " '拿在手上': 2256,\n",
       " '对得起': 1785,\n",
       " '背面': 3507,\n",
       " '遗憾': 3983,\n",
       " '正好': 2734,\n",
       " '唯一': 1361,\n",
       " '很棒': 2015,\n",
       " '第二部': 3327,\n",
       " '飞快': 4189,\n",
       " '货比': 3721,\n",
       " '5mm': 61,\n",
       " 'typec': 197,\n",
       " '接口': 2315,\n",
       " '订购': 3640,\n",
       " '同事': 1285,\n",
       " '感觉良好': 2122,\n",
       " '会卡顿': 699,\n",
       " '涂抹': 2854,\n",
       " '入手': 845,\n",
       " '夏天': 1476,\n",
       " '放大': 2382,\n",
       " '期间': 2612,\n",
       " '播放': 2362,\n",
       " '老公': 3459,\n",
       " '齐全': 4255,\n",
       " '软件': 3824,\n",
       " '下载': 394,\n",
       " '久些': 551,\n",
       " '换次': 2300,\n",
       " '费事': 3741,\n",
       " '昨天上午': 2509,\n",
       " '综合征': 3425,\n",
       " '前天': 1027,\n",
       " '惊喜': 2096,\n",
       " '实在': 1745,\n",
       " '微信': 2034,\n",
       " 'vivo': 205,\n",
       " '再带': 904,\n",
       " '陪伴': 4088,\n",
       " '添加': 2871,\n",
       " '自动': 3526,\n",
       " '勉勉强强': 1065,\n",
       " '触感': 3630,\n",
       " '礼盒': 3249,\n",
       " '灵敏': 2918,\n",
       " '超高': 3790,\n",
       " '丝滑': 486,\n",
       " '偏重': 776,\n",
       " '手里': 2192,\n",
       " '画面感': 3119,\n",
       " '热情周到': 2947,\n",
       " '送货上门': 3951,\n",
       " '视感': 3617,\n",
       " '试好': 3667,\n",
       " '小哥': 1803,\n",
       " '千元': 1097,\n",
       " '以旧换新': 669,\n",
       " '回收': 1402,\n",
       " '大片': 1550,\n",
       " '8p': 90,\n",
       " '10pro': 4,\n",
       " '品味': 1345,\n",
       " '风景': 4182,\n",
       " '11': 6,\n",
       " '十只': 1089,\n",
       " '不愧': 436,\n",
       " '买来': 584,\n",
       " '骆驼': 4206,\n",
       " '开心': 1953,\n",
       " '发了': 1199,\n",
       " '老婆': 3463,\n",
       " '出发': 961,\n",
       " '深圳': 2868,\n",
       " '音筒': 4143,\n",
       " '隔天': 4095,\n",
       " '立体声': 3291,\n",
       " '128': 12,\n",
       " '一千五': 256,\n",
       " '120': 10,\n",
       " '40': 43,\n",
       " '60hz': 65,\n",
       " '杠杠': 2661,\n",
       " '充电电池': 816,\n",
       " '压下来': 1148,\n",
       " '老妈': 3462,\n",
       " '上手': 376,\n",
       " '背包': 3501,\n",
       " '界面': 3125,\n",
       " '两三年': 490,\n",
       " '不开': 432,\n",
       " '一波': 310,\n",
       " '优先': 682,\n",
       " '容量': 1776,\n",
       " '参数': 1174,\n",
       " '算是': 3344,\n",
       " '科技': 3264,\n",
       " '电视直播': 3109,\n",
       " '我用': 2152,\n",
       " '收看': 2372,\n",
       " '深色': 2870,\n",
       " '大容量': 1534,\n",
       " '天气预报': 1568,\n",
       " '下雨': 397,\n",
       " '地区': 1431,\n",
       " '一充够': 244,\n",
       " '多虑': 1506,\n",
       " '特意': 2999,\n",
       " '犹豫': 3008,\n",
       " '插孔': 2341,\n",
       " '问个问题': 4064,\n",
       " '物超所值': 2991,\n",
       " '色度': 3549,\n",
       " '机器人': 2631,\n",
       " '刷新': 1014,\n",
       " '不合理': 415,\n",
       " '抗用': 2223,\n",
       " '伤眼': 712,\n",
       " '半一冲': 1100,\n",
       " '不闪屏': 474,\n",
       " '用久': 3058,\n",
       " '不累': 457,\n",
       " '动画': 1060,\n",
       " '无敌': 2457,\n",
       " '过度': 3853,\n",
       " '阳光': 4080,\n",
       " 'jbl': 129,\n",
       " '67': 73,\n",
       " '瓦快': 3046,\n",
       " '42': 45,\n",
       " '轴线': 3825,\n",
       " '振动': 2274,\n",
       " '发布会': 1206,\n",
       " '完美': 1732,\n",
       " '分钟': 978,\n",
       " '之笔': 558,\n",
       " '买值': 577,\n",
       " '画龙点睛': 3121,\n",
       " '体现': 725,\n",
       " '学习': 1709,\n",
       " '孩子': 1713,\n",
       " '还换': 3886,\n",
       " '想到': 2102,\n",
       " '第一': 3302,\n",
       " '挺舒服': 2285,\n",
       " '看着': 3193,\n",
       " '发售': 1200,\n",
       " '足够': 3798,\n",
       " '白色': 3139,\n",
       " '硬板': 3236,\n",
       " '塑料': 1456,\n",
       " '超好': 3773,\n",
       " '画质': 3117,\n",
       " '来块': 2666,\n",
       " '没太大': 2800,\n",
       " '二十天': 597,\n",
       " '男士': 3114,\n",
       " '试一试': 3665,\n",
       " '看中': 3182,\n",
       " '疫情': 3135,\n",
       " '首发': 4196,\n",
       " '爸爸': 2978,\n",
       " '送到': 3942,\n",
       " '等待': 3333,\n",
       " '包邮': 1074,\n",
       " '截屏': 2158,\n",
       " '还报': 3885,\n",
       " '闹钟': 4069,\n",
       " '完好无损': 1729,\n",
       " '好听': 1656,\n",
       " '语音': 3679,\n",
       " '美好': 3443,\n",
       " '分享': 973,\n",
       " '好多': 1658,\n",
       " '对话': 1789,\n",
       " '天气': 1567,\n",
       " '内容': 898,\n",
       " '发生': 1214,\n",
       " '良心': 3547,\n",
       " '国民': 1413,\n",
       " '不超': 466,\n",
       " '稍显': 3280,\n",
       " '十几分钟': 1086,\n",
       " '笨重': 3301,\n",
       " '不算': 455,\n",
       " '退货': 3938,\n",
       " '指纹锁': 2262,\n",
       " '每次': 2748,\n",
       " '转接器': 3819,\n",
       " '防抖功能': 4076,\n",
       " '耳机线': 3490,\n",
       " '赠送': 3757,\n",
       " '拔出': 2250,\n",
       " '专用': 478,\n",
       " '有没有': 2588,\n",
       " '音乐': 4130,\n",
       " '依然': 738,\n",
       " '今早': 649,\n",
       " '超值': 3770,\n",
       " '使用方便': 732,\n",
       " '过渡期': 3858,\n",
       " '新品': 2423,\n",
       " '轻巧': 3828,\n",
       " '最爱': 2564,\n",
       " '神奇': 3255,\n",
       " '迁移': 3847,\n",
       " '丝毫': 485,\n",
       " '客户': 1759,\n",
       " '昨天': 2508,\n",
       " '上市': 374,\n",
       " '百分之七十': 3144,\n",
       " '双生': 1188,\n",
       " '越做越': 3791,\n",
       " '刺眼': 1020,\n",
       " '玩弄': 3023,\n",
       " '迫不及待': 3925,\n",
       " '中午': 521,\n",
       " '大型': 1525,\n",
       " '同价位': 1286,\n",
       " 'cnc': 109,\n",
       " '率高': 3013,\n",
       " '成片': 2135,\n",
       " '签名': 3338,\n",
       " '切割': 979,\n",
       " '首选': 4198,\n",
       " '工艺': 1860,\n",
       " '风格': 4183,\n",
       " '黑屏': 4247,\n",
       " '他会': 657,\n",
       " '原形': 1160,\n",
       " '按键': 2264,\n",
       " '中等': 530,\n",
       " '太多': 1581,\n",
       " '染色': 2688,\n",
       " '大人': 1517,\n",
       " '母亲': 2747,\n",
       " 'note9': 173,\n",
       " ...}"
      ]
     },
     "execution_count": 13,
     "metadata": {},
     "output_type": "execute_result"
    }
   ],
   "source": [
    "from sklearn.feature_extraction.text import TfidfTransformer\n",
    "\n",
    "\n",
    "vectorizer = CountVectorizer() \n",
    "\n",
    "X = vectorizer.fit_transform(df) # 将文本中的词语转换为词频矩阵  \n",
    "\n",
    "transformer = TfidfTransformer()  \n",
    "\n",
    "tfidf = transformer.fit_transform(X)  #基于词频矩阵X计算TF-IDF值  \n",
    "tfidf\n",
    "\n",
    "\n",
    "tfidf.toarray() # 转换为数组\n",
    "\n",
    "tfidf.todense() # 转换为矩阵\n",
    "\n",
    "tfidf.todense().shape\n",
    "\n",
    "print(\"字典长度：\", len(vectorizer.vocabulary_))\n",
    "\n",
    "vectorizer.vocabulary_"
   ]
  },
  {
   "cell_type": "markdown",
   "metadata": {},
   "source": [
    "# 抽取文档主题"
   ]
  },
  {
   "cell_type": "code",
   "execution_count": 14,
   "metadata": {},
   "outputs": [],
   "source": [
    "# 设定LDA模型\n",
    "from sklearn.decomposition import LatentDirichletAllocation\n",
    "\n",
    "n_topics = 10\n",
    "ldamodel = LatentDirichletAllocation(n_components = n_topics)"
   ]
  },
  {
   "cell_type": "code",
   "execution_count": 15,
   "metadata": {},
   "outputs": [
    {
     "data": {
      "text/plain": [
       "LatentDirichletAllocation()"
      ]
     },
     "execution_count": 15,
     "metadata": {},
     "output_type": "execute_result"
    }
   ],
   "source": [
    "# 拟合LDA模型\n",
    "ldamodel.fit(tfidf)"
   ]
  },
  {
   "cell_type": "code",
   "execution_count": 16,
   "metadata": {},
   "outputs": [
    {
     "name": "stdout",
     "output_type": "stream",
     "text": [
      "(10, 4256)\n"
     ]
    },
    {
     "data": {
      "text/plain": [
       "array([[0.1       , 0.10000356, 0.36894806, ..., 0.2709622 , 0.1       ,\n",
       "        0.10000001],\n",
       "       [0.10002839, 1.82538563, 2.02723697, ..., 0.1       , 0.1       ,\n",
       "        0.10004962]])"
      ]
     },
     "execution_count": 16,
     "metadata": {},
     "output_type": "execute_result"
    }
   ],
   "source": [
    "# 拟合后模型的实质\n",
    "print(ldamodel.components_.shape)\n",
    "ldamodel.components_[:2]"
   ]
  },
  {
   "cell_type": "code",
   "execution_count": 17,
   "metadata": {},
   "outputs": [],
   "source": [
    "# 主题词打印函数\n",
    "def print_top_words(model, feature_names, n_top_words):\n",
    "    for topic_idx, topic in enumerate(model.components_):\n",
    "        print(\"Topic #%d:\" % topic_idx)\n",
    "        print(\" \".join([feature_names[i] \n",
    "                        for i in topic.argsort()[:-n_top_words - 1:-1]]))\n",
    "    print()"
   ]
  },
  {
   "cell_type": "code",
   "execution_count": 18,
   "metadata": {},
   "outputs": [
    {
     "name": "stdout",
     "output_type": "stream",
     "text": [
      "Topic #0:\n",
      "儿子 用过 母亲 一如既往 功能 超赞 完整 喜欢 小米 好用\n",
      "Topic #1:\n",
      "手机 小米 收到 不错 喜欢 性价比 很快 物流 满意 流畅\n",
      "Topic #2:\n",
      "父亲节 礼物 款式 手机 爸爸 父亲 喜欢 性价比 送给 奈斯\n",
      "Topic #3:\n",
      "手机 小米 老公 长辈 不错 做工 下载 半个 功能 一家人\n",
      "Topic #4:\n",
      "电池 拍照 运行 速度 续航 效果 不错 手机 音质 显示\n",
      "Topic #5:\n",
      "支持 王一博 百香果 代言 一博 姐姐 摩托 代言人 性价比 粉丝\n",
      "Topic #6:\n",
      "信赖 小米 还会 想象 喜欢 红米 爸爸 一如既往 支持 棒棒\n",
      "Topic #7:\n",
      "两千元 智能 回来 小爱 同学 反正 听歌 不高 一流 提升\n",
      "Topic #8:\n",
      "爸爸 手机 小米 喜欢 充电 性价比 一段时间 挺好用 赶上 感觉\n",
      "Topic #9:\n",
      "一如既往 同事 相比 划算 真不错 一张 活动 价位 手机卡 顶级\n",
      "\n"
     ]
    }
   ],
   "source": [
    "#打印出前十个主题的10个关键词信息\n",
    "n_top_words = 10\n",
    "tf_feature_names = vectorizer.get_feature_names()\n",
    "print_top_words(ldamodel, tf_feature_names, n_top_words)"
   ]
  },
  {
   "cell_type": "markdown",
   "metadata": {},
   "source": [
    "# 获取每家店铺的情感值得分"
   ]
  },
  {
   "cell_type": "code",
   "execution_count": 19,
   "metadata": {},
   "outputs": [
    {
     "data": {
      "text/plain": [
       "6.920094006312974"
      ]
     },
     "execution_count": 19,
     "metadata": {},
     "output_type": "execute_result"
    }
   ],
   "source": [
    "from snownlp import SnowNLP\n",
    "\n",
    "sen_total = []\n",
    "for topic_idx, topic in enumerate(ldamodel.components_):\n",
    "    sum_ = 0\n",
    "    str_topic = np.array([tf_feature_names[i] \n",
    "                    for i in topic.argsort()[:-n_top_words - 1:-1]])\n",
    "    for i in str_topic:     #对每个主题的情绪值求和\n",
    "           sum_ += SnowNLP(i).sentiments\n",
    "   \n",
    "    sen_total.append(sum_)\n",
    "\n",
    "sen_total = np.array(sen_total)\n",
    "sen_avg = sen_total.mean()  #对各个主题求平均\n",
    "sen_avg            "
   ]
  },
  {
   "cell_type": "markdown",
   "metadata": {},
   "source": [
    "# 评论中负面评论所占的比重"
   ]
  },
  {
   "cell_type": "code",
   "execution_count": 20,
   "metadata": {},
   "outputs": [
    {
     "data": {
      "text/plain": [
       "0.0905"
      ]
     },
     "execution_count": 20,
     "metadata": {},
     "output_type": "execute_result"
    }
   ],
   "source": [
    "grades = [ ]\n",
    "neg_grades = []\n",
    "for i, value in enumerate(df):\n",
    "    sum_ = 0 \n",
    "    for j in value.split(\" \"):\n",
    "        sum_+= SnowNLP(j).sentiments\n",
    "    avg_word = sum_/len(value.split(\" \"))  \n",
    "    \n",
    "    if avg_word < 0.5:\n",
    "        neg_grades.append(avg_word)\n",
    "    grades.append(avg_word)    \n",
    "# grades        \n",
    "ratio =len( neg_grades)/len(grades)\n",
    "ratio    "
   ]
  },
  {
   "cell_type": "markdown",
   "metadata": {},
   "source": [
    "# 从词频的角度获取每家店铺的综合得分"
   ]
  },
  {
   "cell_type": "code",
   "execution_count": 147,
   "metadata": {},
   "outputs": [
    {
     "name": "stderr",
     "output_type": "stream",
     "text": [
      "D:\\Anaconda3\\Anaconda3\\lib\\site-packages\\ipykernel_launcher.py:35: SettingWithCopyWarning: \n",
      "A value is trying to be set on a copy of a slice from a DataFrame\n",
      "\n",
      "See the caveats in the documentation: http://pandas.pydata.org/pandas-docs/stable/user_guide/indexing.html#returning-a-view-versus-a-copy\n",
      "D:\\Anaconda3\\Anaconda3\\lib\\site-packages\\pandas\\core\\indexing.py:205: SettingWithCopyWarning: \n",
      "A value is trying to be set on a copy of a slice from a DataFrame\n",
      "\n",
      "See the caveats in the documentation: http://pandas.pydata.org/pandas-docs/stable/user_guide/indexing.html#returning-a-view-versus-a-copy\n",
      "  self._setitem_with_indexer(indexer, value)\n"
     ]
    }
   ],
   "source": [
    "file_all = pd.DataFrame()\n",
    "file_all['词频综合'] = 0\n",
    "file_all['店铺名称'] = names\n",
    "\n",
    "for parent,dirnames,filenames in os.walk(r'../data/taobao/new/评论数据/'):\n",
    "    for filename in filenames:\n",
    "        \n",
    "#         print(filename[0:-4])\n",
    "#         print(parent+filename)\n",
    "        df = pd.read_csv(parent+filename,skiprows =1,lineterminator=\"\\n\") \n",
    "        df = df.iloc[:len(df)-2]['评价内容']\n",
    "        \n",
    "        #分词\n",
    "        dict1 = '../data/nlp/电商客服输入法.txt'\n",
    "        dict2 = '../data/nlp/电子商务专用词汇.txt'\n",
    "        jieba.load_userdict(dict1) # dict_为自定义词典的路径\n",
    "        jieba.load_userdict(dict2) # dict_为自定义词典的路径\n",
    "\n",
    "\n",
    "        # 去除停用词\n",
    "        ana.set_stop_words('../data/nlp/停用词.txt')\n",
    "\n",
    "        for i,value in enumerate(df):\n",
    "            res = ana.extract_tags(value , topK = 50) # 使用TF-IDF算法提取关键词，并同时去掉停用词\n",
    "            df[i] = ' '.join(res)\n",
    "                         \n",
    "        str_sum = \"\"  #把一篇文章的所有评论综合在一起\n",
    "        for i in df:\n",
    "            str_sum += i\n",
    "#         print(str_sum)\n",
    "  \n",
    "#         file_all[file_all['店铺名称'] == filename[0:-4]]['词频综合得分'] = str_sum\n",
    "        for i,filename2 in enumerate(file_all['店铺名称']):\n",
    "            if filename2.strip() == filename[0:-4].strip():\n",
    "                file_all['词频综合'][i] = str_sum   \n",
    "                \n",
    "        \n",
    "\n",
    "#         print(file_all[file_all['店铺名称'] == filename]['词频综合得分'])\n",
    "file_all.to_csv(r'../data/taobao/new/nlp词频综合.csv',encoding=\"utf_8_sig\")\n",
    "        \n",
    "#         print(df)"
   ]
  },
  {
   "cell_type": "code",
   "execution_count": 148,
   "metadata": {},
   "outputs": [
    {
     "data": {
      "text/plain": [
       "店铺名称\n",
       "艾美特官方旗舰店      NaN\n",
       "dji大疆官方旗舰店    NaN\n",
       "Name: 词频综合, dtype: object"
      ]
     },
     "execution_count": 148,
     "metadata": {},
     "output_type": "execute_result"
    },
    {
     "data": {
      "text/plain": [
       "店铺名称\n",
       "小米官方旗舰店        不错 拍照 快充 处理器 视频 拍摄 电池容量 能充 80% 天矶 效果 屏幕显示 看图 质...\n",
       "闪魔旗舰店          贴合 手感 钢化 触屏 蓝光 严严实实 性价比 材质 强硬 实惠 灵敏 这款 光滑 细腻 尺...\n",
       "绿联数码旗舰店        折不断 qaq 丝滑 防窥膜 林林总总 撕下来 服务态度 起泡 输油 手感 品质 没什么 那...\n",
       "baseus倍思旗舰店    耳机 充电 仓里 蓝牙 挺不错 没电 杂音 音质 双耳 质感 佩戴 稳固 做工 脱落 细致 ...\n",
       "                                     ...                        \n",
       "魅幻电器旗舰店        够买 换上 规格 合适 放心 标准霉迹 密封性 密封条 换过 斑斑 焕然一新 冰箱 宝贝 尺...\n",
       "斗蒙电器旗舰店        好差 前两天 一分钟 整整 太阳 质量 一个 真的光顾 欣喜 快去 宝贝 安装 收到服务态度...\n",
       "doremi旗舰店      耳朵 高低音 耳朵痛 跑步 佩戴 健身 立体 牢固 不适 精致 舒服 包装 清晰 感受 音乐...\n",
       "卓饰蕊车品旗舰店       做工 风量 物有所值 性价比 精细 外观 满意 评价 质量 整体 情况调节开关 对了 档位 ...\n",
       "Name: 词频综合, Length: 141, dtype: object"
      ]
     },
     "execution_count": 148,
     "metadata": {},
     "output_type": "execute_result"
    },
    {
     "data": {
      "text/plain": [
       "<141x141986 sparse matrix of type '<class 'numpy.float64'>'\n",
       "\twith 370653 stored elements in Compressed Sparse Row format>"
      ]
     },
     "execution_count": 148,
     "metadata": {},
     "output_type": "execute_result"
    },
    {
     "data": {
      "text/plain": [
       "array([[0.00140908, 0.        , 0.        , ..., 0.        , 0.        ,\n",
       "        0.        ],\n",
       "       [0.        , 0.        , 0.        , ..., 0.        , 0.        ,\n",
       "        0.        ],\n",
       "       [0.        , 0.        , 0.        , ..., 0.        , 0.        ,\n",
       "        0.        ],\n",
       "       ...,\n",
       "       [0.        , 0.        , 0.        , ..., 0.        , 0.        ,\n",
       "        0.        ],\n",
       "       [0.        , 0.        , 0.        , ..., 0.        , 0.        ,\n",
       "        0.        ],\n",
       "       [0.        , 0.        , 0.        , ..., 0.        , 0.        ,\n",
       "        0.        ]])"
      ]
     },
     "execution_count": 148,
     "metadata": {},
     "output_type": "execute_result"
    },
    {
     "data": {
      "text/plain": [
       "(141, 141986)"
      ]
     },
     "execution_count": 148,
     "metadata": {},
     "output_type": "execute_result"
    }
   ],
   "source": [
    "file_all = pd.read_csv(r'../data/taobao/new/nlp词频综合.csv')\n",
    "file_all = file_all.set_index(\"店铺名称\", drop=True)['词频综合']\n",
    "file_all[file_all.isnull()==True]\n",
    "file_all = file_all.dropna()\n",
    "file_all\n",
    "\n",
    "#特征提取\n",
    "vectorizer = CountVectorizer() \n",
    "X = vectorizer.fit_transform(file_all) # 将文本中的词语转换为词频矩阵  \n",
    "transformer = TfidfTransformer()  \n",
    "tfidf = transformer.fit_transform(X)  #基于词频矩阵X计算TF-IDF值  \n",
    "tfidf\n",
    "\n",
    "tfidf.toarray() # 转换为数组\n",
    "# tfidf.todense() # 转换为矩阵\n",
    "tfidf.todense().shape\n",
    "# print(\"字典长度：\", len(vectorizer.vocabulary_))\n",
    "# vectorizer.vocabulary_"
   ]
  },
  {
   "cell_type": "code",
   "execution_count": null,
   "metadata": {},
   "outputs": [],
   "source": [
    "# 导入WordCloud及配置模块\n",
    "from pyecharts import options as opts\n",
    "from pyecharts.charts import WordCloud\n",
    "from pyecharts.globals import SymbolType\n",
    "\n",
    "\n",
    "file_dict = { }\n",
    "for i,value in enumerate(file_all):\n",
    "    s = value.split(' ')\n",
    "    for word in s:\n",
    "        if word in file_dict:\n",
    "            file_dict[word] += 1\n",
    "        else:\n",
    "            file_dict[word] = 1    \n",
    "            \n",
    "\n",
    "#pyecharts需要的数据格式为二维数组:\n",
    "#[['的' '232'],['情感' '119'],['和' '42']]\n",
    "\n",
    "def create_wcloud(self):\n",
    "    (\n",
    "        WordCloud()\n",
    "            .add(series_name=\"热词云图_电器\",\n",
    "                 # 添加数据\n",
    "                 data_pair=self,\n",
    "                 # 字间隙\n",
    "                 word_gap=5,\n",
    "                 # 调整字大小范围\n",
    "                 word_size_range=[15, 80],\n",
    "                   # 词云图轮廓，有 'circle', 'cardioid', 'diamond', 'triangle-forward', 'triangle', 'pentagon', 'star' 可选\n",
    "#                  shape=\"diamond\"\n",
    "                 # 选择背景图，也可以不加该参数，使用默认背景\n",
    "#                  mask_image = r'../data/nlp/background (2).png'\n",
    "\n",
    "            )\n",
    "            .set_global_opts(\n",
    "            title_opts=opts.TitleOpts(\n",
    "                title=\"热词云图_电器\", title_textstyle_opts=opts.TextStyleOpts(font_size=23)\n",
    "            ),\n",
    "            tooltip_opts=opts.TooltipOpts(is_show=True),\n",
    "        )\n",
    "            # 输出为html格式\n",
    "            .render(\"热词云图_test.html\")\n",
    "    )\n",
    "\n",
    "# WordCloud模块，链式调用配置，最终生成html文件\n",
    "tuple0 = tuple(items for items in file_dict.items())\n",
    "create_wcloud(tuple0)"
   ]
  },
  {
   "cell_type": "markdown",
   "metadata": {},
   "source": [
    "# 获取食品数据"
   ]
  },
  {
   "cell_type": "code",
   "execution_count": 167,
   "metadata": {},
   "outputs": [
    {
     "name": "stderr",
     "output_type": "stream",
     "text": [
      "D:\\Anaconda3\\Anaconda3\\lib\\site-packages\\ipykernel_launcher.py:38: SettingWithCopyWarning: \n",
      "A value is trying to be set on a copy of a slice from a DataFrame\n",
      "\n",
      "See the caveats in the documentation: http://pandas.pydata.org/pandas-docs/stable/user_guide/indexing.html#returning-a-view-versus-a-copy\n",
      "D:\\Anaconda3\\Anaconda3\\lib\\site-packages\\pandas\\core\\indexing.py:205: SettingWithCopyWarning: \n",
      "A value is trying to be set on a copy of a slice from a DataFrame\n",
      "\n",
      "See the caveats in the documentation: http://pandas.pydata.org/pandas-docs/stable/user_guide/indexing.html#returning-a-view-versus-a-copy\n",
      "  self._setitem_with_indexer(indexer, value)\n"
     ]
    }
   ],
   "source": [
    "tmp = pd.read_excel(r'../data/taobao/new/shipin_plus.xlsx')\n",
    "\n",
    "\n",
    "file_all2 = pd.DataFrame()\n",
    "file_all2['词频综合'] = 0\n",
    "file_all2['店铺名称'] = tmp['店铺名字']\n",
    "\n",
    "for parent,dirnames,filenames in os.walk(r'../data/taobao/new/评论数据_食品/'):\n",
    "    for filename in filenames:\n",
    "        \n",
    "#         print(filename[0:-4])\n",
    "#         print(parent+filename)\n",
    "        df = pd.read_csv(parent+filename,skiprows =1,lineterminator=\"\\n\") \n",
    "        df = df.iloc[:len(df)-2]['评价内容']\n",
    "        \n",
    "        #分词\n",
    "        dict1 = '../data/nlp/电商客服输入法.txt'\n",
    "        dict2 = '../data/nlp/电子商务专用词汇.txt'\n",
    "        jieba.load_userdict(dict1) # dict_为自定义词典的路径\n",
    "        jieba.load_userdict(dict2) # dict_为自定义词典的路径\n",
    "\n",
    "\n",
    "        # 去除停用词\n",
    "        ana.set_stop_words('../data/nlp/停用词.txt')\n",
    "\n",
    "        for i,value in enumerate(df):\n",
    "            res = ana.extract_tags(value , topK = 50) # 使用TF-IDF算法提取关键词，并同时去掉停用词\n",
    "            df[i] = ' '.join(res)\n",
    "                         \n",
    "        str_sum = \"\"  #把一篇文章的所有评论综合在一起\n",
    "        for i in df:\n",
    "            str_sum += i\n",
    "#         print(str_sum)\n",
    "  \n",
    "#         file_all[file_all['店铺名称'] == filename[0:-4]]['词频综合得分'] = str_sum\n",
    "        for i,filename2 in enumerate(file_all2['店铺名称']):\n",
    "            if filename2.strip() == filename[0:-4].strip():\n",
    "                file_all2['词频综合'][i] = str_sum   \n",
    "                \n",
    "        \n",
    "\n",
    "#         print(file_all[file_all['店铺名称'] == filename]['词频综合得分'])\n",
    "file_all2.to_csv(r'../data/taobao/new/nlp词频综合_食品.csv',encoding=\"utf_8_sig\")\n",
    "        \n",
    "#         print(df)"
   ]
  },
  {
   "cell_type": "code",
   "execution_count": 170,
   "metadata": {},
   "outputs": [
    {
     "data": {
      "text/plain": [
       "店铺名称\n",
       "良品铺子旗舰店      NaN\n",
       "鲨鱼菲特旗舰店      NaN\n",
       "零趣食品旗舰店      NaN\n",
       "肌肉小王子旗舰店     NaN\n",
       "            ... \n",
       "零度果坊食品旗舰店    NaN\n",
       "罗锦记食品旗舰店     NaN\n",
       "蜜之番旗舰店       NaN\n",
       "鑫炳记旗舰店       NaN\n",
       "Name: 词频综合, Length: 38, dtype: object"
      ]
     },
     "execution_count": 170,
     "metadata": {},
     "output_type": "execute_result"
    },
    {
     "data": {
      "text/plain": [
       "店铺名称\n",
       "百草味旗舰店      凤爪 藕片 果干 张哲瀚 海哲会 哲瀚 甜辣 无骨 瀚海 百草 保质期 辣味 一点 坚果 一...\n",
       "三只松鼠旗舰店     坚果 好吃 中缝 果干 还套 摇一摇 香脆 nb 健康 酸甜 腰果 心脑血管 份量 口感 换...\n",
       "比比赞旗舰店      分量 不错 好吃 新鲜度 保质期 口感 包装 味道 品质 满意 商品酥脆 口味 超好 超棒 ...\n",
       "尚巧厨旗舰店      冰袋 没化 蛋挞 不错 挞皮 现做 太棒 总怕 酥脆 严实 一点 好吃 分量 好几个 变形 ...\n",
       "                                  ...                        \n",
       "名仁旗舰店       不错 品相 难易 口感 配件 溶解 外观 包装 味道 品质 肯定口感 发货 破损 优惠 瓶装...\n",
       "盛源来食品旗舰店    裙带菜 先给 好评 买来 视频 宝宝 营养賣家 裙帶 泡發 味道 物流 寶貝 嚴實 乾淨 沒...\n",
       "文和友官方旗舰店    香辣 过瘾 正宗 口味 味道小龙虾 味道 新鲜 不错 放心 购买挺香 买少 买点 好评 好吃...\n",
       "渝美滋食品旗舰店    豆干 味道 不错 cj 麻辣味 店豆 几袋 购买 喜欢 光顾 客服 下次 一包 好吃 这家 ...\n",
       "Name: 词频综合, Length: 112, dtype: object"
      ]
     },
     "execution_count": 170,
     "metadata": {},
     "output_type": "execute_result"
    },
    {
     "data": {
      "text/plain": [
       "<112x126097 sparse matrix of type '<class 'numpy.float64'>'\n",
       "\twith 307426 stored elements in Compressed Sparse Row format>"
      ]
     },
     "execution_count": 170,
     "metadata": {},
     "output_type": "execute_result"
    },
    {
     "data": {
      "text/plain": [
       "array([[0., 0., 0., ..., 0., 0., 0.],\n",
       "       [0., 0., 0., ..., 0., 0., 0.],\n",
       "       [0., 0., 0., ..., 0., 0., 0.],\n",
       "       ...,\n",
       "       [0., 0., 0., ..., 0., 0., 0.],\n",
       "       [0., 0., 0., ..., 0., 0., 0.],\n",
       "       [0., 0., 0., ..., 0., 0., 0.]])"
      ]
     },
     "execution_count": 170,
     "metadata": {},
     "output_type": "execute_result"
    },
    {
     "data": {
      "text/plain": [
       "(112, 126097)"
      ]
     },
     "execution_count": 170,
     "metadata": {},
     "output_type": "execute_result"
    }
   ],
   "source": [
    "file_all2 = pd.read_csv(r'../data/taobao/new/nlp词频综合_食品.csv')\n",
    "file_all2 = file_all2.set_index(\"店铺名称\", drop=True)['词频综合']\n",
    "file_all2[file_all2.isnull()==True]\n",
    "file_all2 = file_all2.dropna()\n",
    "file_all2\n",
    "\n",
    "#特征提取\n",
    "vectorizer = CountVectorizer() \n",
    "X = vectorizer.fit_transform(file_all2) # 将文本中的词语转换为词频矩阵  \n",
    "transformer = TfidfTransformer()  \n",
    "tfidf = transformer.fit_transform(X)  #基于词频矩阵X计算TF-IDF值  \n",
    "tfidf\n",
    "\n",
    "tfidf.toarray() # 转换为数组\n",
    "# tfidf.todense() # 转换为矩阵\n",
    "tfidf.todense().shape\n",
    "# print(\"字典长度：\", len(vectorizer.vocabulary_))\n",
    "# vectorizer.vocabulary_"
   ]
  },
  {
   "cell_type": "code",
   "execution_count": 173,
   "metadata": {},
   "outputs": [],
   "source": [
    "# 导入WordCloud及配置模块\n",
    "from pyecharts import options as opts\n",
    "from pyecharts.charts import WordCloud\n",
    "from pyecharts.globals import SymbolType\n",
    "\n",
    "\n",
    "file_dict = { }\n",
    "for i,value in enumerate(file_all2):\n",
    "    s = value.split(' ')\n",
    "    for word in s:\n",
    "        if word in file_dict:\n",
    "            file_dict[word] += 1\n",
    "        else:\n",
    "            file_dict[word] = 1    \n",
    "            \n",
    "\n",
    "#pyecharts需要的数据格式为二维数组:\n",
    "#[['的' '232'],['情感' '119'],['和' '42']]\n",
    "\n",
    "def create_wcloud(self):\n",
    "    (\n",
    "        WordCloud()\n",
    "            .add(series_name=\"热词云图_食品\",\n",
    "                 # 添加数据\n",
    "                 data_pair=self,\n",
    "                 # 字间隙\n",
    "                 word_gap=5,\n",
    "                 # 调整字大小范围\n",
    "                 word_size_range=[15, 80],\n",
    "                   # 词云图轮廓，有 'circle', 'cardioid', 'diamond', 'triangle-forward', 'triangle', 'pentagon', 'star' 可选\n",
    "#                  shape=\"diamond\"\n",
    "                 # 选择背景图，也可以不加该参数，使用默认背景\n",
    "#                  mask_image = r'../data/nlp/background (2).png'\n",
    "\n",
    "            )\n",
    "            .set_global_opts(\n",
    "            title_opts=opts.TitleOpts(\n",
    "                title=\"热词云图_食品\", title_textstyle_opts=opts.TextStyleOpts(font_size=23)\n",
    "            ),\n",
    "            tooltip_opts=opts.TooltipOpts(is_show=True),\n",
    "        )\n",
    "            # 输出为html格式\n",
    "            .render(\"热词云图_食品.vue\")\n",
    "    )\n",
    "\n",
    "# WordCloud模块，链式调用配置，最终生成html文件\n",
    "tuple0 = tuple(items for items in file_dict.items())\n",
    "create_wcloud(tuple0[0:50])"
   ]
  },
  {
   "cell_type": "code",
   "execution_count": null,
   "metadata": {},
   "outputs": [],
   "source": []
  },
  {
   "cell_type": "markdown",
   "metadata": {},
   "source": [
    "# Kmeans聚类"
   ]
  },
  {
   "cell_type": "code",
   "execution_count": 150,
   "metadata": {},
   "outputs": [
    {
     "name": "stderr",
     "output_type": "stream",
     "text": [
      "D:\\Anaconda3\\Anaconda3\\lib\\site-packages\\sklearn\\cluster\\_kmeans.py:793: FutureWarning: 'n_jobs' was deprecated in version 0.23 and will be removed in 1.0 (renaming of 0.25).\n",
      "  \" removed in 1.0 (renaming of 0.25).\", FutureWarning)\n"
     ]
    },
    {
     "data": {
      "text/plain": [
       "KMeans(max_iter=500, n_clusters=6, n_jobs=8, random_state=1234)"
      ]
     },
     "execution_count": 150,
     "metadata": {},
     "output_type": "execute_result"
    },
    {
     "data": {
      "text/plain": [
       "0    136\n",
       "5      1\n",
       "4      1\n",
       "3      1\n",
       "2      1\n",
       "1      1\n",
       "dtype: int64"
      ]
     },
     "execution_count": 150,
     "metadata": {},
     "output_type": "execute_result"
    },
    {
     "data": {
      "text/plain": [
       "array([0, 0, 0, 0, 3, 0, 0, 0, 0, 0, 0, 0, 0, 0, 0, 0, 0, 0, 0, 0, 0, 0,\n",
       "       0, 0, 0, 0, 0, 0, 0, 0, 0, 5, 0, 0, 0, 0, 0, 0, 0, 2, 0, 0, 0, 0,\n",
       "       0, 0, 0, 0, 0, 0, 0, 0, 0, 0, 0, 0, 0, 0, 0, 1, 0, 0, 0, 0, 0, 0,\n",
       "       0, 0, 0, 0, 0, 0, 0, 0, 0, 0, 0, 0, 0, 0, 0, 0, 0, 0, 0, 0, 0, 0,\n",
       "       0, 0, 0, 0, 0, 0, 0, 0, 0, 0, 0, 0, 0, 0, 0, 0, 0, 0, 0, 0, 0, 0,\n",
       "       0, 0, 0, 0, 0, 0, 0, 0, 0, 0, 0, 0, 0, 0, 0, 0, 0, 0, 0, 4, 0, 0,\n",
       "       0, 0, 0, 0, 0, 0, 0, 0, 0])"
      ]
     },
     "execution_count": 150,
     "metadata": {},
     "output_type": "execute_result"
    },
    {
     "name": "stdout",
     "output_type": "stream",
     "text": [
      "     0         1          2         3         4         5         6       \\\n",
      "0  0.006200  0.003096  -0.084215  0.003628  0.003096  0.003096  0.003096   \n",
      "1 -0.168641 -0.084215  -0.084215 -0.098680 -0.084215 -0.084215 -0.084215   \n",
      "2 -0.168641 -0.084215  11.790127 -0.098680 -0.084215 -0.084215 -0.084215   \n",
      "3 -0.168641 -0.084215  -0.084215 -0.098680 -0.084215 -0.084215 -0.084215   \n",
      "4 -0.168641 -0.084215  -0.084215 -0.098680 -0.084215 -0.084215 -0.084215   \n",
      "5 -0.168641 -0.084215  -0.084215 -0.098680 -0.084215 -0.084215 -0.084215   \n",
      "\n",
      "     7         8         9       ...    141977    141978    141979    141980  \\\n",
      "0  0.003096  0.003628  0.004976  ...  0.003096  0.003096  0.003096  0.003096   \n",
      "1 -0.084215 -0.098680 -0.135351  ... -0.084215 -0.084215 -0.084215 -0.084215   \n",
      "2 -0.084215 -0.098680 -0.135351  ... -0.084215 -0.084215 -0.084215 -0.084215   \n",
      "3 -0.084215 -0.098680 -0.135351  ... -0.084215 -0.084215 -0.084215 -0.084215   \n",
      "4 -0.084215 -0.098680 -0.135351  ... -0.084215 -0.084215 -0.084215 -0.084215   \n",
      "5 -0.084215 -0.098680 -0.135351  ... -0.084215 -0.084215 -0.084215 -0.084215   \n",
      "\n",
      "      141981    141982    141983    141984    141985  0       \n",
      "0  -0.084215  0.003096  0.004291  0.003096 -0.015973     136  \n",
      "1  -0.084215 -0.084215 -0.116725 -0.084215  3.005745       1  \n",
      "2  11.790127 -0.084215 -0.116725 -0.084215 -0.208348       1  \n",
      "3  -0.084215 -0.084215 -0.116725 -0.084215 -0.208348       1  \n",
      "4  -0.084215 -0.084215 -0.116725 -0.084215 -0.208348       1  \n",
      "5  -0.084215 -0.084215 -0.116725 -0.084215 -0.208348       1  \n",
      "\n",
      "[6 rows x 141987 columns]\n"
     ]
    }
   ],
   "source": [
    "# 参数初始化\n",
    "outputfile = '../data/taobao/new/data_type.xls'  # 保存结果的文件名\n",
    "k = 6  # 聚类的类别\n",
    "iteration = 500  # 聚类最大循环次数\n",
    "data = pd.DataFrame(tfidf.toarray())\n",
    "data_zs = 1.0*(data - data.mean())/data.std()  # 数据标准化\n",
    "\n",
    "from sklearn.cluster import KMeans\n",
    "model = KMeans(n_clusters = k, n_jobs = 8, max_iter = iteration,random_state=1234)  # 分为k类，并发数8\n",
    "model.fit(data_zs)  # 开始聚类\n",
    "\n",
    "# 简单打印结果\n",
    "r1 = pd.Series(model.labels_).value_counts()  # 统计各个类别的数目\n",
    "r2 = pd.DataFrame(model.cluster_centers_)  # 找出聚类中心\n",
    "r = pd.concat([r2, r1], axis = 1)  # 横向连接（0是纵向），得到聚类中心对应的类别下的数目\n",
    "# r.columns = ['店铺名称'] + ['类别数目']  # 重命名表头\n",
    "pd.Series(model.labels_).value_counts()  # 统计各个类别的数目\n",
    "\n",
    "model.labels_\n",
    "print(r)\n",
    "\n",
    "# 详细输出原始数据及其类别\n",
    "r = pd.Series(model.labels_, index = file_all.index)   # 详细输出每个样本对应的类别\n",
    "# r.columns = list(data.columns) + ['聚类类别']  # 重命名表头\n",
    "r.to_excel(outputfile)  # 保存结果\n",
    "\n",
    "\n",
    "# pic_output = '../data/tmp/pd'  # 概率密度图文件名前缀\n",
    "# for i in range(k):\n",
    "#     density_plot(data[r[u'聚类类别']==i]).savefig(u'%s%s.png' %(pic_output, i))\n",
    " "
   ]
  },
  {
   "cell_type": "code",
   "execution_count": 114,
   "metadata": {},
   "outputs": [
    {
     "data": {
      "text/html": [
       "<div>\n",
       "<style scoped>\n",
       "    .dataframe tbody tr th:only-of-type {\n",
       "        vertical-align: middle;\n",
       "    }\n",
       "\n",
       "    .dataframe tbody tr th {\n",
       "        vertical-align: top;\n",
       "    }\n",
       "\n",
       "    .dataframe thead th {\n",
       "        text-align: right;\n",
       "    }\n",
       "</style>\n",
       "<table border=\"1\" class=\"dataframe\">\n",
       "  <thead>\n",
       "    <tr style=\"text-align: right;\">\n",
       "      <th></th>\n",
       "      <th>0</th>\n",
       "      <th>1</th>\n",
       "      <th>2</th>\n",
       "      <th>3</th>\n",
       "      <th>4</th>\n",
       "      <th>5</th>\n",
       "      <th>6</th>\n",
       "      <th>7</th>\n",
       "      <th>8</th>\n",
       "      <th>9</th>\n",
       "      <th>...</th>\n",
       "      <th>128268</th>\n",
       "      <th>128269</th>\n",
       "      <th>128270</th>\n",
       "      <th>128271</th>\n",
       "      <th>128272</th>\n",
       "      <th>128273</th>\n",
       "      <th>128274</th>\n",
       "      <th>128275</th>\n",
       "      <th>128276</th>\n",
       "      <th>聚类类别</th>\n",
       "    </tr>\n",
       "  </thead>\n",
       "  <tbody>\n",
       "    <tr>\n",
       "      <td>0</td>\n",
       "      <td>0.00162</td>\n",
       "      <td>0.0</td>\n",
       "      <td>0.0</td>\n",
       "      <td>0.0</td>\n",
       "      <td>0.0</td>\n",
       "      <td>0.0</td>\n",
       "      <td>0.0</td>\n",
       "      <td>0.0</td>\n",
       "      <td>0.0</td>\n",
       "      <td>0.0</td>\n",
       "      <td>...</td>\n",
       "      <td>0.0</td>\n",
       "      <td>0.0</td>\n",
       "      <td>0.0</td>\n",
       "      <td>0.0</td>\n",
       "      <td>0.0</td>\n",
       "      <td>0.0</td>\n",
       "      <td>0.0</td>\n",
       "      <td>0.0</td>\n",
       "      <td>0.0</td>\n",
       "      <td>NaN</td>\n",
       "    </tr>\n",
       "    <tr>\n",
       "      <td>1</td>\n",
       "      <td>0.00000</td>\n",
       "      <td>0.0</td>\n",
       "      <td>0.0</td>\n",
       "      <td>0.0</td>\n",
       "      <td>0.0</td>\n",
       "      <td>0.0</td>\n",
       "      <td>0.0</td>\n",
       "      <td>0.0</td>\n",
       "      <td>0.0</td>\n",
       "      <td>0.0</td>\n",
       "      <td>...</td>\n",
       "      <td>0.0</td>\n",
       "      <td>0.0</td>\n",
       "      <td>0.0</td>\n",
       "      <td>0.0</td>\n",
       "      <td>0.0</td>\n",
       "      <td>0.0</td>\n",
       "      <td>0.0</td>\n",
       "      <td>0.0</td>\n",
       "      <td>0.0</td>\n",
       "      <td>NaN</td>\n",
       "    </tr>\n",
       "    <tr>\n",
       "      <td>2</td>\n",
       "      <td>0.00000</td>\n",
       "      <td>0.0</td>\n",
       "      <td>0.0</td>\n",
       "      <td>0.0</td>\n",
       "      <td>0.0</td>\n",
       "      <td>0.0</td>\n",
       "      <td>0.0</td>\n",
       "      <td>0.0</td>\n",
       "      <td>0.0</td>\n",
       "      <td>0.0</td>\n",
       "      <td>...</td>\n",
       "      <td>0.0</td>\n",
       "      <td>0.0</td>\n",
       "      <td>0.0</td>\n",
       "      <td>0.0</td>\n",
       "      <td>0.0</td>\n",
       "      <td>0.0</td>\n",
       "      <td>0.0</td>\n",
       "      <td>0.0</td>\n",
       "      <td>0.0</td>\n",
       "      <td>NaN</td>\n",
       "    </tr>\n",
       "    <tr>\n",
       "      <td>3</td>\n",
       "      <td>0.00000</td>\n",
       "      <td>0.0</td>\n",
       "      <td>0.0</td>\n",
       "      <td>0.0</td>\n",
       "      <td>0.0</td>\n",
       "      <td>0.0</td>\n",
       "      <td>0.0</td>\n",
       "      <td>0.0</td>\n",
       "      <td>0.0</td>\n",
       "      <td>0.0</td>\n",
       "      <td>...</td>\n",
       "      <td>0.0</td>\n",
       "      <td>0.0</td>\n",
       "      <td>0.0</td>\n",
       "      <td>0.0</td>\n",
       "      <td>0.0</td>\n",
       "      <td>0.0</td>\n",
       "      <td>0.0</td>\n",
       "      <td>0.0</td>\n",
       "      <td>0.0</td>\n",
       "      <td>NaN</td>\n",
       "    </tr>\n",
       "    <tr>\n",
       "      <td>...</td>\n",
       "      <td>...</td>\n",
       "      <td>...</td>\n",
       "      <td>...</td>\n",
       "      <td>...</td>\n",
       "      <td>...</td>\n",
       "      <td>...</td>\n",
       "      <td>...</td>\n",
       "      <td>...</td>\n",
       "      <td>...</td>\n",
       "      <td>...</td>\n",
       "      <td>...</td>\n",
       "      <td>...</td>\n",
       "      <td>...</td>\n",
       "      <td>...</td>\n",
       "      <td>...</td>\n",
       "      <td>...</td>\n",
       "      <td>...</td>\n",
       "      <td>...</td>\n",
       "      <td>...</td>\n",
       "      <td>...</td>\n",
       "      <td>...</td>\n",
       "    </tr>\n",
       "    <tr>\n",
       "      <td>飞利浦厨房电器旗舰店</td>\n",
       "      <td>NaN</td>\n",
       "      <td>NaN</td>\n",
       "      <td>NaN</td>\n",
       "      <td>NaN</td>\n",
       "      <td>NaN</td>\n",
       "      <td>NaN</td>\n",
       "      <td>NaN</td>\n",
       "      <td>NaN</td>\n",
       "      <td>NaN</td>\n",
       "      <td>NaN</td>\n",
       "      <td>...</td>\n",
       "      <td>NaN</td>\n",
       "      <td>NaN</td>\n",
       "      <td>NaN</td>\n",
       "      <td>NaN</td>\n",
       "      <td>NaN</td>\n",
       "      <td>NaN</td>\n",
       "      <td>NaN</td>\n",
       "      <td>NaN</td>\n",
       "      <td>NaN</td>\n",
       "      <td>5.0</td>\n",
       "    </tr>\n",
       "    <tr>\n",
       "      <td>飞科科品专卖店</td>\n",
       "      <td>NaN</td>\n",
       "      <td>NaN</td>\n",
       "      <td>NaN</td>\n",
       "      <td>NaN</td>\n",
       "      <td>NaN</td>\n",
       "      <td>NaN</td>\n",
       "      <td>NaN</td>\n",
       "      <td>NaN</td>\n",
       "      <td>NaN</td>\n",
       "      <td>NaN</td>\n",
       "      <td>...</td>\n",
       "      <td>NaN</td>\n",
       "      <td>NaN</td>\n",
       "      <td>NaN</td>\n",
       "      <td>NaN</td>\n",
       "      <td>NaN</td>\n",
       "      <td>NaN</td>\n",
       "      <td>NaN</td>\n",
       "      <td>NaN</td>\n",
       "      <td>NaN</td>\n",
       "      <td>0.0</td>\n",
       "    </tr>\n",
       "    <tr>\n",
       "      <td>魅幻电器旗舰店</td>\n",
       "      <td>NaN</td>\n",
       "      <td>NaN</td>\n",
       "      <td>NaN</td>\n",
       "      <td>NaN</td>\n",
       "      <td>NaN</td>\n",
       "      <td>NaN</td>\n",
       "      <td>NaN</td>\n",
       "      <td>NaN</td>\n",
       "      <td>NaN</td>\n",
       "      <td>NaN</td>\n",
       "      <td>...</td>\n",
       "      <td>NaN</td>\n",
       "      <td>NaN</td>\n",
       "      <td>NaN</td>\n",
       "      <td>NaN</td>\n",
       "      <td>NaN</td>\n",
       "      <td>NaN</td>\n",
       "      <td>NaN</td>\n",
       "      <td>NaN</td>\n",
       "      <td>NaN</td>\n",
       "      <td>0.0</td>\n",
       "    </tr>\n",
       "    <tr>\n",
       "      <td>龟派车品旗舰店</td>\n",
       "      <td>NaN</td>\n",
       "      <td>NaN</td>\n",
       "      <td>NaN</td>\n",
       "      <td>NaN</td>\n",
       "      <td>NaN</td>\n",
       "      <td>NaN</td>\n",
       "      <td>NaN</td>\n",
       "      <td>NaN</td>\n",
       "      <td>NaN</td>\n",
       "      <td>NaN</td>\n",
       "      <td>...</td>\n",
       "      <td>NaN</td>\n",
       "      <td>NaN</td>\n",
       "      <td>NaN</td>\n",
       "      <td>NaN</td>\n",
       "      <td>NaN</td>\n",
       "      <td>NaN</td>\n",
       "      <td>NaN</td>\n",
       "      <td>NaN</td>\n",
       "      <td>NaN</td>\n",
       "      <td>2.0</td>\n",
       "    </tr>\n",
       "  </tbody>\n",
       "</table>\n",
       "<p>246 rows × 128278 columns</p>\n",
       "</div>"
      ],
      "text/plain": [
       "                  0    1    2    3    4    5    6    7    8    9  ...  128268  \\\n",
       "0           0.00162  0.0  0.0  0.0  0.0  0.0  0.0  0.0  0.0  0.0  ...     0.0   \n",
       "1           0.00000  0.0  0.0  0.0  0.0  0.0  0.0  0.0  0.0  0.0  ...     0.0   \n",
       "2           0.00000  0.0  0.0  0.0  0.0  0.0  0.0  0.0  0.0  0.0  ...     0.0   \n",
       "3           0.00000  0.0  0.0  0.0  0.0  0.0  0.0  0.0  0.0  0.0  ...     0.0   \n",
       "...             ...  ...  ...  ...  ...  ...  ...  ...  ...  ...  ...     ...   \n",
       "飞利浦厨房电器旗舰店      NaN  NaN  NaN  NaN  NaN  NaN  NaN  NaN  NaN  NaN  ...     NaN   \n",
       "飞科科品专卖店         NaN  NaN  NaN  NaN  NaN  NaN  NaN  NaN  NaN  NaN  ...     NaN   \n",
       "魅幻电器旗舰店         NaN  NaN  NaN  NaN  NaN  NaN  NaN  NaN  NaN  NaN  ...     NaN   \n",
       "龟派车品旗舰店         NaN  NaN  NaN  NaN  NaN  NaN  NaN  NaN  NaN  NaN  ...     NaN   \n",
       "\n",
       "            128269  128270  128271  128272  128273  128274  128275  128276  \\\n",
       "0              0.0     0.0     0.0     0.0     0.0     0.0     0.0     0.0   \n",
       "1              0.0     0.0     0.0     0.0     0.0     0.0     0.0     0.0   \n",
       "2              0.0     0.0     0.0     0.0     0.0     0.0     0.0     0.0   \n",
       "3              0.0     0.0     0.0     0.0     0.0     0.0     0.0     0.0   \n",
       "...            ...     ...     ...     ...     ...     ...     ...     ...   \n",
       "飞利浦厨房电器旗舰店     NaN     NaN     NaN     NaN     NaN     NaN     NaN     NaN   \n",
       "飞科科品专卖店        NaN     NaN     NaN     NaN     NaN     NaN     NaN     NaN   \n",
       "魅幻电器旗舰店        NaN     NaN     NaN     NaN     NaN     NaN     NaN     NaN   \n",
       "龟派车品旗舰店        NaN     NaN     NaN     NaN     NaN     NaN     NaN     NaN   \n",
       "\n",
       "            聚类类别  \n",
       "0            NaN  \n",
       "1            NaN  \n",
       "2            NaN  \n",
       "3            NaN  \n",
       "...          ...  \n",
       "飞利浦厨房电器旗舰店   5.0  \n",
       "飞科科品专卖店      0.0  \n",
       "魅幻电器旗舰店      0.0  \n",
       "龟派车品旗舰店      2.0  \n",
       "\n",
       "[246 rows x 128278 columns]"
      ]
     },
     "execution_count": 114,
     "metadata": {},
     "output_type": "execute_result"
    },
    {
     "data": {
      "text/plain": [
       "array([[  35.83133   ,  107.36375   ],\n",
       "       [-155.39523   ,   94.04715   ],\n",
       "       [-182.32874   ,  -22.880293  ],\n",
       "       [  29.657175  ,  -86.07335   ],\n",
       "       [ 192.27367   ,  -72.16087   ],\n",
       "       [  67.35829   ,  168.41643   ],\n",
       "       [  81.6962    ,   60.740295  ],\n",
       "       [ 111.096725  ,   51.898212  ],\n",
       "       [  48.922623  ,  -58.580486  ],\n",
       "       [-149.20058   ,   11.601023  ],\n",
       "       [  99.44183   ,   -1.5431355 ],\n",
       "       [  65.27766   , -186.3139    ],\n",
       "       [  33.7931    , -153.78789   ],\n",
       "       [ 140.0733    ,  -54.325195  ],\n",
       "       [ 149.39291   ,  124.07225   ],\n",
       "       [ 146.08844   ,   41.391018  ],\n",
       "       [ -83.37688   ,  -73.14305   ],\n",
       "       [ -34.692154  ,  187.43698   ],\n",
       "       [ 127.95138   , -163.87337   ],\n",
       "       [ -50.850304  ,  -17.889576  ],\n",
       "       [  -7.819472  ,   29.272299  ],\n",
       "       [-125.75997   ,  -18.154293  ],\n",
       "       [  19.372498  ,    9.913868  ],\n",
       "       [ -72.145004  ,   67.38943   ],\n",
       "       [  55.565845  , -117.94148   ],\n",
       "       [ -86.09169   , -164.34421   ],\n",
       "       [ -28.766178  ,  108.97172   ],\n",
       "       [   8.817117  ,  -41.47902   ],\n",
       "       [-118.4503    ,  -84.91158   ],\n",
       "       [  89.594025  ,   29.256357  ],\n",
       "       [  -9.02041   ,  151.1788    ],\n",
       "       [ 102.424904  ,  -40.23475   ],\n",
       "       [ -54.37873   ,   91.51504   ],\n",
       "       [  10.152026  ,   39.193237  ],\n",
       "       [  -0.35306793, -100.702385  ],\n",
       "       [  88.069176  ,   97.98064   ],\n",
       "       [ 208.03088   ,   -8.329715  ],\n",
       "       [   6.3335123 ,   18.140411  ],\n",
       "       [   7.4772544 , -189.64876   ],\n",
       "       [ 188.86191   ,   35.679234  ],\n",
       "       [ -84.64418   ,  165.66353   ],\n",
       "       [-136.37814   ,   51.708046  ],\n",
       "       [ 119.44101   , -118.83076   ],\n",
       "       [  12.090958  ,   61.858456  ],\n",
       "       [ 120.46243   ,   18.538116  ],\n",
       "       [  61.352245  ,   82.565765  ],\n",
       "       [ -11.019509  ,  -50.895412  ],\n",
       "       [  34.19878   ,  -36.80566   ],\n",
       "       [  13.754572  ,   85.238976  ],\n",
       "       [  -9.501202  , -139.67818   ],\n",
       "       [  18.719992  ,   -7.360579  ],\n",
       "       [-183.68066   ,   40.390293  ],\n",
       "       [ -48.48684   ,   17.506113  ],\n",
       "       [  82.720406  , -143.8746    ],\n",
       "       [ 169.92958   ,  -32.20635   ],\n",
       "       [-145.22116   ,  -50.55231   ],\n",
       "       [-101.7329    ,  -46.434032  ],\n",
       "       [ -68.95339   ,    0.7967403 ],\n",
       "       [ 117.43752   ,  173.67365   ],\n",
       "       [ -27.14426   ,  -73.50731   ],\n",
       "       [   2.5774543 ,  115.69602   ],\n",
       "       [  22.924572  ,  190.0761    ],\n",
       "       [-127.63291   , -132.49083   ],\n",
       "       [   5.561839  ,    0.742622  ],\n",
       "       [ -28.631683  , -104.910805  ],\n",
       "       [  56.191048  ,   48.139137  ],\n",
       "       [ 125.84373   ,  -19.254108  ],\n",
       "       [  86.8252    ,  -99.703995  ],\n",
       "       [  63.71161   ,   26.004364  ],\n",
       "       [   2.321686  ,  -15.748211  ],\n",
       "       [  71.03272   ,    4.0964675 ],\n",
       "       [  68.146805  ,  -42.509083  ],\n",
       "       [ -13.547483  ,   81.13403   ],\n",
       "       [-109.395836  ,   15.624782  ],\n",
       "       [ -80.607025  ,  115.32291   ],\n",
       "       [-122.88393   ,  132.89009   ],\n",
       "       [  50.11469   ,   -1.7617899 ],\n",
       "       [ -51.319202  , -133.19386   ],\n",
       "       [ -53.299652  ,  -59.540787  ],\n",
       "       [ 103.94269   ,  131.51949   ],\n",
       "       [  23.59329   ,  -58.51318   ],\n",
       "       [ -32.032623  ,   40.441536  ],\n",
       "       [-107.99591   ,   87.064606  ],\n",
       "       [  23.267202  , -118.20135   ],\n",
       "       [  25.316263  ,   26.755754  ],\n",
       "       [ -47.81564   ,  138.93634   ],\n",
       "       [  38.241848  ,   72.2263    ],\n",
       "       [  33.664234  ,    3.6707165 ],\n",
       "       [ 197.98248   ,   87.74697   ],\n",
       "       [ 118.64057   ,   85.50828   ],\n",
       "       [ -79.47239   ,   27.108852  ],\n",
       "       [  43.811794  ,   21.067661  ],\n",
       "       [ -86.09759   , -113.64929   ],\n",
       "       [ -37.136253  , -174.92036   ],\n",
       "       [ -33.47401   ,  -42.56068   ],\n",
       "       [  84.2011    ,  -65.5178    ],\n",
       "       [ -91.78056   ,  -14.686439  ],\n",
       "       [ -68.836555  ,  -36.70409   ],\n",
       "       [ -35.867054  ,   65.67057   ],\n",
       "       [ -56.403748  ,   43.136787  ],\n",
       "       [ 155.33781   ,   77.85187   ],\n",
       "       [ -99.273445  ,   50.48418   ],\n",
       "       [ -33.36656   ,   -0.2853557 ],\n",
       "       [ -55.587288  ,  -90.39497   ],\n",
       "       [ -10.56858   ,   52.117195  ],\n",
       "       [  -8.417666  ,    8.830482  ],\n",
       "       [  58.75549   ,  -84.56675   ],\n",
       "       [  17.70418   ,  -25.32482   ],\n",
       "       [  53.291794  ,  -23.64443   ],\n",
       "       [ -28.18858   ,  -21.705662  ],\n",
       "       [ 154.9196    ,    3.4511316 ],\n",
       "       [-166.24223   ,  -90.671005  ],\n",
       "       [  34.572853  ,  -15.764997  ],\n",
       "       [  33.516693  ,   46.719406  ],\n",
       "       [ 156.61028   , -101.427246  ],\n",
       "       [  63.694683  ,  124.53417   ],\n",
       "       [ 115.87983   ,  -77.491425  ],\n",
       "       [   1.8525167 ,  -72.88588   ],\n",
       "       [ -13.86559   ,   -7.5548635 ],\n",
       "       [  29.78635   ,  145.36227   ],\n",
       "       [ -24.733494  ,   18.572695  ],\n",
       "       [  79.522125  ,  -19.611341  ],\n",
       "       [  -8.949193  ,  -29.472658  ]], dtype=float32)"
      ]
     },
     "execution_count": 114,
     "metadata": {},
     "output_type": "execute_result"
    },
    {
     "name": "stderr",
     "output_type": "stream",
     "text": [
      "D:\\Anaconda3\\Anaconda3\\lib\\site-packages\\ipykernel_launcher.py:18: UserWarning: Boolean Series key will be reindexed to match DataFrame index.\n"
     ]
    },
    {
     "data": {
      "text/plain": [
       "[<matplotlib.lines.Line2D at 0x19e3447a4c8>]"
      ]
     },
     "execution_count": 114,
     "metadata": {},
     "output_type": "execute_result"
    },
    {
     "name": "stderr",
     "output_type": "stream",
     "text": [
      "D:\\Anaconda3\\Anaconda3\\lib\\site-packages\\ipykernel_launcher.py:20: UserWarning: Boolean Series key will be reindexed to match DataFrame index.\n"
     ]
    },
    {
     "data": {
      "text/plain": [
       "[<matplotlib.lines.Line2D at 0x19e22d70848>]"
      ]
     },
     "execution_count": 114,
     "metadata": {},
     "output_type": "execute_result"
    },
    {
     "name": "stderr",
     "output_type": "stream",
     "text": [
      "D:\\Anaconda3\\Anaconda3\\lib\\site-packages\\ipykernel_launcher.py:22: UserWarning: Boolean Series key will be reindexed to match DataFrame index.\n"
     ]
    },
    {
     "data": {
      "text/plain": [
       "[<matplotlib.lines.Line2D at 0x19e28c1dfc8>]"
      ]
     },
     "execution_count": 114,
     "metadata": {},
     "output_type": "execute_result"
    },
    {
     "data": {
      "image/png": "[encoded data removed]",
      "text/plain": [
       "<Figure size 432x288 with 1 Axes>"
      ]
     },
     "metadata": {
      "needs_background": "light"
     },
     "output_type": "display_data"
    }
   ],
   "source": [
    "import pandas as pd\n",
    "from sklearn.manifold import TSNE  #TSNE可视化\n",
    "\n",
    "# 详细输出原始数据及其类别\n",
    "r = pd.concat([data, pd.Series(model.labels_, index = file_all.index)], axis = 1)   # 详细输出每个样本对应的类别\n",
    "r.columns = list(data.columns) + ['聚类类别']  # 重命名表头\n",
    "r\n",
    "\n",
    "tsne = TSNE(random_state=123)\n",
    "tsne.fit_transform(data_zs)  # 进行数据降维\n",
    "tsne = pd.DataFrame(tsne.embedding_, index = data_zs.index)  # 转换数据格式\n",
    "\n",
    "import matplotlib.pyplot as plt\n",
    "plt.rcParams['font.sans-serif'] = ['SimHei']  # 用来正常显示中文标签\n",
    "plt.rcParams['axes.unicode_minus'] = False  # 用来正常显示负号\n",
    "\n",
    "# 不同类别用不同颜色和样式绘图\n",
    "d = tsne[r['聚类类别'] == 0]\n",
    "plt.plot(d[0], d[1], 'r.')\n",
    "d = tsne[r['聚类类别'] == 1]\n",
    "plt.plot(d[0], d[1], 'go')\n",
    "d = tsne[r['聚类类别'] == 2]\n",
    "plt.plot(d[0], d[1], 'b*')\n",
    "plt.show()"
   ]
  },
  {
   "cell_type": "code",
   "execution_count": 151,
   "metadata": {},
   "outputs": [
    {
     "name": "stdout",
     "output_type": "stream",
     "text": [
      "店铺名称\n",
      "aca北美电器官方旗舰店   -1\n",
      "自然之门旗舰店        -1\n",
      "卡邦仕旗舰店         -1\n",
      "飞利浦厨房电器旗舰店     -1\n",
      "               ..\n",
      "jado捷渡车品旗舰店     6\n",
      "hp惠普车品官方旗舰店     6\n",
      "博莱克电器旗舰店        7\n",
      "美的厨房电器旗舰店       7\n",
      "Length: 141, dtype: int64\n"
     ]
    }
   ],
   "source": [
    "from sklearn.cluster import DBSCAN\n",
    "import pandas as pd\n",
    "import numpy as np\n",
    "import matplotlib.pyplot as plt\n",
    "\n",
    "db = DBSCAN(eps=1.1,min_samples=2, n_jobs=4).fit(data)\n",
    "\n",
    "r = pd.Series(db.labels_, index =file_all.index)   # 详细输出每个样本对应的类别\n",
    "\n",
    "r.to_excel(r'../data/taobao/new/data_type2.xls')\n",
    "print(r.sort_values())"
   ]
  },
  {
   "cell_type": "code",
   "execution_count": null,
   "metadata": {},
   "outputs": [],
   "source": []
  },
  {
   "cell_type": "code",
   "execution_count": null,
   "metadata": {},
   "outputs": [],
   "source": []
  },
  {
   "cell_type": "code",
   "execution_count": null,
   "metadata": {},
   "outputs": [],
   "source": []
  },
  {
   "cell_type": "code",
   "execution_count": null,
   "metadata": {},
   "outputs": [],
   "source": []
  },
  {
   "cell_type": "code",
   "execution_count": null,
   "metadata": {},
   "outputs": [],
   "source": []
  },
  {
   "cell_type": "markdown",
   "metadata": {},
   "source": [
    "# 把所有文章综合起来"
   ]
  },
  {
   "cell_type": "code",
   "execution_count": 35,
   "metadata": {},
   "outputs": [],
   "source": [
    "tmp = pd.read_excel('../data/taobao/new/天猫电器店铺数据.xlsx')\n",
    "\n",
    "names = tmp['店铺名字']  #得到所有店铺的名称列表\n"
   ]
  },
  {
   "cell_type": "code",
   "execution_count": 36,
   "metadata": {},
   "outputs": [
    {
     "data": {
      "text/plain": [
       "<2000x3624 sparse matrix of type '<class 'numpy.float64'>'\n",
       "\twith 26446 stored elements in Compressed Sparse Row format>"
      ]
     },
     "execution_count": 36,
     "metadata": {},
     "output_type": "execute_result"
    },
    {
     "data": {
      "text/plain": [
       "LatentDirichletAllocation()"
      ]
     },
     "execution_count": 36,
     "metadata": {},
     "output_type": "execute_result"
    },
    {
     "data": {
      "text/plain": [
       "<2000x1570 sparse matrix of type '<class 'numpy.float64'>'\n",
       "\twith 18043 stored elements in Compressed Sparse Row format>"
      ]
     },
     "execution_count": 36,
     "metadata": {},
     "output_type": "execute_result"
    },
    {
     "data": {
      "text/plain": [
       "LatentDirichletAllocation()"
      ]
     },
     "execution_count": 36,
     "metadata": {},
     "output_type": "execute_result"
    },
    {
     "data": {
      "text/plain": [
       "<2000x2610 sparse matrix of type '<class 'numpy.float64'>'\n",
       "\twith 21681 stored elements in Compressed Sparse Row format>"
      ]
     },
     "execution_count": 36,
     "metadata": {},
     "output_type": "execute_result"
    },
    {
     "data": {
      "text/plain": [
       "LatentDirichletAllocation()"
      ]
     },
     "execution_count": 36,
     "metadata": {},
     "output_type": "execute_result"
    },
    {
     "data": {
      "text/plain": [
       "<2000x2291 sparse matrix of type '<class 'numpy.float64'>'\n",
       "\twith 19278 stored elements in Compressed Sparse Row format>"
      ]
     },
     "execution_count": 36,
     "metadata": {},
     "output_type": "execute_result"
    },
    {
     "data": {
      "text/plain": [
       "LatentDirichletAllocation()"
      ]
     },
     "execution_count": 36,
     "metadata": {},
     "output_type": "execute_result"
    },
    {
     "data": {
      "text/plain": [
       "<2000x819 sparse matrix of type '<class 'numpy.float64'>'\n",
       "\twith 6381 stored elements in Compressed Sparse Row format>"
      ]
     },
     "execution_count": 36,
     "metadata": {},
     "output_type": "execute_result"
    },
    {
     "data": {
      "text/plain": [
       "LatentDirichletAllocation()"
      ]
     },
     "execution_count": 36,
     "metadata": {},
     "output_type": "execute_result"
    },
    {
     "data": {
      "text/plain": [
       "<2000x1909 sparse matrix of type '<class 'numpy.float64'>'\n",
       "\twith 14645 stored elements in Compressed Sparse Row format>"
      ]
     },
     "execution_count": 36,
     "metadata": {},
     "output_type": "execute_result"
    },
    {
     "data": {
      "text/plain": [
       "LatentDirichletAllocation()"
      ]
     },
     "execution_count": 36,
     "metadata": {},
     "output_type": "execute_result"
    },
    {
     "data": {
      "text/plain": [
       "<2000x1668 sparse matrix of type '<class 'numpy.float64'>'\n",
       "\twith 8172 stored elements in Compressed Sparse Row format>"
      ]
     },
     "execution_count": 36,
     "metadata": {},
     "output_type": "execute_result"
    },
    {
     "data": {
      "text/plain": [
       "LatentDirichletAllocation()"
      ]
     },
     "execution_count": 36,
     "metadata": {},
     "output_type": "execute_result"
    },
    {
     "data": {
      "text/plain": [
       "<2000x1983 sparse matrix of type '<class 'numpy.float64'>'\n",
       "\twith 11233 stored elements in Compressed Sparse Row format>"
      ]
     },
     "execution_count": 36,
     "metadata": {},
     "output_type": "execute_result"
    },
    {
     "data": {
      "text/plain": [
       "LatentDirichletAllocation()"
      ]
     },
     "execution_count": 36,
     "metadata": {},
     "output_type": "execute_result"
    },
    {
     "data": {
      "text/plain": [
       "<2000x1953 sparse matrix of type '<class 'numpy.float64'>'\n",
       "\twith 14209 stored elements in Compressed Sparse Row format>"
      ]
     },
     "execution_count": 36,
     "metadata": {},
     "output_type": "execute_result"
    },
    {
     "data": {
      "text/plain": [
       "LatentDirichletAllocation()"
      ]
     },
     "execution_count": 36,
     "metadata": {},
     "output_type": "execute_result"
    },
    {
     "data": {
      "text/plain": [
       "<2000x1893 sparse matrix of type '<class 'numpy.float64'>'\n",
       "\twith 10315 stored elements in Compressed Sparse Row format>"
      ]
     },
     "execution_count": 36,
     "metadata": {},
     "output_type": "execute_result"
    },
    {
     "data": {
      "text/plain": [
       "LatentDirichletAllocation()"
      ]
     },
     "execution_count": 36,
     "metadata": {},
     "output_type": "execute_result"
    },
    {
     "data": {
      "text/plain": [
       "<2000x1495 sparse matrix of type '<class 'numpy.float64'>'\n",
       "\twith 7873 stored elements in Compressed Sparse Row format>"
      ]
     },
     "execution_count": 36,
     "metadata": {},
     "output_type": "execute_result"
    },
    {
     "data": {
      "text/plain": [
       "LatentDirichletAllocation()"
      ]
     },
     "execution_count": 36,
     "metadata": {},
     "output_type": "execute_result"
    },
    {
     "data": {
      "text/plain": [
       "<2000x2112 sparse matrix of type '<class 'numpy.float64'>'\n",
       "\twith 14937 stored elements in Compressed Sparse Row format>"
      ]
     },
     "execution_count": 36,
     "metadata": {},
     "output_type": "execute_result"
    },
    {
     "data": {
      "text/plain": [
       "LatentDirichletAllocation()"
      ]
     },
     "execution_count": 36,
     "metadata": {},
     "output_type": "execute_result"
    },
    {
     "data": {
      "text/plain": [
       "<575x486 sparse matrix of type '<class 'numpy.float64'>'\n",
       "\twith 2313 stored elements in Compressed Sparse Row format>"
      ]
     },
     "execution_count": 36,
     "metadata": {},
     "output_type": "execute_result"
    },
    {
     "data": {
      "text/plain": [
       "LatentDirichletAllocation()"
      ]
     },
     "execution_count": 36,
     "metadata": {},
     "output_type": "execute_result"
    },
    {
     "data": {
      "text/plain": [
       "<2000x2706 sparse matrix of type '<class 'numpy.float64'>'\n",
       "\twith 15814 stored elements in Compressed Sparse Row format>"
      ]
     },
     "execution_count": 36,
     "metadata": {},
     "output_type": "execute_result"
    },
    {
     "data": {
      "text/plain": [
       "LatentDirichletAllocation()"
      ]
     },
     "execution_count": 36,
     "metadata": {},
     "output_type": "execute_result"
    },
    {
     "data": {
      "text/plain": [
       "<481x321 sparse matrix of type '<class 'numpy.float64'>'\n",
       "\twith 1599 stored elements in Compressed Sparse Row format>"
      ]
     },
     "execution_count": 36,
     "metadata": {},
     "output_type": "execute_result"
    },
    {
     "data": {
      "text/plain": [
       "LatentDirichletAllocation()"
      ]
     },
     "execution_count": 36,
     "metadata": {},
     "output_type": "execute_result"
    },
    {
     "data": {
      "text/plain": [
       "<1723x1162 sparse matrix of type '<class 'numpy.float64'>'\n",
       "\twith 7106 stored elements in Compressed Sparse Row format>"
      ]
     },
     "execution_count": 36,
     "metadata": {},
     "output_type": "execute_result"
    },
    {
     "data": {
      "text/plain": [
       "LatentDirichletAllocation()"
      ]
     },
     "execution_count": 36,
     "metadata": {},
     "output_type": "execute_result"
    },
    {
     "data": {
      "text/plain": [
       "<2000x1069 sparse matrix of type '<class 'numpy.float64'>'\n",
       "\twith 12719 stored elements in Compressed Sparse Row format>"
      ]
     },
     "execution_count": 36,
     "metadata": {},
     "output_type": "execute_result"
    },
    {
     "data": {
      "text/plain": [
       "LatentDirichletAllocation()"
      ]
     },
     "execution_count": 36,
     "metadata": {},
     "output_type": "execute_result"
    },
    {
     "data": {
      "text/plain": [
       "<2000x2574 sparse matrix of type '<class 'numpy.float64'>'\n",
       "\twith 15047 stored elements in Compressed Sparse Row format>"
      ]
     },
     "execution_count": 36,
     "metadata": {},
     "output_type": "execute_result"
    },
    {
     "data": {
      "text/plain": [
       "LatentDirichletAllocation()"
      ]
     },
     "execution_count": 36,
     "metadata": {},
     "output_type": "execute_result"
    },
    {
     "data": {
      "text/plain": [
       "<2000x1715 sparse matrix of type '<class 'numpy.float64'>'\n",
       "\twith 10006 stored elements in Compressed Sparse Row format>"
      ]
     },
     "execution_count": 36,
     "metadata": {},
     "output_type": "execute_result"
    },
    {
     "data": {
      "text/plain": [
       "LatentDirichletAllocation()"
      ]
     },
     "execution_count": 36,
     "metadata": {},
     "output_type": "execute_result"
    },
    {
     "data": {
      "text/plain": [
       "<2000x2102 sparse matrix of type '<class 'numpy.float64'>'\n",
       "\twith 14131 stored elements in Compressed Sparse Row format>"
      ]
     },
     "execution_count": 36,
     "metadata": {},
     "output_type": "execute_result"
    },
    {
     "data": {
      "text/plain": [
       "LatentDirichletAllocation()"
      ]
     },
     "execution_count": 36,
     "metadata": {},
     "output_type": "execute_result"
    },
    {
     "data": {
      "text/plain": [
       "<2000x1921 sparse matrix of type '<class 'numpy.float64'>'\n",
       "\twith 13672 stored elements in Compressed Sparse Row format>"
      ]
     },
     "execution_count": 36,
     "metadata": {},
     "output_type": "execute_result"
    },
    {
     "data": {
      "text/plain": [
       "LatentDirichletAllocation()"
      ]
     },
     "execution_count": 36,
     "metadata": {},
     "output_type": "execute_result"
    },
    {
     "data": {
      "text/plain": [
       "<862x557 sparse matrix of type '<class 'numpy.float64'>'\n",
       "\twith 3169 stored elements in Compressed Sparse Row format>"
      ]
     },
     "execution_count": 36,
     "metadata": {},
     "output_type": "execute_result"
    },
    {
     "data": {
      "text/plain": [
       "LatentDirichletAllocation()"
      ]
     },
     "execution_count": 36,
     "metadata": {},
     "output_type": "execute_result"
    },
    {
     "data": {
      "text/plain": [
       "<2000x2111 sparse matrix of type '<class 'numpy.float64'>'\n",
       "\twith 14371 stored elements in Compressed Sparse Row format>"
      ]
     },
     "execution_count": 36,
     "metadata": {},
     "output_type": "execute_result"
    },
    {
     "data": {
      "text/plain": [
       "LatentDirichletAllocation()"
      ]
     },
     "execution_count": 36,
     "metadata": {},
     "output_type": "execute_result"
    },
    {
     "data": {
      "text/plain": [
       "<2000x2482 sparse matrix of type '<class 'numpy.float64'>'\n",
       "\twith 13192 stored elements in Compressed Sparse Row format>"
      ]
     },
     "execution_count": 36,
     "metadata": {},
     "output_type": "execute_result"
    },
    {
     "data": {
      "text/plain": [
       "LatentDirichletAllocation()"
      ]
     },
     "execution_count": 36,
     "metadata": {},
     "output_type": "execute_result"
    },
    {
     "data": {
      "text/plain": [
       "<2000x1704 sparse matrix of type '<class 'numpy.float64'>'\n",
       "\twith 10275 stored elements in Compressed Sparse Row format>"
      ]
     },
     "execution_count": 36,
     "metadata": {},
     "output_type": "execute_result"
    },
    {
     "data": {
      "text/plain": [
       "LatentDirichletAllocation()"
      ]
     },
     "execution_count": 36,
     "metadata": {},
     "output_type": "execute_result"
    },
    {
     "data": {
      "text/plain": [
       "<2000x1871 sparse matrix of type '<class 'numpy.float64'>'\n",
       "\twith 13274 stored elements in Compressed Sparse Row format>"
      ]
     },
     "execution_count": 36,
     "metadata": {},
     "output_type": "execute_result"
    },
    {
     "data": {
      "text/plain": [
       "LatentDirichletAllocation()"
      ]
     },
     "execution_count": 36,
     "metadata": {},
     "output_type": "execute_result"
    },
    {
     "data": {
      "text/plain": [
       "<2000x2926 sparse matrix of type '<class 'numpy.float64'>'\n",
       "\twith 20793 stored elements in Compressed Sparse Row format>"
      ]
     },
     "execution_count": 36,
     "metadata": {},
     "output_type": "execute_result"
    },
    {
     "data": {
      "text/plain": [
       "LatentDirichletAllocation()"
      ]
     },
     "execution_count": 36,
     "metadata": {},
     "output_type": "execute_result"
    },
    {
     "data": {
      "text/plain": [
       "<146x51 sparse matrix of type '<class 'numpy.float64'>'\n",
       "\twith 471 stored elements in Compressed Sparse Row format>"
      ]
     },
     "execution_count": 36,
     "metadata": {},
     "output_type": "execute_result"
    },
    {
     "data": {
      "text/plain": [
       "LatentDirichletAllocation()"
      ]
     },
     "execution_count": 36,
     "metadata": {},
     "output_type": "execute_result"
    },
    {
     "data": {
      "text/plain": [
       "<2000x2843 sparse matrix of type '<class 'numpy.float64'>'\n",
       "\twith 17188 stored elements in Compressed Sparse Row format>"
      ]
     },
     "execution_count": 36,
     "metadata": {},
     "output_type": "execute_result"
    },
    {
     "data": {
      "text/plain": [
       "LatentDirichletAllocation()"
      ]
     },
     "execution_count": 36,
     "metadata": {},
     "output_type": "execute_result"
    },
    {
     "data": {
      "text/plain": [
       "<2000x1000 sparse matrix of type '<class 'numpy.float64'>'\n",
       "\twith 6562 stored elements in Compressed Sparse Row format>"
      ]
     },
     "execution_count": 36,
     "metadata": {},
     "output_type": "execute_result"
    },
    {
     "data": {
      "text/plain": [
       "LatentDirichletAllocation()"
      ]
     },
     "execution_count": 36,
     "metadata": {},
     "output_type": "execute_result"
    },
    {
     "data": {
      "text/plain": [
       "<2000x1795 sparse matrix of type '<class 'numpy.float64'>'\n",
       "\twith 14670 stored elements in Compressed Sparse Row format>"
      ]
     },
     "execution_count": 36,
     "metadata": {},
     "output_type": "execute_result"
    },
    {
     "data": {
      "text/plain": [
       "LatentDirichletAllocation()"
      ]
     },
     "execution_count": 36,
     "metadata": {},
     "output_type": "execute_result"
    },
    {
     "data": {
      "text/plain": [
       "<2000x1617 sparse matrix of type '<class 'numpy.float64'>'\n",
       "\twith 8671 stored elements in Compressed Sparse Row format>"
      ]
     },
     "execution_count": 36,
     "metadata": {},
     "output_type": "execute_result"
    },
    {
     "data": {
      "text/plain": [
       "LatentDirichletAllocation()"
      ]
     },
     "execution_count": 36,
     "metadata": {},
     "output_type": "execute_result"
    },
    {
     "data": {
      "text/plain": [
       "<2000x1844 sparse matrix of type '<class 'numpy.float64'>'\n",
       "\twith 13133 stored elements in Compressed Sparse Row format>"
      ]
     },
     "execution_count": 36,
     "metadata": {},
     "output_type": "execute_result"
    },
    {
     "data": {
      "text/plain": [
       "LatentDirichletAllocation()"
      ]
     },
     "execution_count": 36,
     "metadata": {},
     "output_type": "execute_result"
    },
    {
     "data": {
      "text/plain": [
       "<2000x2366 sparse matrix of type '<class 'numpy.float64'>'\n",
       "\twith 13854 stored elements in Compressed Sparse Row format>"
      ]
     },
     "execution_count": 36,
     "metadata": {},
     "output_type": "execute_result"
    },
    {
     "data": {
      "text/plain": [
       "LatentDirichletAllocation()"
      ]
     },
     "execution_count": 36,
     "metadata": {},
     "output_type": "execute_result"
    },
    {
     "data": {
      "text/plain": [
       "<2000x815 sparse matrix of type '<class 'numpy.float64'>'\n",
       "\twith 6971 stored elements in Compressed Sparse Row format>"
      ]
     },
     "execution_count": 36,
     "metadata": {},
     "output_type": "execute_result"
    },
    {
     "data": {
      "text/plain": [
       "LatentDirichletAllocation()"
      ]
     },
     "execution_count": 36,
     "metadata": {},
     "output_type": "execute_result"
    },
    {
     "data": {
      "text/plain": [
       "<2000x1413 sparse matrix of type '<class 'numpy.float64'>'\n",
       "\twith 8582 stored elements in Compressed Sparse Row format>"
      ]
     },
     "execution_count": 36,
     "metadata": {},
     "output_type": "execute_result"
    },
    {
     "data": {
      "text/plain": [
       "LatentDirichletAllocation()"
      ]
     },
     "execution_count": 36,
     "metadata": {},
     "output_type": "execute_result"
    },
    {
     "data": {
      "text/plain": [
       "<2000x2286 sparse matrix of type '<class 'numpy.float64'>'\n",
       "\twith 13301 stored elements in Compressed Sparse Row format>"
      ]
     },
     "execution_count": 36,
     "metadata": {},
     "output_type": "execute_result"
    },
    {
     "data": {
      "text/plain": [
       "LatentDirichletAllocation()"
      ]
     },
     "execution_count": 36,
     "metadata": {},
     "output_type": "execute_result"
    },
    {
     "data": {
      "text/plain": [
       "<2000x1485 sparse matrix of type '<class 'numpy.float64'>'\n",
       "\twith 10714 stored elements in Compressed Sparse Row format>"
      ]
     },
     "execution_count": 36,
     "metadata": {},
     "output_type": "execute_result"
    },
    {
     "data": {
      "text/plain": [
       "LatentDirichletAllocation()"
      ]
     },
     "execution_count": 36,
     "metadata": {},
     "output_type": "execute_result"
    },
    {
     "data": {
      "text/plain": [
       "<1115x1000 sparse matrix of type '<class 'numpy.float64'>'\n",
       "\twith 5270 stored elements in Compressed Sparse Row format>"
      ]
     },
     "execution_count": 36,
     "metadata": {},
     "output_type": "execute_result"
    },
    {
     "data": {
      "text/plain": [
       "LatentDirichletAllocation()"
      ]
     },
     "execution_count": 36,
     "metadata": {},
     "output_type": "execute_result"
    },
    {
     "data": {
      "text/plain": [
       "<2000x1040 sparse matrix of type '<class 'numpy.float64'>'\n",
       "\twith 7386 stored elements in Compressed Sparse Row format>"
      ]
     },
     "execution_count": 36,
     "metadata": {},
     "output_type": "execute_result"
    },
    {
     "data": {
      "text/plain": [
       "LatentDirichletAllocation()"
      ]
     },
     "execution_count": 36,
     "metadata": {},
     "output_type": "execute_result"
    },
    {
     "data": {
      "text/plain": [
       "<2000x1353 sparse matrix of type '<class 'numpy.float64'>'\n",
       "\twith 7572 stored elements in Compressed Sparse Row format>"
      ]
     },
     "execution_count": 36,
     "metadata": {},
     "output_type": "execute_result"
    },
    {
     "data": {
      "text/plain": [
       "LatentDirichletAllocation()"
      ]
     },
     "execution_count": 36,
     "metadata": {},
     "output_type": "execute_result"
    },
    {
     "data": {
      "text/plain": [
       "<2000x2203 sparse matrix of type '<class 'numpy.float64'>'\n",
       "\twith 23608 stored elements in Compressed Sparse Row format>"
      ]
     },
     "execution_count": 36,
     "metadata": {},
     "output_type": "execute_result"
    },
    {
     "data": {
      "text/plain": [
       "LatentDirichletAllocation()"
      ]
     },
     "execution_count": 36,
     "metadata": {},
     "output_type": "execute_result"
    },
    {
     "data": {
      "text/plain": [
       "<2000x2645 sparse matrix of type '<class 'numpy.float64'>'\n",
       "\twith 18697 stored elements in Compressed Sparse Row format>"
      ]
     },
     "execution_count": 36,
     "metadata": {},
     "output_type": "execute_result"
    },
    {
     "data": {
      "text/plain": [
       "LatentDirichletAllocation()"
      ]
     },
     "execution_count": 36,
     "metadata": {},
     "output_type": "execute_result"
    },
    {
     "data": {
      "text/plain": [
       "<2000x1959 sparse matrix of type '<class 'numpy.float64'>'\n",
       "\twith 10685 stored elements in Compressed Sparse Row format>"
      ]
     },
     "execution_count": 36,
     "metadata": {},
     "output_type": "execute_result"
    },
    {
     "data": {
      "text/plain": [
       "LatentDirichletAllocation()"
      ]
     },
     "execution_count": 36,
     "metadata": {},
     "output_type": "execute_result"
    },
    {
     "data": {
      "text/plain": [
       "<2000x1447 sparse matrix of type '<class 'numpy.float64'>'\n",
       "\twith 10336 stored elements in Compressed Sparse Row format>"
      ]
     },
     "execution_count": 36,
     "metadata": {},
     "output_type": "execute_result"
    },
    {
     "data": {
      "text/plain": [
       "LatentDirichletAllocation()"
      ]
     },
     "execution_count": 36,
     "metadata": {},
     "output_type": "execute_result"
    },
    {
     "data": {
      "text/plain": [
       "<2000x913 sparse matrix of type '<class 'numpy.float64'>'\n",
       "\twith 6594 stored elements in Compressed Sparse Row format>"
      ]
     },
     "execution_count": 36,
     "metadata": {},
     "output_type": "execute_result"
    },
    {
     "data": {
      "text/plain": [
       "LatentDirichletAllocation()"
      ]
     },
     "execution_count": 36,
     "metadata": {},
     "output_type": "execute_result"
    },
    {
     "data": {
      "text/plain": [
       "<2000x2322 sparse matrix of type '<class 'numpy.float64'>'\n",
       "\twith 11777 stored elements in Compressed Sparse Row format>"
      ]
     },
     "execution_count": 36,
     "metadata": {},
     "output_type": "execute_result"
    },
    {
     "data": {
      "text/plain": [
       "LatentDirichletAllocation()"
      ]
     },
     "execution_count": 36,
     "metadata": {},
     "output_type": "execute_result"
    },
    {
     "data": {
      "text/plain": [
       "<2000x2310 sparse matrix of type '<class 'numpy.float64'>'\n",
       "\twith 13182 stored elements in Compressed Sparse Row format>"
      ]
     },
     "execution_count": 36,
     "metadata": {},
     "output_type": "execute_result"
    },
    {
     "data": {
      "text/plain": [
       "LatentDirichletAllocation()"
      ]
     },
     "execution_count": 36,
     "metadata": {},
     "output_type": "execute_result"
    },
    {
     "data": {
      "text/plain": [
       "<1721x800 sparse matrix of type '<class 'numpy.float64'>'\n",
       "\twith 6990 stored elements in Compressed Sparse Row format>"
      ]
     },
     "execution_count": 36,
     "metadata": {},
     "output_type": "execute_result"
    },
    {
     "data": {
      "text/plain": [
       "LatentDirichletAllocation()"
      ]
     },
     "execution_count": 36,
     "metadata": {},
     "output_type": "execute_result"
    },
    {
     "data": {
      "text/plain": [
       "<2000x3075 sparse matrix of type '<class 'numpy.float64'>'\n",
       "\twith 18724 stored elements in Compressed Sparse Row format>"
      ]
     },
     "execution_count": 36,
     "metadata": {},
     "output_type": "execute_result"
    },
    {
     "data": {
      "text/plain": [
       "LatentDirichletAllocation()"
      ]
     },
     "execution_count": 36,
     "metadata": {},
     "output_type": "execute_result"
    },
    {
     "data": {
      "text/plain": [
       "<2000x2172 sparse matrix of type '<class 'numpy.float64'>'\n",
       "\twith 13194 stored elements in Compressed Sparse Row format>"
      ]
     },
     "execution_count": 36,
     "metadata": {},
     "output_type": "execute_result"
    },
    {
     "data": {
      "text/plain": [
       "LatentDirichletAllocation()"
      ]
     },
     "execution_count": 36,
     "metadata": {},
     "output_type": "execute_result"
    },
    {
     "data": {
      "text/plain": [
       "<2000x1919 sparse matrix of type '<class 'numpy.float64'>'\n",
       "\twith 14560 stored elements in Compressed Sparse Row format>"
      ]
     },
     "execution_count": 36,
     "metadata": {},
     "output_type": "execute_result"
    },
    {
     "data": {
      "text/plain": [
       "LatentDirichletAllocation()"
      ]
     },
     "execution_count": 36,
     "metadata": {},
     "output_type": "execute_result"
    },
    {
     "data": {
      "text/plain": [
       "<2000x1753 sparse matrix of type '<class 'numpy.float64'>'\n",
       "\twith 14018 stored elements in Compressed Sparse Row format>"
      ]
     },
     "execution_count": 36,
     "metadata": {},
     "output_type": "execute_result"
    },
    {
     "data": {
      "text/plain": [
       "LatentDirichletAllocation()"
      ]
     },
     "execution_count": 36,
     "metadata": {},
     "output_type": "execute_result"
    },
    {
     "data": {
      "text/plain": [
       "<2000x1448 sparse matrix of type '<class 'numpy.float64'>'\n",
       "\twith 7240 stored elements in Compressed Sparse Row format>"
      ]
     },
     "execution_count": 36,
     "metadata": {},
     "output_type": "execute_result"
    },
    {
     "data": {
      "text/plain": [
       "LatentDirichletAllocation()"
      ]
     },
     "execution_count": 36,
     "metadata": {},
     "output_type": "execute_result"
    },
    {
     "data": {
      "text/plain": [
       "<2000x2218 sparse matrix of type '<class 'numpy.float64'>'\n",
       "\twith 13899 stored elements in Compressed Sparse Row format>"
      ]
     },
     "execution_count": 36,
     "metadata": {},
     "output_type": "execute_result"
    },
    {
     "data": {
      "text/plain": [
       "LatentDirichletAllocation()"
      ]
     },
     "execution_count": 36,
     "metadata": {},
     "output_type": "execute_result"
    },
    {
     "data": {
      "text/plain": [
       "<2000x1177 sparse matrix of type '<class 'numpy.float64'>'\n",
       "\twith 7896 stored elements in Compressed Sparse Row format>"
      ]
     },
     "execution_count": 36,
     "metadata": {},
     "output_type": "execute_result"
    },
    {
     "data": {
      "text/plain": [
       "LatentDirichletAllocation()"
      ]
     },
     "execution_count": 36,
     "metadata": {},
     "output_type": "execute_result"
    },
    {
     "data": {
      "text/plain": [
       "<2000x1736 sparse matrix of type '<class 'numpy.float64'>'\n",
       "\twith 10931 stored elements in Compressed Sparse Row format>"
      ]
     },
     "execution_count": 36,
     "metadata": {},
     "output_type": "execute_result"
    },
    {
     "data": {
      "text/plain": [
       "LatentDirichletAllocation()"
      ]
     },
     "execution_count": 36,
     "metadata": {},
     "output_type": "execute_result"
    },
    {
     "data": {
      "text/plain": [
       "<2000x1843 sparse matrix of type '<class 'numpy.float64'>'\n",
       "\twith 10372 stored elements in Compressed Sparse Row format>"
      ]
     },
     "execution_count": 36,
     "metadata": {},
     "output_type": "execute_result"
    },
    {
     "data": {
      "text/plain": [
       "LatentDirichletAllocation()"
      ]
     },
     "execution_count": 36,
     "metadata": {},
     "output_type": "execute_result"
    },
    {
     "data": {
      "text/plain": [
       "<2000x2633 sparse matrix of type '<class 'numpy.float64'>'\n",
       "\twith 16897 stored elements in Compressed Sparse Row format>"
      ]
     },
     "execution_count": 36,
     "metadata": {},
     "output_type": "execute_result"
    },
    {
     "data": {
      "text/plain": [
       "LatentDirichletAllocation()"
      ]
     },
     "execution_count": 36,
     "metadata": {},
     "output_type": "execute_result"
    },
    {
     "data": {
      "text/plain": [
       "<2000x1849 sparse matrix of type '<class 'numpy.float64'>'\n",
       "\twith 9378 stored elements in Compressed Sparse Row format>"
      ]
     },
     "execution_count": 36,
     "metadata": {},
     "output_type": "execute_result"
    },
    {
     "data": {
      "text/plain": [
       "LatentDirichletAllocation()"
      ]
     },
     "execution_count": 36,
     "metadata": {},
     "output_type": "execute_result"
    },
    {
     "data": {
      "text/plain": [
       "<2000x2236 sparse matrix of type '<class 'numpy.float64'>'\n",
       "\twith 13902 stored elements in Compressed Sparse Row format>"
      ]
     },
     "execution_count": 36,
     "metadata": {},
     "output_type": "execute_result"
    },
    {
     "data": {
      "text/plain": [
       "LatentDirichletAllocation()"
      ]
     },
     "execution_count": 36,
     "metadata": {},
     "output_type": "execute_result"
    },
    {
     "data": {
      "text/plain": [
       "<2000x2470 sparse matrix of type '<class 'numpy.float64'>'\n",
       "\twith 15226 stored elements in Compressed Sparse Row format>"
      ]
     },
     "execution_count": 36,
     "metadata": {},
     "output_type": "execute_result"
    },
    {
     "data": {
      "text/plain": [
       "LatentDirichletAllocation()"
      ]
     },
     "execution_count": 36,
     "metadata": {},
     "output_type": "execute_result"
    },
    {
     "data": {
      "text/plain": [
       "<2000x2467 sparse matrix of type '<class 'numpy.float64'>'\n",
       "\twith 16747 stored elements in Compressed Sparse Row format>"
      ]
     },
     "execution_count": 36,
     "metadata": {},
     "output_type": "execute_result"
    },
    {
     "data": {
      "text/plain": [
       "LatentDirichletAllocation()"
      ]
     },
     "execution_count": 36,
     "metadata": {},
     "output_type": "execute_result"
    },
    {
     "data": {
      "text/plain": [
       "<2000x2148 sparse matrix of type '<class 'numpy.float64'>'\n",
       "\twith 10809 stored elements in Compressed Sparse Row format>"
      ]
     },
     "execution_count": 36,
     "metadata": {},
     "output_type": "execute_result"
    },
    {
     "data": {
      "text/plain": [
       "LatentDirichletAllocation()"
      ]
     },
     "execution_count": 36,
     "metadata": {},
     "output_type": "execute_result"
    },
    {
     "data": {
      "text/plain": [
       "<2000x971 sparse matrix of type '<class 'numpy.float64'>'\n",
       "\twith 8832 stored elements in Compressed Sparse Row format>"
      ]
     },
     "execution_count": 36,
     "metadata": {},
     "output_type": "execute_result"
    },
    {
     "data": {
      "text/plain": [
       "LatentDirichletAllocation()"
      ]
     },
     "execution_count": 36,
     "metadata": {},
     "output_type": "execute_result"
    },
    {
     "data": {
      "text/plain": [
       "<2000x2797 sparse matrix of type '<class 'numpy.float64'>'\n",
       "\twith 20705 stored elements in Compressed Sparse Row format>"
      ]
     },
     "execution_count": 36,
     "metadata": {},
     "output_type": "execute_result"
    },
    {
     "data": {
      "text/plain": [
       "LatentDirichletAllocation()"
      ]
     },
     "execution_count": 36,
     "metadata": {},
     "output_type": "execute_result"
    },
    {
     "data": {
      "text/plain": [
       "<2000x1974 sparse matrix of type '<class 'numpy.float64'>'\n",
       "\twith 9093 stored elements in Compressed Sparse Row format>"
      ]
     },
     "execution_count": 36,
     "metadata": {},
     "output_type": "execute_result"
    },
    {
     "data": {
      "text/plain": [
       "LatentDirichletAllocation()"
      ]
     },
     "execution_count": 36,
     "metadata": {},
     "output_type": "execute_result"
    },
    {
     "data": {
      "text/plain": [
       "<2000x2190 sparse matrix of type '<class 'numpy.float64'>'\n",
       "\twith 14171 stored elements in Compressed Sparse Row format>"
      ]
     },
     "execution_count": 36,
     "metadata": {},
     "output_type": "execute_result"
    },
    {
     "data": {
      "text/plain": [
       "LatentDirichletAllocation()"
      ]
     },
     "execution_count": 36,
     "metadata": {},
     "output_type": "execute_result"
    },
    {
     "data": {
      "text/plain": [
       "<2000x2157 sparse matrix of type '<class 'numpy.float64'>'\n",
       "\twith 14015 stored elements in Compressed Sparse Row format>"
      ]
     },
     "execution_count": 36,
     "metadata": {},
     "output_type": "execute_result"
    },
    {
     "data": {
      "text/plain": [
       "LatentDirichletAllocation()"
      ]
     },
     "execution_count": 36,
     "metadata": {},
     "output_type": "execute_result"
    },
    {
     "data": {
      "text/plain": [
       "<2000x2796 sparse matrix of type '<class 'numpy.float64'>'\n",
       "\twith 18166 stored elements in Compressed Sparse Row format>"
      ]
     },
     "execution_count": 36,
     "metadata": {},
     "output_type": "execute_result"
    },
    {
     "data": {
      "text/plain": [
       "LatentDirichletAllocation()"
      ]
     },
     "execution_count": 36,
     "metadata": {},
     "output_type": "execute_result"
    },
    {
     "data": {
      "text/plain": [
       "<1237x1274 sparse matrix of type '<class 'numpy.float64'>'\n",
       "\twith 6463 stored elements in Compressed Sparse Row format>"
      ]
     },
     "execution_count": 36,
     "metadata": {},
     "output_type": "execute_result"
    },
    {
     "data": {
      "text/plain": [
       "LatentDirichletAllocation()"
      ]
     },
     "execution_count": 36,
     "metadata": {},
     "output_type": "execute_result"
    },
    {
     "data": {
      "text/plain": [
       "<2000x2146 sparse matrix of type '<class 'numpy.float64'>'\n",
       "\twith 15281 stored elements in Compressed Sparse Row format>"
      ]
     },
     "execution_count": 36,
     "metadata": {},
     "output_type": "execute_result"
    },
    {
     "data": {
      "text/plain": [
       "LatentDirichletAllocation()"
      ]
     },
     "execution_count": 36,
     "metadata": {},
     "output_type": "execute_result"
    },
    {
     "data": {
      "text/plain": [
       "<2000x4308 sparse matrix of type '<class 'numpy.float64'>'\n",
       "\twith 25405 stored elements in Compressed Sparse Row format>"
      ]
     },
     "execution_count": 36,
     "metadata": {},
     "output_type": "execute_result"
    },
    {
     "data": {
      "text/plain": [
       "LatentDirichletAllocation()"
      ]
     },
     "execution_count": 36,
     "metadata": {},
     "output_type": "execute_result"
    },
    {
     "data": {
      "text/plain": [
       "<2000x2158 sparse matrix of type '<class 'numpy.float64'>'\n",
       "\twith 16900 stored elements in Compressed Sparse Row format>"
      ]
     },
     "execution_count": 36,
     "metadata": {},
     "output_type": "execute_result"
    },
    {
     "data": {
      "text/plain": [
       "LatentDirichletAllocation()"
      ]
     },
     "execution_count": 36,
     "metadata": {},
     "output_type": "execute_result"
    },
    {
     "data": {
      "text/plain": [
       "<2000x2031 sparse matrix of type '<class 'numpy.float64'>'\n",
       "\twith 9285 stored elements in Compressed Sparse Row format>"
      ]
     },
     "execution_count": 36,
     "metadata": {},
     "output_type": "execute_result"
    },
    {
     "data": {
      "text/plain": [
       "LatentDirichletAllocation()"
      ]
     },
     "execution_count": 36,
     "metadata": {},
     "output_type": "execute_result"
    },
    {
     "data": {
      "text/plain": [
       "<2000x1436 sparse matrix of type '<class 'numpy.float64'>'\n",
       "\twith 13129 stored elements in Compressed Sparse Row format>"
      ]
     },
     "execution_count": 36,
     "metadata": {},
     "output_type": "execute_result"
    },
    {
     "data": {
      "text/plain": [
       "LatentDirichletAllocation()"
      ]
     },
     "execution_count": 36,
     "metadata": {},
     "output_type": "execute_result"
    },
    {
     "data": {
      "text/plain": [
       "<2000x1030 sparse matrix of type '<class 'numpy.float64'>'\n",
       "\twith 11057 stored elements in Compressed Sparse Row format>"
      ]
     },
     "execution_count": 36,
     "metadata": {},
     "output_type": "execute_result"
    },
    {
     "data": {
      "text/plain": [
       "LatentDirichletAllocation()"
      ]
     },
     "execution_count": 36,
     "metadata": {},
     "output_type": "execute_result"
    },
    {
     "data": {
      "text/plain": [
       "<2000x1102 sparse matrix of type '<class 'numpy.float64'>'\n",
       "\twith 8056 stored elements in Compressed Sparse Row format>"
      ]
     },
     "execution_count": 36,
     "metadata": {},
     "output_type": "execute_result"
    },
    {
     "data": {
      "text/plain": [
       "LatentDirichletAllocation()"
      ]
     },
     "execution_count": 36,
     "metadata": {},
     "output_type": "execute_result"
    },
    {
     "data": {
      "text/plain": [
       "<2000x2278 sparse matrix of type '<class 'numpy.float64'>'\n",
       "\twith 17253 stored elements in Compressed Sparse Row format>"
      ]
     },
     "execution_count": 36,
     "metadata": {},
     "output_type": "execute_result"
    },
    {
     "data": {
      "text/plain": [
       "LatentDirichletAllocation()"
      ]
     },
     "execution_count": 36,
     "metadata": {},
     "output_type": "execute_result"
    },
    {
     "data": {
      "text/plain": [
       "<2000x1719 sparse matrix of type '<class 'numpy.float64'>'\n",
       "\twith 12122 stored elements in Compressed Sparse Row format>"
      ]
     },
     "execution_count": 36,
     "metadata": {},
     "output_type": "execute_result"
    },
    {
     "data": {
      "text/plain": [
       "LatentDirichletAllocation()"
      ]
     },
     "execution_count": 36,
     "metadata": {},
     "output_type": "execute_result"
    },
    {
     "data": {
      "text/plain": [
       "<2000x2317 sparse matrix of type '<class 'numpy.float64'>'\n",
       "\twith 14476 stored elements in Compressed Sparse Row format>"
      ]
     },
     "execution_count": 36,
     "metadata": {},
     "output_type": "execute_result"
    },
    {
     "data": {
      "text/plain": [
       "LatentDirichletAllocation()"
      ]
     },
     "execution_count": 36,
     "metadata": {},
     "output_type": "execute_result"
    },
    {
     "data": {
      "text/plain": [
       "<2000x2185 sparse matrix of type '<class 'numpy.float64'>'\n",
       "\twith 11594 stored elements in Compressed Sparse Row format>"
      ]
     },
     "execution_count": 36,
     "metadata": {},
     "output_type": "execute_result"
    },
    {
     "data": {
      "text/plain": [
       "LatentDirichletAllocation()"
      ]
     },
     "execution_count": 36,
     "metadata": {},
     "output_type": "execute_result"
    },
    {
     "data": {
      "text/plain": [
       "<2000x1111 sparse matrix of type '<class 'numpy.float64'>'\n",
       "\twith 8043 stored elements in Compressed Sparse Row format>"
      ]
     },
     "execution_count": 36,
     "metadata": {},
     "output_type": "execute_result"
    },
    {
     "data": {
      "text/plain": [
       "LatentDirichletAllocation()"
      ]
     },
     "execution_count": 36,
     "metadata": {},
     "output_type": "execute_result"
    },
    {
     "data": {
      "text/plain": [
       "<1965x835 sparse matrix of type '<class 'numpy.float64'>'\n",
       "\twith 7112 stored elements in Compressed Sparse Row format>"
      ]
     },
     "execution_count": 36,
     "metadata": {},
     "output_type": "execute_result"
    },
    {
     "data": {
      "text/plain": [
       "LatentDirichletAllocation()"
      ]
     },
     "execution_count": 36,
     "metadata": {},
     "output_type": "execute_result"
    },
    {
     "data": {
      "text/plain": [
       "<2000x1595 sparse matrix of type '<class 'numpy.float64'>'\n",
       "\twith 13020 stored elements in Compressed Sparse Row format>"
      ]
     },
     "execution_count": 36,
     "metadata": {},
     "output_type": "execute_result"
    },
    {
     "data": {
      "text/plain": [
       "LatentDirichletAllocation()"
      ]
     },
     "execution_count": 36,
     "metadata": {},
     "output_type": "execute_result"
    },
    {
     "data": {
      "text/plain": [
       "<2000x653 sparse matrix of type '<class 'numpy.float64'>'\n",
       "\twith 6423 stored elements in Compressed Sparse Row format>"
      ]
     },
     "execution_count": 36,
     "metadata": {},
     "output_type": "execute_result"
    },
    {
     "data": {
      "text/plain": [
       "LatentDirichletAllocation()"
      ]
     },
     "execution_count": 36,
     "metadata": {},
     "output_type": "execute_result"
    },
    {
     "data": {
      "text/plain": [
       "<2000x1906 sparse matrix of type '<class 'numpy.float64'>'\n",
       "\twith 9367 stored elements in Compressed Sparse Row format>"
      ]
     },
     "execution_count": 36,
     "metadata": {},
     "output_type": "execute_result"
    },
    {
     "data": {
      "text/plain": [
       "LatentDirichletAllocation()"
      ]
     },
     "execution_count": 36,
     "metadata": {},
     "output_type": "execute_result"
    },
    {
     "data": {
      "text/plain": [
       "<2000x2333 sparse matrix of type '<class 'numpy.float64'>'\n",
       "\twith 12031 stored elements in Compressed Sparse Row format>"
      ]
     },
     "execution_count": 36,
     "metadata": {},
     "output_type": "execute_result"
    },
    {
     "data": {
      "text/plain": [
       "LatentDirichletAllocation()"
      ]
     },
     "execution_count": 36,
     "metadata": {},
     "output_type": "execute_result"
    },
    {
     "data": {
      "text/plain": [
       "<2000x2145 sparse matrix of type '<class 'numpy.float64'>'\n",
       "\twith 11447 stored elements in Compressed Sparse Row format>"
      ]
     },
     "execution_count": 36,
     "metadata": {},
     "output_type": "execute_result"
    },
    {
     "data": {
      "text/plain": [
       "LatentDirichletAllocation()"
      ]
     },
     "execution_count": 36,
     "metadata": {},
     "output_type": "execute_result"
    },
    {
     "data": {
      "text/plain": [
       "<2000x2698 sparse matrix of type '<class 'numpy.float64'>'\n",
       "\twith 14276 stored elements in Compressed Sparse Row format>"
      ]
     },
     "execution_count": 36,
     "metadata": {},
     "output_type": "execute_result"
    },
    {
     "data": {
      "text/plain": [
       "LatentDirichletAllocation()"
      ]
     },
     "execution_count": 36,
     "metadata": {},
     "output_type": "execute_result"
    },
    {
     "data": {
      "text/plain": [
       "<1325x1622 sparse matrix of type '<class 'numpy.float64'>'\n",
       "\twith 9863 stored elements in Compressed Sparse Row format>"
      ]
     },
     "execution_count": 36,
     "metadata": {},
     "output_type": "execute_result"
    },
    {
     "data": {
      "text/plain": [
       "LatentDirichletAllocation()"
      ]
     },
     "execution_count": 36,
     "metadata": {},
     "output_type": "execute_result"
    },
    {
     "data": {
      "text/plain": [
       "<2000x2259 sparse matrix of type '<class 'numpy.float64'>'\n",
       "\twith 15354 stored elements in Compressed Sparse Row format>"
      ]
     },
     "execution_count": 36,
     "metadata": {},
     "output_type": "execute_result"
    },
    {
     "data": {
      "text/plain": [
       "LatentDirichletAllocation()"
      ]
     },
     "execution_count": 36,
     "metadata": {},
     "output_type": "execute_result"
    },
    {
     "data": {
      "text/plain": [
       "<514x693 sparse matrix of type '<class 'numpy.float64'>'\n",
       "\twith 3234 stored elements in Compressed Sparse Row format>"
      ]
     },
     "execution_count": 36,
     "metadata": {},
     "output_type": "execute_result"
    },
    {
     "data": {
      "text/plain": [
       "LatentDirichletAllocation()"
      ]
     },
     "execution_count": 36,
     "metadata": {},
     "output_type": "execute_result"
    },
    {
     "data": {
      "text/plain": [
       "<1949x1168 sparse matrix of type '<class 'numpy.float64'>'\n",
       "\twith 7879 stored elements in Compressed Sparse Row format>"
      ]
     },
     "execution_count": 36,
     "metadata": {},
     "output_type": "execute_result"
    },
    {
     "data": {
      "text/plain": [
       "LatentDirichletAllocation()"
      ]
     },
     "execution_count": 36,
     "metadata": {},
     "output_type": "execute_result"
    },
    {
     "data": {
      "text/plain": [
       "<1988x652 sparse matrix of type '<class 'numpy.float64'>'\n",
       "\twith 6119 stored elements in Compressed Sparse Row format>"
      ]
     },
     "execution_count": 36,
     "metadata": {},
     "output_type": "execute_result"
    },
    {
     "data": {
      "text/plain": [
       "LatentDirichletAllocation()"
      ]
     },
     "execution_count": 36,
     "metadata": {},
     "output_type": "execute_result"
    },
    {
     "data": {
      "text/plain": [
       "<2000x1366 sparse matrix of type '<class 'numpy.float64'>'\n",
       "\twith 9039 stored elements in Compressed Sparse Row format>"
      ]
     },
     "execution_count": 36,
     "metadata": {},
     "output_type": "execute_result"
    },
    {
     "data": {
      "text/plain": [
       "LatentDirichletAllocation()"
      ]
     },
     "execution_count": 36,
     "metadata": {},
     "output_type": "execute_result"
    },
    {
     "data": {
      "text/plain": [
       "<2000x1972 sparse matrix of type '<class 'numpy.float64'>'\n",
       "\twith 12901 stored elements in Compressed Sparse Row format>"
      ]
     },
     "execution_count": 36,
     "metadata": {},
     "output_type": "execute_result"
    },
    {
     "data": {
      "text/plain": [
       "LatentDirichletAllocation()"
      ]
     },
     "execution_count": 36,
     "metadata": {},
     "output_type": "execute_result"
    },
    {
     "data": {
      "text/plain": [
       "<2000x1442 sparse matrix of type '<class 'numpy.float64'>'\n",
       "\twith 12724 stored elements in Compressed Sparse Row format>"
      ]
     },
     "execution_count": 36,
     "metadata": {},
     "output_type": "execute_result"
    },
    {
     "data": {
      "text/plain": [
       "LatentDirichletAllocation()"
      ]
     },
     "execution_count": 36,
     "metadata": {},
     "output_type": "execute_result"
    },
    {
     "data": {
      "text/plain": [
       "<710x758 sparse matrix of type '<class 'numpy.float64'>'\n",
       "\twith 4399 stored elements in Compressed Sparse Row format>"
      ]
     },
     "execution_count": 36,
     "metadata": {},
     "output_type": "execute_result"
    },
    {
     "data": {
      "text/plain": [
       "LatentDirichletAllocation()"
      ]
     },
     "execution_count": 36,
     "metadata": {},
     "output_type": "execute_result"
    },
    {
     "data": {
      "text/plain": [
       "<2000x1480 sparse matrix of type '<class 'numpy.float64'>'\n",
       "\twith 12749 stored elements in Compressed Sparse Row format>"
      ]
     },
     "execution_count": 36,
     "metadata": {},
     "output_type": "execute_result"
    },
    {
     "data": {
      "text/plain": [
       "LatentDirichletAllocation()"
      ]
     },
     "execution_count": 36,
     "metadata": {},
     "output_type": "execute_result"
    },
    {
     "data": {
      "text/plain": [
       "<933x614 sparse matrix of type '<class 'numpy.float64'>'\n",
       "\twith 3665 stored elements in Compressed Sparse Row format>"
      ]
     },
     "execution_count": 36,
     "metadata": {},
     "output_type": "execute_result"
    },
    {
     "data": {
      "text/plain": [
       "LatentDirichletAllocation()"
      ]
     },
     "execution_count": 36,
     "metadata": {},
     "output_type": "execute_result"
    },
    {
     "data": {
      "text/plain": [
       "<2000x2173 sparse matrix of type '<class 'numpy.float64'>'\n",
       "\twith 12549 stored elements in Compressed Sparse Row format>"
      ]
     },
     "execution_count": 36,
     "metadata": {},
     "output_type": "execute_result"
    },
    {
     "data": {
      "text/plain": [
       "LatentDirichletAllocation()"
      ]
     },
     "execution_count": 36,
     "metadata": {},
     "output_type": "execute_result"
    },
    {
     "data": {
      "text/plain": [
       "<1166x697 sparse matrix of type '<class 'numpy.float64'>'\n",
       "\twith 4562 stored elements in Compressed Sparse Row format>"
      ]
     },
     "execution_count": 36,
     "metadata": {},
     "output_type": "execute_result"
    },
    {
     "data": {
      "text/plain": [
       "LatentDirichletAllocation()"
      ]
     },
     "execution_count": 36,
     "metadata": {},
     "output_type": "execute_result"
    },
    {
     "data": {
      "text/plain": [
       "<2000x1597 sparse matrix of type '<class 'numpy.float64'>'\n",
       "\twith 11296 stored elements in Compressed Sparse Row format>"
      ]
     },
     "execution_count": 36,
     "metadata": {},
     "output_type": "execute_result"
    },
    {
     "data": {
      "text/plain": [
       "LatentDirichletAllocation()"
      ]
     },
     "execution_count": 36,
     "metadata": {},
     "output_type": "execute_result"
    },
    {
     "data": {
      "text/plain": [
       "<2000x1409 sparse matrix of type '<class 'numpy.float64'>'\n",
       "\twith 16023 stored elements in Compressed Sparse Row format>"
      ]
     },
     "execution_count": 36,
     "metadata": {},
     "output_type": "execute_result"
    },
    {
     "data": {
      "text/plain": [
       "LatentDirichletAllocation()"
      ]
     },
     "execution_count": 36,
     "metadata": {},
     "output_type": "execute_result"
    },
    {
     "data": {
      "text/plain": [
       "<2000x762 sparse matrix of type '<class 'numpy.float64'>'\n",
       "\twith 7735 stored elements in Compressed Sparse Row format>"
      ]
     },
     "execution_count": 36,
     "metadata": {},
     "output_type": "execute_result"
    },
    {
     "data": {
      "text/plain": [
       "LatentDirichletAllocation()"
      ]
     },
     "execution_count": 36,
     "metadata": {},
     "output_type": "execute_result"
    },
    {
     "data": {
      "text/plain": [
       "<2000x2238 sparse matrix of type '<class 'numpy.float64'>'\n",
       "\twith 12666 stored elements in Compressed Sparse Row format>"
      ]
     },
     "execution_count": 36,
     "metadata": {},
     "output_type": "execute_result"
    },
    {
     "data": {
      "text/plain": [
       "LatentDirichletAllocation()"
      ]
     },
     "execution_count": 36,
     "metadata": {},
     "output_type": "execute_result"
    },
    {
     "data": {
      "text/plain": [
       "<2000x2152 sparse matrix of type '<class 'numpy.float64'>'\n",
       "\twith 13933 stored elements in Compressed Sparse Row format>"
      ]
     },
     "execution_count": 36,
     "metadata": {},
     "output_type": "execute_result"
    },
    {
     "data": {
      "text/plain": [
       "LatentDirichletAllocation()"
      ]
     },
     "execution_count": 36,
     "metadata": {},
     "output_type": "execute_result"
    },
    {
     "data": {
      "text/plain": [
       "<2000x2193 sparse matrix of type '<class 'numpy.float64'>'\n",
       "\twith 14562 stored elements in Compressed Sparse Row format>"
      ]
     },
     "execution_count": 36,
     "metadata": {},
     "output_type": "execute_result"
    },
    {
     "data": {
      "text/plain": [
       "LatentDirichletAllocation()"
      ]
     },
     "execution_count": 36,
     "metadata": {},
     "output_type": "execute_result"
    },
    {
     "data": {
      "text/plain": [
       "<2000x3472 sparse matrix of type '<class 'numpy.float64'>'\n",
       "\twith 28251 stored elements in Compressed Sparse Row format>"
      ]
     },
     "execution_count": 36,
     "metadata": {},
     "output_type": "execute_result"
    },
    {
     "data": {
      "text/plain": [
       "LatentDirichletAllocation()"
      ]
     },
     "execution_count": 36,
     "metadata": {},
     "output_type": "execute_result"
    },
    {
     "data": {
      "text/plain": [
       "<2000x1472 sparse matrix of type '<class 'numpy.float64'>'\n",
       "\twith 14199 stored elements in Compressed Sparse Row format>"
      ]
     },
     "execution_count": 36,
     "metadata": {},
     "output_type": "execute_result"
    },
    {
     "data": {
      "text/plain": [
       "LatentDirichletAllocation()"
      ]
     },
     "execution_count": 36,
     "metadata": {},
     "output_type": "execute_result"
    },
    {
     "data": {
      "text/plain": [
       "<2000x2366 sparse matrix of type '<class 'numpy.float64'>'\n",
       "\twith 11060 stored elements in Compressed Sparse Row format>"
      ]
     },
     "execution_count": 36,
     "metadata": {},
     "output_type": "execute_result"
    },
    {
     "data": {
      "text/plain": [
       "LatentDirichletAllocation()"
      ]
     },
     "execution_count": 36,
     "metadata": {},
     "output_type": "execute_result"
    },
    {
     "data": {
      "text/plain": [
       "<2000x2457 sparse matrix of type '<class 'numpy.float64'>'\n",
       "\twith 11760 stored elements in Compressed Sparse Row format>"
      ]
     },
     "execution_count": 36,
     "metadata": {},
     "output_type": "execute_result"
    },
    {
     "data": {
      "text/plain": [
       "LatentDirichletAllocation()"
      ]
     },
     "execution_count": 36,
     "metadata": {},
     "output_type": "execute_result"
    },
    {
     "data": {
      "text/plain": [
       "<2000x820 sparse matrix of type '<class 'numpy.float64'>'\n",
       "\twith 6287 stored elements in Compressed Sparse Row format>"
      ]
     },
     "execution_count": 36,
     "metadata": {},
     "output_type": "execute_result"
    },
    {
     "data": {
      "text/plain": [
       "LatentDirichletAllocation()"
      ]
     },
     "execution_count": 36,
     "metadata": {},
     "output_type": "execute_result"
    },
    {
     "data": {
      "text/plain": [
       "<2000x2547 sparse matrix of type '<class 'numpy.float64'>'\n",
       "\twith 17176 stored elements in Compressed Sparse Row format>"
      ]
     },
     "execution_count": 36,
     "metadata": {},
     "output_type": "execute_result"
    },
    {
     "data": {
      "text/plain": [
       "LatentDirichletAllocation()"
      ]
     },
     "execution_count": 36,
     "metadata": {},
     "output_type": "execute_result"
    },
    {
     "data": {
      "text/plain": [
       "<348x528 sparse matrix of type '<class 'numpy.float64'>'\n",
       "\twith 1977 stored elements in Compressed Sparse Row format>"
      ]
     },
     "execution_count": 36,
     "metadata": {},
     "output_type": "execute_result"
    },
    {
     "data": {
      "text/plain": [
       "LatentDirichletAllocation()"
      ]
     },
     "execution_count": 36,
     "metadata": {},
     "output_type": "execute_result"
    },
    {
     "data": {
      "text/plain": [
       "<2000x2150 sparse matrix of type '<class 'numpy.float64'>'\n",
       "\twith 12347 stored elements in Compressed Sparse Row format>"
      ]
     },
     "execution_count": 36,
     "metadata": {},
     "output_type": "execute_result"
    },
    {
     "data": {
      "text/plain": [
       "LatentDirichletAllocation()"
      ]
     },
     "execution_count": 36,
     "metadata": {},
     "output_type": "execute_result"
    },
    {
     "data": {
      "text/plain": [
       "<2000x1816 sparse matrix of type '<class 'numpy.float64'>'\n",
       "\twith 18150 stored elements in Compressed Sparse Row format>"
      ]
     },
     "execution_count": 36,
     "metadata": {},
     "output_type": "execute_result"
    },
    {
     "data": {
      "text/plain": [
       "LatentDirichletAllocation()"
      ]
     },
     "execution_count": 36,
     "metadata": {},
     "output_type": "execute_result"
    },
    {
     "data": {
      "text/plain": [
       "<2000x1503 sparse matrix of type '<class 'numpy.float64'>'\n",
       "\twith 10189 stored elements in Compressed Sparse Row format>"
      ]
     },
     "execution_count": 36,
     "metadata": {},
     "output_type": "execute_result"
    },
    {
     "data": {
      "text/plain": [
       "LatentDirichletAllocation()"
      ]
     },
     "execution_count": 36,
     "metadata": {},
     "output_type": "execute_result"
    },
    {
     "data": {
      "text/plain": [
       "<828x361 sparse matrix of type '<class 'numpy.float64'>'\n",
       "\twith 2652 stored elements in Compressed Sparse Row format>"
      ]
     },
     "execution_count": 36,
     "metadata": {},
     "output_type": "execute_result"
    },
    {
     "data": {
      "text/plain": [
       "LatentDirichletAllocation()"
      ]
     },
     "execution_count": 36,
     "metadata": {},
     "output_type": "execute_result"
    },
    {
     "data": {
      "text/plain": [
       "<2000x1695 sparse matrix of type '<class 'numpy.float64'>'\n",
       "\twith 10050 stored elements in Compressed Sparse Row format>"
      ]
     },
     "execution_count": 36,
     "metadata": {},
     "output_type": "execute_result"
    },
    {
     "data": {
      "text/plain": [
       "LatentDirichletAllocation()"
      ]
     },
     "execution_count": 36,
     "metadata": {},
     "output_type": "execute_result"
    },
    {
     "data": {
      "text/plain": [
       "<1947x454 sparse matrix of type '<class 'numpy.float64'>'\n",
       "\twith 6048 stored elements in Compressed Sparse Row format>"
      ]
     },
     "execution_count": 36,
     "metadata": {},
     "output_type": "execute_result"
    },
    {
     "data": {
      "text/plain": [
       "LatentDirichletAllocation()"
      ]
     },
     "execution_count": 36,
     "metadata": {},
     "output_type": "execute_result"
    },
    {
     "data": {
      "text/plain": [
       "<515x440 sparse matrix of type '<class 'numpy.float64'>'\n",
       "\twith 2182 stored elements in Compressed Sparse Row format>"
      ]
     },
     "execution_count": 36,
     "metadata": {},
     "output_type": "execute_result"
    },
    {
     "data": {
      "text/plain": [
       "LatentDirichletAllocation()"
      ]
     },
     "execution_count": 36,
     "metadata": {},
     "output_type": "execute_result"
    },
    {
     "data": {
      "text/plain": [
       "<2000x1892 sparse matrix of type '<class 'numpy.float64'>'\n",
       "\twith 10251 stored elements in Compressed Sparse Row format>"
      ]
     },
     "execution_count": 36,
     "metadata": {},
     "output_type": "execute_result"
    },
    {
     "data": {
      "text/plain": [
       "LatentDirichletAllocation()"
      ]
     },
     "execution_count": 36,
     "metadata": {},
     "output_type": "execute_result"
    },
    {
     "data": {
      "text/plain": [
       "<2000x1802 sparse matrix of type '<class 'numpy.float64'>'\n",
       "\twith 12487 stored elements in Compressed Sparse Row format>"
      ]
     },
     "execution_count": 36,
     "metadata": {},
     "output_type": "execute_result"
    },
    {
     "data": {
      "text/plain": [
       "LatentDirichletAllocation()"
      ]
     },
     "execution_count": 36,
     "metadata": {},
     "output_type": "execute_result"
    },
    {
     "data": {
      "text/plain": [
       "<2000x1920 sparse matrix of type '<class 'numpy.float64'>'\n",
       "\twith 13054 stored elements in Compressed Sparse Row format>"
      ]
     },
     "execution_count": 36,
     "metadata": {},
     "output_type": "execute_result"
    },
    {
     "data": {
      "text/plain": [
       "LatentDirichletAllocation()"
      ]
     },
     "execution_count": 36,
     "metadata": {},
     "output_type": "execute_result"
    },
    {
     "data": {
      "text/plain": [
       "<2000x1184 sparse matrix of type '<class 'numpy.float64'>'\n",
       "\twith 7296 stored elements in Compressed Sparse Row format>"
      ]
     },
     "execution_count": 36,
     "metadata": {},
     "output_type": "execute_result"
    },
    {
     "data": {
      "text/plain": [
       "LatentDirichletAllocation()"
      ]
     },
     "execution_count": 36,
     "metadata": {},
     "output_type": "execute_result"
    },
    {
     "data": {
      "text/plain": [
       "<2000x3195 sparse matrix of type '<class 'numpy.float64'>'\n",
       "\twith 18187 stored elements in Compressed Sparse Row format>"
      ]
     },
     "execution_count": 36,
     "metadata": {},
     "output_type": "execute_result"
    },
    {
     "data": {
      "text/plain": [
       "LatentDirichletAllocation()"
      ]
     },
     "execution_count": 36,
     "metadata": {},
     "output_type": "execute_result"
    },
    {
     "data": {
      "text/plain": [
       "<2000x2173 sparse matrix of type '<class 'numpy.float64'>'\n",
       "\twith 13614 stored elements in Compressed Sparse Row format>"
      ]
     },
     "execution_count": 36,
     "metadata": {},
     "output_type": "execute_result"
    },
    {
     "data": {
      "text/plain": [
       "LatentDirichletAllocation()"
      ]
     },
     "execution_count": 36,
     "metadata": {},
     "output_type": "execute_result"
    },
    {
     "data": {
      "text/plain": [
       "<1641x885 sparse matrix of type '<class 'numpy.float64'>'\n",
       "\twith 6285 stored elements in Compressed Sparse Row format>"
      ]
     },
     "execution_count": 36,
     "metadata": {},
     "output_type": "execute_result"
    },
    {
     "data": {
      "text/plain": [
       "LatentDirichletAllocation()"
      ]
     },
     "execution_count": 36,
     "metadata": {},
     "output_type": "execute_result"
    },
    {
     "data": {
      "text/plain": [
       "<1642x1022 sparse matrix of type '<class 'numpy.float64'>'\n",
       "\twith 7749 stored elements in Compressed Sparse Row format>"
      ]
     },
     "execution_count": 36,
     "metadata": {},
     "output_type": "execute_result"
    },
    {
     "data": {
      "text/plain": [
       "LatentDirichletAllocation()"
      ]
     },
     "execution_count": 36,
     "metadata": {},
     "output_type": "execute_result"
    },
    {
     "data": {
      "text/plain": [
       "<2000x740 sparse matrix of type '<class 'numpy.float64'>'\n",
       "\twith 6259 stored elements in Compressed Sparse Row format>"
      ]
     },
     "execution_count": 36,
     "metadata": {},
     "output_type": "execute_result"
    },
    {
     "data": {
      "text/plain": [
       "LatentDirichletAllocation()"
      ]
     },
     "execution_count": 36,
     "metadata": {},
     "output_type": "execute_result"
    },
    {
     "data": {
      "text/plain": [
       "<2000x1731 sparse matrix of type '<class 'numpy.float64'>'\n",
       "\twith 11797 stored elements in Compressed Sparse Row format>"
      ]
     },
     "execution_count": 36,
     "metadata": {},
     "output_type": "execute_result"
    },
    {
     "data": {
      "text/plain": [
       "LatentDirichletAllocation()"
      ]
     },
     "execution_count": 36,
     "metadata": {},
     "output_type": "execute_result"
    },
    {
     "data": {
      "text/plain": [
       "<2000x1668 sparse matrix of type '<class 'numpy.float64'>'\n",
       "\twith 16358 stored elements in Compressed Sparse Row format>"
      ]
     },
     "execution_count": 36,
     "metadata": {},
     "output_type": "execute_result"
    },
    {
     "data": {
      "text/plain": [
       "LatentDirichletAllocation()"
      ]
     },
     "execution_count": 36,
     "metadata": {},
     "output_type": "execute_result"
    },
    {
     "data": {
      "text/plain": [
       "<1493x901 sparse matrix of type '<class 'numpy.float64'>'\n",
       "\twith 6325 stored elements in Compressed Sparse Row format>"
      ]
     },
     "execution_count": 36,
     "metadata": {},
     "output_type": "execute_result"
    },
    {
     "data": {
      "text/plain": [
       "LatentDirichletAllocation()"
      ]
     },
     "execution_count": 36,
     "metadata": {},
     "output_type": "execute_result"
    },
    {
     "data": {
      "text/plain": [
       "<2000x693 sparse matrix of type '<class 'numpy.float64'>'\n",
       "\twith 6147 stored elements in Compressed Sparse Row format>"
      ]
     },
     "execution_count": 36,
     "metadata": {},
     "output_type": "execute_result"
    },
    {
     "data": {
      "text/plain": [
       "LatentDirichletAllocation()"
      ]
     },
     "execution_count": 36,
     "metadata": {},
     "output_type": "execute_result"
    },
    {
     "data": {
      "text/plain": [
       "<2000x2446 sparse matrix of type '<class 'numpy.float64'>'\n",
       "\twith 15304 stored elements in Compressed Sparse Row format>"
      ]
     },
     "execution_count": 36,
     "metadata": {},
     "output_type": "execute_result"
    },
    {
     "data": {
      "text/plain": [
       "LatentDirichletAllocation()"
      ]
     },
     "execution_count": 36,
     "metadata": {},
     "output_type": "execute_result"
    },
    {
     "data": {
      "text/plain": [
       "<2000x1642 sparse matrix of type '<class 'numpy.float64'>'\n",
       "\twith 14035 stored elements in Compressed Sparse Row format>"
      ]
     },
     "execution_count": 36,
     "metadata": {},
     "output_type": "execute_result"
    },
    {
     "data": {
      "text/plain": [
       "LatentDirichletAllocation()"
      ]
     },
     "execution_count": 36,
     "metadata": {},
     "output_type": "execute_result"
    },
    {
     "data": {
      "text/plain": [
       "<2000x1967 sparse matrix of type '<class 'numpy.float64'>'\n",
       "\twith 9203 stored elements in Compressed Sparse Row format>"
      ]
     },
     "execution_count": 36,
     "metadata": {},
     "output_type": "execute_result"
    },
    {
     "data": {
      "text/plain": [
       "LatentDirichletAllocation()"
      ]
     },
     "execution_count": 36,
     "metadata": {},
     "output_type": "execute_result"
    },
    {
     "data": {
      "text/plain": [
       "<2000x3881 sparse matrix of type '<class 'numpy.float64'>'\n",
       "\twith 24711 stored elements in Compressed Sparse Row format>"
      ]
     },
     "execution_count": 36,
     "metadata": {},
     "output_type": "execute_result"
    },
    {
     "data": {
      "text/plain": [
       "LatentDirichletAllocation()"
      ]
     },
     "execution_count": 36,
     "metadata": {},
     "output_type": "execute_result"
    },
    {
     "data": {
      "text/plain": [
       "<2000x1748 sparse matrix of type '<class 'numpy.float64'>'\n",
       "\twith 12782 stored elements in Compressed Sparse Row format>"
      ]
     },
     "execution_count": 36,
     "metadata": {},
     "output_type": "execute_result"
    },
    {
     "data": {
      "text/plain": [
       "LatentDirichletAllocation()"
      ]
     },
     "execution_count": 36,
     "metadata": {},
     "output_type": "execute_result"
    },
    {
     "data": {
      "text/plain": [
       "<2000x1973 sparse matrix of type '<class 'numpy.float64'>'\n",
       "\twith 15023 stored elements in Compressed Sparse Row format>"
      ]
     },
     "execution_count": 36,
     "metadata": {},
     "output_type": "execute_result"
    },
    {
     "data": {
      "text/plain": [
       "LatentDirichletAllocation()"
      ]
     },
     "execution_count": 36,
     "metadata": {},
     "output_type": "execute_result"
    },
    {
     "data": {
      "text/plain": [
       "<2000x1929 sparse matrix of type '<class 'numpy.float64'>'\n",
       "\twith 8005 stored elements in Compressed Sparse Row format>"
      ]
     },
     "execution_count": 36,
     "metadata": {},
     "output_type": "execute_result"
    },
    {
     "data": {
      "text/plain": [
       "LatentDirichletAllocation()"
      ]
     },
     "execution_count": 36,
     "metadata": {},
     "output_type": "execute_result"
    },
    {
     "data": {
      "text/plain": [
       "[5.855523528837968,\n",
       " 5.8844659159336326,\n",
       " 6.080512453098768,\n",
       " 5.93230208021543,\n",
       " 5.873175202141373,\n",
       " 5.84129509262386,\n",
       " 6.282443347300071,\n",
       " 5.9643225249557705,\n",
       " 5.625534134450122,\n",
       " 5.538799044198494,\n",
       " 6.087232480130856,\n",
       " 5.827496781083836,\n",
       " 5.746485255800232,\n",
       " 6.1048026073292405,\n",
       " 5.312860912992102,\n",
       " 5.433396275725177,\n",
       " 6.254957269106813,\n",
       " 6.006603848366054,\n",
       " 5.9549634307508095,\n",
       " 5.864396141709544,\n",
       " 5.879690367292054,\n",
       " 5.673638734672521,\n",
       " 5.875297801330791,\n",
       " 6.110867721266465,\n",
       " 5.959733311848057,\n",
       " 6.2131255803738314,\n",
       " 6.320976289311512,\n",
       " 4.807126086464339,\n",
       " 5.712653684418232,\n",
       " 5.88588960626422,\n",
       " 5.905367006242672,\n",
       " 5.824070317199728,\n",
       " 5.982526494278221,\n",
       " 5.970775511399994,\n",
       " 6.134339026525092,\n",
       " 6.086124198485876,\n",
       " 5.7930050045417225,\n",
       " 5.961620681942353,\n",
       " 5.822665542085141,\n",
       " 5.440578493235696,\n",
       " 5.850015299409177,\n",
       " 6.019673923917133,\n",
       " 5.730421443193486,\n",
       " 6.142064903511754,\n",
       " 5.983083635928866,\n",
       " 5.469085658575041,\n",
       " 5.4759032815747855,\n",
       " 5.858717420377021,\n",
       " 5.773366861573121,\n",
       " 5.997038410458549,\n",
       " 5.4470206791757905,\n",
       " 6.047258586727591,\n",
       " 6.241605594449301,\n",
       " 5.675482846335998,\n",
       " 5.27075406021604,\n",
       " 5.996486772296101,\n",
       " 6.090161096798822,\n",
       " 5.914231100479967,\n",
       " 5.8127109894356455,\n",
       " 6.00888760396181,\n",
       " 6.082573562318588,\n",
       " 5.730063225548201,\n",
       " 5.781252579672566,\n",
       " 5.220800306619518,\n",
       " 5.794511355619873,\n",
       " 5.697396344079712,\n",
       " 6.125110682044754,\n",
       " 5.817875990550602,\n",
       " 6.299961806550265,\n",
       " 5.725547106013967,\n",
       " 5.962611401693982,\n",
       " 5.552611964903184,\n",
       " 6.578219958323632,\n",
       " 6.163784522455591,\n",
       " 6.29755918824647,\n",
       " 6.22949318585494,\n",
       " 6.035067512118092,\n",
       " 5.5072303213538785,\n",
       " 6.3995097824364455,\n",
       " 5.761421952674359,\n",
       " 5.362534869623859,\n",
       " 5.492955466775426,\n",
       " 5.959512960199762,\n",
       " 5.189287203522516,\n",
       " 6.047462927156453,\n",
       " 5.108278824340823,\n",
       " 5.630725397249406,\n",
       " 5.9827298509821105,\n",
       " 5.948611052541429,\n",
       " 5.745586543785818,\n",
       " 5.346377851073987,\n",
       " 5.438864895507254,\n",
       " 6.013903063793508,\n",
       " 5.687666195027811,\n",
       " 5.525718041197227,\n",
       " 4.520629259324491,\n",
       " 6.00768578673827,\n",
       " 6.157525922672635,\n",
       " 5.889645028185707,\n",
       " 6.6230915149729395,\n",
       " 5.890605076234208,\n",
       " 5.508389114580668,\n",
       " 5.546953703949259,\n",
       " 6.186823087570771,\n",
       " 5.867867604915765,\n",
       " 5.963296375670669,\n",
       " 4.952859503840076,\n",
       " 6.266764563423978,\n",
       " 5.281933239031529,\n",
       " 5.6559144695597,\n",
       " 5.949904970451086,\n",
       " 4.860398205318915,\n",
       " 5.836749414288923,\n",
       " 6.000009453285655,\n",
       " 6.272713114929531,\n",
       " 5.796687930216607,\n",
       " 5.3374888543574475,\n",
       " 5.737139413034272,\n",
       " 6.2628225471607575,\n",
       " 5.373664592470847,\n",
       " 6.0186514263493915,\n",
       " 5.831451845766873,\n",
       " 5.578321446416998,\n",
       " 6.1111309387012795,\n",
       " 5.994549896932968,\n",
       " 6.091282684347995,\n",
       " 6.211422764428273,\n",
       " 5.551777251789401,\n",
       " 6.071022019179962,\n",
       " 5.408565090973889,\n",
       " 5.973318299529732,\n",
       " 5.568042765737092,\n",
       " 6.128906266604089,\n",
       " 5.710756170643345,\n",
       " 6.235267867366643,\n",
       " 5.250996373252673,\n",
       " 5.745545168325952,\n",
       " 5.3444130125097065,\n",
       " 5.850596227745539,\n",
       " 5.739577543532009,\n",
       " 5.810998378216633,\n",
       " 5.667616697366339,\n",
       " 5.724675719893469]"
      ]
     },
     "execution_count": 36,
     "metadata": {},
     "output_type": "execute_result"
    },
    {
     "data": {
      "text/plain": [
       "[0.10382513661202186,\n",
       " 0.1117092866756393,\n",
       " 0.14343845371312308,\n",
       " 0.23573200992555832,\n",
       " 0.2542372881355932,\n",
       " 0.17446808510638298,\n",
       " 0.14049586776859505,\n",
       " 0.21686746987951808,\n",
       " 0.20905172413793102,\n",
       " 0.10714285714285714,\n",
       " 0.24074074074074073,\n",
       " 0.1927710843373494,\n",
       " 0.12,\n",
       " 0.2891566265060241,\n",
       " 0.24299065420560748,\n",
       " 0.2558139534883721,\n",
       " 0.07833163784333673,\n",
       " 0.20425531914893616,\n",
       " 0.25,\n",
       " 0.22629969418960244,\n",
       " 0.16062176165803108,\n",
       " 0.24170616113744076,\n",
       " 0.09448818897637795,\n",
       " 0.22420634920634921,\n",
       " 0.225,\n",
       " 0.1423728813559322,\n",
       " 0.11170212765957446,\n",
       " 0.3333333333333333,\n",
       " 0.30711610486891383,\n",
       " 0.24,\n",
       " 0.09664694280078895,\n",
       " 0.41304347826086957,\n",
       " 0.10526315789473684,\n",
       " 0.22650602409638554,\n",
       " 0.15151515151515152,\n",
       " 0.17272727272727273,\n",
       " 0.09126984126984126,\n",
       " 0.13565891472868216,\n",
       " 0.3409090909090909,\n",
       " 0.21875,\n",
       " 0.3103448275862069,\n",
       " 0.15450643776824036,\n",
       " 0.13957934990439771,\n",
       " 0.1625615763546798,\n",
       " 0.1457725947521866,\n",
       " 0.15384615384615385,\n",
       " 0.3355263157894737,\n",
       " 0.34843205574912894,\n",
       " 0.23243243243243245,\n",
       " 0.15207373271889402,\n",
       " 0.2860215053763441,\n",
       " 0.20065789473684212,\n",
       " 0.141399416909621,\n",
       " 0.2153846153846154,\n",
       " 0.2835249042145594,\n",
       " 0.23015873015873015,\n",
       " 0.213768115942029,\n",
       " 0.24060150375939848,\n",
       " 0.24585635359116023,\n",
       " 0.1222707423580786,\n",
       " 0.13861386138613863,\n",
       " 0.297029702970297,\n",
       " 0.16825396825396827,\n",
       " 0.5256410256410257,\n",
       " 0.1,\n",
       " 0.3129251700680272,\n",
       " 0.19607843137254902,\n",
       " 0.234375,\n",
       " 0.09954751131221719,\n",
       " 0.24444444444444444,\n",
       " 0.16666666666666666,\n",
       " 0.1926605504587156,\n",
       " 0.0895,\n",
       " 0.17777777777777778,\n",
       " 0.25,\n",
       " 0.08620689655172414,\n",
       " 0.12109375,\n",
       " 0.17391304347826086,\n",
       " 0.13230769230769232,\n",
       " 0.36486486486486486,\n",
       " 0.3567073170731707,\n",
       " 0.4424778761061947,\n",
       " 0.1323529411764706,\n",
       " 0.5384615384615384,\n",
       " 0.1625615763546798,\n",
       " 0.30434782608695654,\n",
       " 0.2682926829268293,\n",
       " 0.2097902097902098,\n",
       " 0.2553191489361702,\n",
       " 0.22631578947368422,\n",
       " 0.3505747126436782,\n",
       " 0.28313253012048195,\n",
       " 0.3191489361702128,\n",
       " 0.3253012048192771,\n",
       " 0.3088235294117647,\n",
       " 0.2926829268292683,\n",
       " 0.3150684931506849,\n",
       " 0.06289308176100629,\n",
       " 0.1864406779661017,\n",
       " 0.1111111111111111,\n",
       " 0.14720812182741116,\n",
       " 0.26666666666666666,\n",
       " 0.20833333333333334,\n",
       " 0.16774193548387098,\n",
       " 0.1265,\n",
       " 0.16129032258064516,\n",
       " 0.33668341708542715,\n",
       " 0.14746543778801843,\n",
       " 0.3250883392226148,\n",
       " 0.20695970695970695,\n",
       " 0.15,\n",
       " 0.4852941176470588,\n",
       " 0.22777777777777777,\n",
       " 0.3387096774193548,\n",
       " 0.09929078014184398,\n",
       " 0.12790697674418605,\n",
       " 0.3619047619047619,\n",
       " 0.15139442231075698,\n",
       " 0.26024096385542167,\n",
       " 0.36,\n",
       " 0.22807017543859648,\n",
       " 0.2608695652173913,\n",
       " 0.41935483870967744,\n",
       " 0.20333333333333334,\n",
       " 0.18192627824019025,\n",
       " 0.17857142857142858,\n",
       " 0.21722846441947566,\n",
       " 0.3022508038585209,\n",
       " 0.28273809523809523,\n",
       " 0.2679738562091503,\n",
       " 0.15432098765432098,\n",
       " 0.058823529411764705,\n",
       " 0.13452914798206278,\n",
       " 0.31451612903225806,\n",
       " 0.22839506172839505,\n",
       " 0.4634146341463415,\n",
       " 0.19888475836431227,\n",
       " 0.3157894736842105,\n",
       " 0.3422818791946309,\n",
       " 0.09579439252336448,\n",
       " 0.15966386554621848,\n",
       " 0.38666666666666666,\n",
       " 0.452991452991453]"
      ]
     },
     "execution_count": 36,
     "metadata": {},
     "output_type": "execute_result"
    }
   ],
   "source": [
    "import os\n",
    "import pandas as pd\n",
    "import numpy as np\n",
    "from datetime import datetime\n",
    "import re\n",
    "from sklearn.feature_extraction.text import TfidfTransformer\n",
    "from sklearn.decomposition import LatentDirichletAllocation\n",
    "from snownlp import SnowNLP\n",
    "import jieba.analyse as ana\n",
    "\n",
    "\n",
    "sen_avg_list= []  #综合情感值得分列表\n",
    "grades_list = [] #负面评论所占比重列表\n",
    "\n",
    "for parent,dirnames,filenames in os.walk(r'../data/taobao/new/评论数据/'):\n",
    "    for filename in filenames:\n",
    "        #root 所指的是当前正在遍历的这个文件夹的本身的地址\n",
    "        #dirs 是一个 list ，内容是该文件夹中所有的目录的名字(不包括子目录)\n",
    "        #files 同样是 list , 内容是该文件夹中所有的文件(不包括子目录)\n",
    "\n",
    "#         print(parent+filename)\n",
    "        df = pd.read_csv(parent+filename,skiprows =1,lineterminator=\"\\n\") \n",
    "        df = df.iloc[:len(df)-2]['评价内容']\n",
    "#         print(df)\n",
    "        \n",
    "        #分词\n",
    "        dict1 = '../data/nlp/电商客服输入法.txt'\n",
    "        dict2 = '../data/nlp/电子商务专用词汇.txt'\n",
    "        jieba.load_userdict(dict1) # dict_为自定义词典的路径\n",
    "        jieba.load_userdict(dict2) # dict_为自定义词典的路径\n",
    "\n",
    "\n",
    "\n",
    "        # 去除停用词\n",
    "        # 使用预先准备的停用词表\n",
    "#         tmpdf = pd.read_csv('../data/nlp/停用词.txt',\n",
    "#                             names = ['w'], sep = 'aaa', encoding = 'utf-8')\n",
    "#         tmpdf.head()\n",
    "\n",
    "        ana.set_stop_words('../data/nlp/停用词.txt')\n",
    "\n",
    "        for i,value in enumerate(df):\n",
    "            res = ana.extract_tags(value , topK = 50) # 使用TF-IDF算法提取关键词，并同时去掉停用词\n",
    "            df[i] = ' '.join(res)\n",
    "  \n",
    "        \n",
    "    \n",
    "        #特征提取\n",
    "        vectorizer = CountVectorizer() \n",
    "        X = vectorizer.fit_transform(df) # 将文本中的词语转换为词频矩阵  \n",
    "        transformer = TfidfTransformer()  \n",
    "        tfidf = transformer.fit_transform(X)  #基于词频矩阵X计算TF-IDF值  \n",
    "        tfidf\n",
    "\n",
    "\n",
    "#         tfidf.toarray() # 转换为数组\n",
    "#         tfidf.todense() # 转换为矩阵\n",
    "#         tfidf.todense().shape\n",
    "#         print(\"字典长度：\", len(vectorizer.vocabulary_))\n",
    "#         vectorizer.vocabulary_\n",
    "        \n",
    "        #抽取文档主题\n",
    "        # 设定LDA模型\n",
    "        n_topics = 10\n",
    "        ldamodel = LatentDirichletAllocation(n_components = n_topics)\n",
    "        \n",
    "        # 拟合LDA模型\n",
    "        ldamodel.fit(tfidf)\n",
    "        \n",
    "        # 拟合后模型的实质\n",
    "#         print(ldamodel.components_.shape)\n",
    "#         ldamodel.components_[:2]\n",
    "\n",
    "        \n",
    "        #打印出前十个主题的10关键词信息\n",
    "        n_top_words = 10\n",
    "        tf_feature_names = vectorizer.get_feature_names()\n",
    "\n",
    "        #--------------------------------------------------------------------------------------\n",
    "        #获取每家店铺的情感值得分  \n",
    "        sen_total = []\n",
    "        for topic_idx, topic in enumerate(ldamodel.components_):\n",
    "            sum_ = 0\n",
    "            str_topic = np.array([tf_feature_names[i] \n",
    "                            for i in topic.argsort()[:-n_top_words - 1:-1]])\n",
    "            if len(str_topic) > 0 :\n",
    "                for i in str_topic:     #对每个主题的情绪值求和\n",
    "                   sum_ += SnowNLP(i).sentiments\n",
    "\n",
    "            else:\n",
    "                sum_ = 0\n",
    "            sen_total.append(sum_)\n",
    "\n",
    "        sen_total = np.array(sen_total)\n",
    "        sen_avg = sen_total.mean()  #对各个主题求平均\n",
    "        sen_avg_list.append(sen_avg)   \n",
    "        #--------------------------------------------------------------------------------------\n",
    "        \n",
    "        \n",
    "        #--------------------------------------------------------------------------------------\n",
    "        #获取负面评论\n",
    "        grades = []\n",
    "        neg_grades = []\n",
    "        try:\n",
    "            for i, value in enumerate(df):\n",
    "                sum_ = 0 \n",
    "                for j in value.split(\" \"):\n",
    "                    sum_+= SnowNLP(j).sentiments\n",
    "                avg_word = sum_/len(value.split(\" \"))  \n",
    "                \n",
    "                \n",
    "                if avg_word < 0.5:\n",
    "                    neg_grades.append(avg_word)\n",
    "                grades.append(avg_word)    \n",
    "           \n",
    "        except:\n",
    "            avg_word = 0\n",
    "            neg_grades.append(avg_word)\n",
    "            grades.append(avg_word)    \n",
    "            pass\n",
    "\n",
    "       \n",
    "        # grades        \n",
    "        ratio =len( neg_grades)/len(grades)\n",
    "        grades_list.append(ratio)  \n",
    "        #--------------------------------------------------------------------------------------\n",
    "        \n",
    "\n",
    "sen_avg_list\n",
    "grades_list\n",
    "\n",
    "\n",
    "to_file = pd.DataFrame(sen_avg_list)\n",
    "to_file['负面评论比重'] = grades_list\n",
    "to_file['店铺名称'] = names\n",
    "to_file.to_csv(r'../data/taobao/new/nlp特征.csv',encoding=\"utf_8_sig\")\n",
    "    "
   ]
  },
  {
   "cell_type": "code",
   "execution_count": 162,
   "metadata": {},
   "outputs": [
    {
     "data": {
      "text/html": [
       "<div>\n",
       "<style scoped>\n",
       "    .dataframe tbody tr th:only-of-type {\n",
       "        vertical-align: middle;\n",
       "    }\n",
       "\n",
       "    .dataframe tbody tr th {\n",
       "        vertical-align: top;\n",
       "    }\n",
       "\n",
       "    .dataframe thead th {\n",
       "        text-align: right;\n",
       "    }\n",
       "</style>\n",
       "<table border=\"1\" class=\"dataframe\">\n",
       "  <thead>\n",
       "    <tr style=\"text-align: right;\">\n",
       "      <th></th>\n",
       "      <th>Unnamed: 0</th>\n",
       "      <th>综合情感值得分</th>\n",
       "      <th>负面评论比重</th>\n",
       "      <th>店铺名称</th>\n",
       "    </tr>\n",
       "  </thead>\n",
       "  <tbody>\n",
       "    <tr>\n",
       "      <td>0</td>\n",
       "      <td>0</td>\n",
       "      <td>5.855524</td>\n",
       "      <td>0.103825</td>\n",
       "      <td>小米官方旗舰店</td>\n",
       "    </tr>\n",
       "    <tr>\n",
       "      <td>1</td>\n",
       "      <td>1</td>\n",
       "      <td>5.884466</td>\n",
       "      <td>0.111709</td>\n",
       "      <td>闪魔旗舰店</td>\n",
       "    </tr>\n",
       "    <tr>\n",
       "      <td>2</td>\n",
       "      <td>2</td>\n",
       "      <td>6.080512</td>\n",
       "      <td>0.143438</td>\n",
       "      <td>绿联数码旗舰店</td>\n",
       "    </tr>\n",
       "    <tr>\n",
       "      <td>3</td>\n",
       "      <td>3</td>\n",
       "      <td>5.932302</td>\n",
       "      <td>0.235732</td>\n",
       "      <td>baseus倍思旗舰店</td>\n",
       "    </tr>\n",
       "    <tr>\n",
       "      <td>...</td>\n",
       "      <td>...</td>\n",
       "      <td>...</td>\n",
       "      <td>...</td>\n",
       "      <td>...</td>\n",
       "    </tr>\n",
       "    <tr>\n",
       "      <td>139</td>\n",
       "      <td>139</td>\n",
       "      <td>5.739578</td>\n",
       "      <td>0.095794</td>\n",
       "      <td>魅幻电器旗舰店</td>\n",
       "    </tr>\n",
       "    <tr>\n",
       "      <td>140</td>\n",
       "      <td>140</td>\n",
       "      <td>5.810998</td>\n",
       "      <td>0.159664</td>\n",
       "      <td>斗蒙电器旗舰店</td>\n",
       "    </tr>\n",
       "    <tr>\n",
       "      <td>141</td>\n",
       "      <td>141</td>\n",
       "      <td>5.667617</td>\n",
       "      <td>0.386667</td>\n",
       "      <td>doremi旗舰店</td>\n",
       "    </tr>\n",
       "    <tr>\n",
       "      <td>142</td>\n",
       "      <td>142</td>\n",
       "      <td>5.724676</td>\n",
       "      <td>0.452991</td>\n",
       "      <td>卓饰蕊车品旗舰店</td>\n",
       "    </tr>\n",
       "  </tbody>\n",
       "</table>\n",
       "<p>143 rows × 4 columns</p>\n",
       "</div>"
      ],
      "text/plain": [
       "     Unnamed: 0   综合情感值得分    负面评论比重         店铺名称\n",
       "0             0  5.855524  0.103825      小米官方旗舰店\n",
       "1             1  5.884466  0.111709        闪魔旗舰店\n",
       "2             2  6.080512  0.143438      绿联数码旗舰店\n",
       "3             3  5.932302  0.235732  baseus倍思旗舰店\n",
       "..          ...       ...       ...          ...\n",
       "139         139  5.739578  0.095794      魅幻电器旗舰店\n",
       "140         140  5.810998  0.159664      斗蒙电器旗舰店\n",
       "141         141  5.667617  0.386667    doremi旗舰店\n",
       "142         142  5.724676  0.452991     卓饰蕊车品旗舰店\n",
       "\n",
       "[143 rows x 4 columns]"
      ]
     },
     "execution_count": 162,
     "metadata": {},
     "output_type": "execute_result"
    },
    {
     "data": {
      "text/html": [
       "<div>\n",
       "<style scoped>\n",
       "    .dataframe tbody tr th:only-of-type {\n",
       "        vertical-align: middle;\n",
       "    }\n",
       "\n",
       "    .dataframe tbody tr th {\n",
       "        vertical-align: top;\n",
       "    }\n",
       "\n",
       "    .dataframe thead th {\n",
       "        text-align: right;\n",
       "    }\n",
       "</style>\n",
       "<table border=\"1\" class=\"dataframe\">\n",
       "  <thead>\n",
       "    <tr style=\"text-align: right;\">\n",
       "      <th></th>\n",
       "      <th>店铺名称</th>\n",
       "      <th>0</th>\n",
       "    </tr>\n",
       "  </thead>\n",
       "  <tbody>\n",
       "    <tr>\n",
       "      <td>0</td>\n",
       "      <td>小米官方旗舰店</td>\n",
       "      <td>0</td>\n",
       "    </tr>\n",
       "    <tr>\n",
       "      <td>1</td>\n",
       "      <td>闪魔旗舰店</td>\n",
       "      <td>0</td>\n",
       "    </tr>\n",
       "    <tr>\n",
       "      <td>2</td>\n",
       "      <td>绿联数码旗舰店</td>\n",
       "      <td>0</td>\n",
       "    </tr>\n",
       "    <tr>\n",
       "      <td>3</td>\n",
       "      <td>baseus倍思旗舰店</td>\n",
       "      <td>0</td>\n",
       "    </tr>\n",
       "    <tr>\n",
       "      <td>...</td>\n",
       "      <td>...</td>\n",
       "      <td>...</td>\n",
       "    </tr>\n",
       "    <tr>\n",
       "      <td>137</td>\n",
       "      <td>魅幻电器旗舰店</td>\n",
       "      <td>-1</td>\n",
       "    </tr>\n",
       "    <tr>\n",
       "      <td>138</td>\n",
       "      <td>斗蒙电器旗舰店</td>\n",
       "      <td>0</td>\n",
       "    </tr>\n",
       "    <tr>\n",
       "      <td>139</td>\n",
       "      <td>doremi旗舰店</td>\n",
       "      <td>0</td>\n",
       "    </tr>\n",
       "    <tr>\n",
       "      <td>140</td>\n",
       "      <td>卓饰蕊车品旗舰店</td>\n",
       "      <td>0</td>\n",
       "    </tr>\n",
       "  </tbody>\n",
       "</table>\n",
       "<p>141 rows × 2 columns</p>\n",
       "</div>"
      ],
      "text/plain": [
       "            店铺名称  0\n",
       "0        小米官方旗舰店  0\n",
       "1          闪魔旗舰店  0\n",
       "2        绿联数码旗舰店  0\n",
       "3    baseus倍思旗舰店  0\n",
       "..           ... ..\n",
       "137      魅幻电器旗舰店 -1\n",
       "138      斗蒙电器旗舰店  0\n",
       "139    doremi旗舰店  0\n",
       "140     卓饰蕊车品旗舰店  0\n",
       "\n",
       "[141 rows x 2 columns]"
      ]
     },
     "execution_count": 162,
     "metadata": {},
     "output_type": "execute_result"
    },
    {
     "data": {
      "text/html": [
       "<div>\n",
       "<style scoped>\n",
       "    .dataframe tbody tr th:only-of-type {\n",
       "        vertical-align: middle;\n",
       "    }\n",
       "\n",
       "    .dataframe tbody tr th {\n",
       "        vertical-align: top;\n",
       "    }\n",
       "\n",
       "    .dataframe thead th {\n",
       "        text-align: right;\n",
       "    }\n",
       "</style>\n",
       "<table border=\"1\" class=\"dataframe\">\n",
       "  <thead>\n",
       "    <tr style=\"text-align: right;\">\n",
       "      <th></th>\n",
       "      <th>Unnamed: 0</th>\n",
       "      <th>店铺名字</th>\n",
       "      <th>X11_描述得分</th>\n",
       "      <th>X11_描述得分_比较正负</th>\n",
       "      <th>X11_描述得分_比较比率</th>\n",
       "      <th>X11_开店时长</th>\n",
       "      <th>X11_在售商品数</th>\n",
       "      <th>X11_保证金金额</th>\n",
       "      <th>X11_总评分</th>\n",
       "      <th>X11_描述评分占总评分</th>\n",
       "      <th>...</th>\n",
       "      <th>X32_二级+三级类目数量</th>\n",
       "      <th>X32_一级+二级+三级类目数量</th>\n",
       "      <th>X33_店铺商品总PC分享量对数_以10为底</th>\n",
       "      <th>X33_店铺商品平均PC分享量对数_以2为底</th>\n",
       "      <th>X34_店铺商品存在货号概率_衍生</th>\n",
       "      <th>X34_店铺商品存在货号概率_平方</th>\n",
       "      <th>X34_店铺商品存在货号概率_三次方</th>\n",
       "      <th>X34_店铺商品存在货号概率_分箱</th>\n",
       "      <th>X34_店铺商品存在货号概率_平方_分箱</th>\n",
       "      <th>X34_店铺商品存在货号概率_三次方_分箱</th>\n",
       "    </tr>\n",
       "  </thead>\n",
       "  <tbody>\n",
       "    <tr>\n",
       "      <td>0</td>\n",
       "      <td>0</td>\n",
       "      <td>小米官方旗舰店</td>\n",
       "      <td>4.88411</td>\n",
       "      <td>1</td>\n",
       "      <td>0.0827</td>\n",
       "      <td>8.0</td>\n",
       "      <td>589</td>\n",
       "      <td>153000</td>\n",
       "      <td>14.67925</td>\n",
       "      <td>0.332722</td>\n",
       "      <td>...</td>\n",
       "      <td>283</td>\n",
       "      <td>320</td>\n",
       "      <td>3.036230</td>\n",
       "      <td>0.453900</td>\n",
       "      <td>16.638370</td>\n",
       "      <td>276.835360</td>\n",
       "      <td>4606.089185</td>\n",
       "      <td>2</td>\n",
       "      <td>1</td>\n",
       "      <td>1</td>\n",
       "    </tr>\n",
       "    <tr>\n",
       "      <td>1</td>\n",
       "      <td>1</td>\n",
       "      <td>闪魔旗舰店</td>\n",
       "      <td>4.83427</td>\n",
       "      <td>0</td>\n",
       "      <td>0.0000</td>\n",
       "      <td>10.0</td>\n",
       "      <td>1002</td>\n",
       "      <td>50000</td>\n",
       "      <td>14.57033</td>\n",
       "      <td>0.331789</td>\n",
       "      <td>...</td>\n",
       "      <td>63</td>\n",
       "      <td>73</td>\n",
       "      <td>3.467904</td>\n",
       "      <td>0.594408</td>\n",
       "      <td>1.596806</td>\n",
       "      <td>2.549791</td>\n",
       "      <td>4.071522</td>\n",
       "      <td>1</td>\n",
       "      <td>1</td>\n",
       "      <td>1</td>\n",
       "    </tr>\n",
       "    <tr>\n",
       "      <td>2</td>\n",
       "      <td>2</td>\n",
       "      <td>绿联数码旗舰店</td>\n",
       "      <td>4.91021</td>\n",
       "      <td>1</td>\n",
       "      <td>0.3669</td>\n",
       "      <td>10.0</td>\n",
       "      <td>618</td>\n",
       "      <td>60000</td>\n",
       "      <td>14.72866</td>\n",
       "      <td>0.333378</td>\n",
       "      <td>...</td>\n",
       "      <td>140</td>\n",
       "      <td>160</td>\n",
       "      <td>4.884421</td>\n",
       "      <td>2.096916</td>\n",
       "      <td>12.459547</td>\n",
       "      <td>155.240310</td>\n",
       "      <td>1934.223922</td>\n",
       "      <td>2</td>\n",
       "      <td>1</td>\n",
       "      <td>1</td>\n",
       "    </tr>\n",
       "    <tr>\n",
       "      <td>3</td>\n",
       "      <td>3</td>\n",
       "      <td>baseus倍思旗舰店</td>\n",
       "      <td>4.82141</td>\n",
       "      <td>-1</td>\n",
       "      <td>-0.0076</td>\n",
       "      <td>10.0</td>\n",
       "      <td>427</td>\n",
       "      <td>50000</td>\n",
       "      <td>14.56371</td>\n",
       "      <td>0.331056</td>\n",
       "      <td>...</td>\n",
       "      <td>109</td>\n",
       "      <td>122</td>\n",
       "      <td>2.378398</td>\n",
       "      <td>0.192394</td>\n",
       "      <td>7.259953</td>\n",
       "      <td>52.706920</td>\n",
       "      <td>382.649770</td>\n",
       "      <td>1</td>\n",
       "      <td>1</td>\n",
       "      <td>1</td>\n",
       "    </tr>\n",
       "    <tr>\n",
       "      <td>...</td>\n",
       "      <td>...</td>\n",
       "      <td>...</td>\n",
       "      <td>...</td>\n",
       "      <td>...</td>\n",
       "      <td>...</td>\n",
       "      <td>...</td>\n",
       "      <td>...</td>\n",
       "      <td>...</td>\n",
       "      <td>...</td>\n",
       "      <td>...</td>\n",
       "      <td>...</td>\n",
       "      <td>...</td>\n",
       "      <td>...</td>\n",
       "      <td>...</td>\n",
       "      <td>...</td>\n",
       "      <td>...</td>\n",
       "      <td>...</td>\n",
       "      <td>...</td>\n",
       "      <td>...</td>\n",
       "      <td>...</td>\n",
       "      <td>...</td>\n",
       "    </tr>\n",
       "    <tr>\n",
       "      <td>124</td>\n",
       "      <td>124</td>\n",
       "      <td>魅幻电器旗舰店</td>\n",
       "      <td>4.84765</td>\n",
       "      <td>-1</td>\n",
       "      <td>-0.0097</td>\n",
       "      <td>NaN</td>\n",
       "      <td>23</td>\n",
       "      <td>25000</td>\n",
       "      <td>14.56474</td>\n",
       "      <td>0.332835</td>\n",
       "      <td>...</td>\n",
       "      <td>12</td>\n",
       "      <td>17</td>\n",
       "      <td>0.000000</td>\n",
       "      <td>0.000000</td>\n",
       "      <td>13.043478</td>\n",
       "      <td>170.132325</td>\n",
       "      <td>2219.117284</td>\n",
       "      <td>2</td>\n",
       "      <td>1</td>\n",
       "      <td>1</td>\n",
       "    </tr>\n",
       "    <tr>\n",
       "      <td>125</td>\n",
       "      <td>125</td>\n",
       "      <td>斗蒙电器旗舰店</td>\n",
       "      <td>4.88733</td>\n",
       "      <td>1</td>\n",
       "      <td>0.0878</td>\n",
       "      <td>3.0</td>\n",
       "      <td>18</td>\n",
       "      <td>50000</td>\n",
       "      <td>14.72394</td>\n",
       "      <td>0.331931</td>\n",
       "      <td>...</td>\n",
       "      <td>11</td>\n",
       "      <td>14</td>\n",
       "      <td>0.602060</td>\n",
       "      <td>0.066947</td>\n",
       "      <td>55.555556</td>\n",
       "      <td>3086.419753</td>\n",
       "      <td>171467.764060</td>\n",
       "      <td>5</td>\n",
       "      <td>3</td>\n",
       "      <td>2</td>\n",
       "    </tr>\n",
       "    <tr>\n",
       "      <td>126</td>\n",
       "      <td>126</td>\n",
       "      <td>doremi旗舰店</td>\n",
       "      <td>4.81715</td>\n",
       "      <td>-1</td>\n",
       "      <td>-0.0085</td>\n",
       "      <td>7.0</td>\n",
       "      <td>39</td>\n",
       "      <td>50000</td>\n",
       "      <td>14.47538</td>\n",
       "      <td>0.332782</td>\n",
       "      <td>...</td>\n",
       "      <td>11</td>\n",
       "      <td>13</td>\n",
       "      <td>0.000000</td>\n",
       "      <td>0.000000</td>\n",
       "      <td>0.000000</td>\n",
       "      <td>0.000000</td>\n",
       "      <td>0.000000</td>\n",
       "      <td>1</td>\n",
       "      <td>1</td>\n",
       "      <td>1</td>\n",
       "    </tr>\n",
       "    <tr>\n",
       "      <td>127</td>\n",
       "      <td>127</td>\n",
       "      <td>卓饰蕊车品旗舰店</td>\n",
       "      <td>4.88194</td>\n",
       "      <td>1</td>\n",
       "      <td>0.0243</td>\n",
       "      <td>7.0</td>\n",
       "      <td>62</td>\n",
       "      <td>50000</td>\n",
       "      <td>14.59324</td>\n",
       "      <td>0.334534</td>\n",
       "      <td>...</td>\n",
       "      <td>28</td>\n",
       "      <td>30</td>\n",
       "      <td>0.778151</td>\n",
       "      <td>0.033683</td>\n",
       "      <td>11.290323</td>\n",
       "      <td>127.471384</td>\n",
       "      <td>1439.193045</td>\n",
       "      <td>2</td>\n",
       "      <td>1</td>\n",
       "      <td>1</td>\n",
       "    </tr>\n",
       "  </tbody>\n",
       "</table>\n",
       "<p>128 rows × 114 columns</p>\n",
       "</div>"
      ],
      "text/plain": [
       "     Unnamed: 0         店铺名字  X11_描述得分  X11_描述得分_比较正负  X11_描述得分_比较比率  \\\n",
       "0             0      小米官方旗舰店   4.88411              1         0.0827   \n",
       "1             1        闪魔旗舰店   4.83427              0         0.0000   \n",
       "2             2      绿联数码旗舰店   4.91021              1         0.3669   \n",
       "3             3  baseus倍思旗舰店   4.82141             -1        -0.0076   \n",
       "..          ...          ...       ...            ...            ...   \n",
       "124         124      魅幻电器旗舰店   4.84765             -1        -0.0097   \n",
       "125         125      斗蒙电器旗舰店   4.88733              1         0.0878   \n",
       "126         126    doremi旗舰店   4.81715             -1        -0.0085   \n",
       "127         127     卓饰蕊车品旗舰店   4.88194              1         0.0243   \n",
       "\n",
       "     X11_开店时长  X11_在售商品数  X11_保证金金额   X11_总评分  X11_描述评分占总评分  ...  \\\n",
       "0         8.0        589     153000  14.67925      0.332722  ...   \n",
       "1        10.0       1002      50000  14.57033      0.331789  ...   \n",
       "2        10.0        618      60000  14.72866      0.333378  ...   \n",
       "3        10.0        427      50000  14.56371      0.331056  ...   \n",
       "..        ...        ...        ...       ...           ...  ...   \n",
       "124       NaN         23      25000  14.56474      0.332835  ...   \n",
       "125       3.0         18      50000  14.72394      0.331931  ...   \n",
       "126       7.0         39      50000  14.47538      0.332782  ...   \n",
       "127       7.0         62      50000  14.59324      0.334534  ...   \n",
       "\n",
       "     X32_二级+三级类目数量  X32_一级+二级+三级类目数量  X33_店铺商品总PC分享量对数_以10为底  \\\n",
       "0              283               320                3.036230   \n",
       "1               63                73                3.467904   \n",
       "2              140               160                4.884421   \n",
       "3              109               122                2.378398   \n",
       "..             ...               ...                     ...   \n",
       "124             12                17                0.000000   \n",
       "125             11                14                0.602060   \n",
       "126             11                13                0.000000   \n",
       "127             28                30                0.778151   \n",
       "\n",
       "     X33_店铺商品平均PC分享量对数_以2为底  X34_店铺商品存在货号概率_衍生  X34_店铺商品存在货号概率_平方  \\\n",
       "0                  0.453900          16.638370         276.835360   \n",
       "1                  0.594408           1.596806           2.549791   \n",
       "2                  2.096916          12.459547         155.240310   \n",
       "3                  0.192394           7.259953          52.706920   \n",
       "..                      ...                ...                ...   \n",
       "124                0.000000          13.043478         170.132325   \n",
       "125                0.066947          55.555556        3086.419753   \n",
       "126                0.000000           0.000000           0.000000   \n",
       "127                0.033683          11.290323         127.471384   \n",
       "\n",
       "     X34_店铺商品存在货号概率_三次方  X34_店铺商品存在货号概率_分箱  X34_店铺商品存在货号概率_平方_分箱  \\\n",
       "0           4606.089185                  2                     1   \n",
       "1              4.071522                  1                     1   \n",
       "2           1934.223922                  2                     1   \n",
       "3            382.649770                  1                     1   \n",
       "..                  ...                ...                   ...   \n",
       "124         2219.117284                  2                     1   \n",
       "125       171467.764060                  5                     3   \n",
       "126            0.000000                  1                     1   \n",
       "127         1439.193045                  2                     1   \n",
       "\n",
       "     X34_店铺商品存在货号概率_三次方_分箱  \n",
       "0                        1  \n",
       "1                        1  \n",
       "2                        1  \n",
       "3                        1  \n",
       "..                     ...  \n",
       "124                      1  \n",
       "125                      2  \n",
       "126                      1  \n",
       "127                      1  \n",
       "\n",
       "[128 rows x 114 columns]"
      ]
     },
     "execution_count": 162,
     "metadata": {},
     "output_type": "execute_result"
    },
    {
     "data": {
      "text/html": [
       "<div>\n",
       "<style scoped>\n",
       "    .dataframe tbody tr th:only-of-type {\n",
       "        vertical-align: middle;\n",
       "    }\n",
       "\n",
       "    .dataframe tbody tr th {\n",
       "        vertical-align: top;\n",
       "    }\n",
       "\n",
       "    .dataframe thead th {\n",
       "        text-align: right;\n",
       "    }\n",
       "</style>\n",
       "<table border=\"1\" class=\"dataframe\">\n",
       "  <thead>\n",
       "    <tr style=\"text-align: right;\">\n",
       "      <th></th>\n",
       "      <th>Unnamed: 0</th>\n",
       "      <th>综合情感值得分</th>\n",
       "      <th>负面评论比重</th>\n",
       "      <th>0</th>\n",
       "    </tr>\n",
       "  </thead>\n",
       "  <tbody>\n",
       "    <tr>\n",
       "      <td>Unnamed: 0</td>\n",
       "      <td>1.000000</td>\n",
       "      <td>-0.121955</td>\n",
       "      <td>0.224327</td>\n",
       "      <td>-0.141410</td>\n",
       "    </tr>\n",
       "    <tr>\n",
       "      <td>综合情感值得分</td>\n",
       "      <td>-0.121955</td>\n",
       "      <td>1.000000</td>\n",
       "      <td>-0.584487</td>\n",
       "      <td>0.068573</td>\n",
       "    </tr>\n",
       "    <tr>\n",
       "      <td>负面评论比重</td>\n",
       "      <td>0.224327</td>\n",
       "      <td>-0.584487</td>\n",
       "      <td>1.000000</td>\n",
       "      <td>0.010619</td>\n",
       "    </tr>\n",
       "    <tr>\n",
       "      <td>0</td>\n",
       "      <td>-0.141410</td>\n",
       "      <td>0.068573</td>\n",
       "      <td>0.010619</td>\n",
       "      <td>1.000000</td>\n",
       "    </tr>\n",
       "  </tbody>\n",
       "</table>\n",
       "</div>"
      ],
      "text/plain": [
       "            Unnamed: 0   综合情感值得分    负面评论比重         0\n",
       "Unnamed: 0    1.000000 -0.121955  0.224327 -0.141410\n",
       "综合情感值得分      -0.121955  1.000000 -0.584487  0.068573\n",
       "负面评论比重        0.224327 -0.584487  1.000000  0.010619\n",
       "0            -0.141410  0.068573  0.010619  1.000000"
      ]
     },
     "execution_count": 162,
     "metadata": {},
     "output_type": "execute_result"
    }
   ],
   "source": [
    "final1 = pd.read_csv(r'../data/taobao/new/nlp特征.csv')\n",
    "final1\n",
    "final2 = pd.read_excel(r'../data/taobao/new/data_type2.xls')\n",
    "final2\n",
    "\n",
    "flag = pd.read_excel(r'../data/taobao/new/dianqi_plus.xlsx')\n",
    "flag\n",
    "\n",
    "final = pd.merge(final1,final2,how='inner',left_on='店铺名称',right_on='店铺名称')\n",
    "final.corr()\n",
    "flag = pd.merge(flag,final,how='inner',left_on='店铺名字',right_on='店铺名称')\n",
    "flag.to_csv(r'../data/taobao/new/nlp特征最终_new.csv',encoding=\"utf_8_sig\")\n",
    "\n"
   ]
  },
  {
   "cell_type": "code",
   "execution_count": 64,
   "metadata": {},
   "outputs": [
    {
     "data": {
      "text/plain": [
       "<pyecharts.charts.basic_charts.bar.Bar at 0x19e22d85f08>"
      ]
     },
     "execution_count": 64,
     "metadata": {},
     "output_type": "execute_result"
    },
    {
     "data": {
      "text/plain": [
       "<pyecharts.charts.basic_charts.bar.Bar at 0x19e22d85f08>"
      ]
     },
     "execution_count": 64,
     "metadata": {},
     "output_type": "execute_result"
    },
    {
     "data": {
      "text/plain": [
       "'D:\\\\Anaconda3\\\\ipython_file\\\\python数据挖掘\\\\机器学习课设\\\\render.html'"
      ]
     },
     "execution_count": 64,
     "metadata": {},
     "output_type": "execute_result"
    }
   ],
   "source": [
    "from pyecharts.charts import Bar\n",
    "\n",
    "bar = Bar()\n",
    "bar.add_xaxis([\"衬衫\", \"羊毛衫\", \"雪纺衫\", \"裤子\", \"高跟鞋\", \"袜子\"])\n",
    "bar.add_yaxis(\"商家A\", [5, 20, 36, 10, 75, 90])\n",
    "# render 会生成本地 HTML 文件，默认会在当前目录生成 render.html 文件\n",
    "# 也可以传入路径参数，如 bar.render(\"mycharts.html\")\n",
    "bar.render()"
   ]
  },
  {
   "cell_type": "code",
   "execution_count": 1,
   "metadata": {},
   "outputs": [],
   "source": [
    "from pyecharts import options as opts\n",
    "from pyecharts.charts import Tree\n",
    "\n",
    "\n",
    "\n",
    "data = [\n",
    "    {\n",
    "        \"children\": [\n",
    "            {\"name\": \"B\"},\n",
    "            {\n",
    "                \"children\": [{\"children\": [{\"name\": \"I\"}], \"name\": \"E\"}, {\"name\": \"F\"}],\n",
    "                \"name\": \"C\",\n",
    "            },\n",
    "            {\n",
    "                \"children\": [\n",
    "                    {\"children\": [{\"name\": \"J\"}, {\"name\": \"K\"}], \"name\": \"G\"},\n",
    "                    {\"name\": \"H\"},\n",
    "                ],\n",
    "                \"name\": \"D\",\n",
    "            },\n",
    "        ],\n",
    "        \"name\": \"A\",\n",
    "    }\n",
    "]\n",
    "c = (\n",
    "    Tree()\n",
    "    .add(\"\", data)\n",
    "    .set_global_opts(title_opts=opts.TitleOpts(title=\"Tree-基本示例\"))\n",
    "    .render(\"tree_base.html\")\n",
    ")"
   ]
  },
  {
   "cell_type": "code",
   "execution_count": null,
   "metadata": {},
   "outputs": [],
   "source": []
  }
 ],
 "metadata": {
  "kernelspec": {
   "display_name": "Python 3",
   "language": "python",
   "name": "python3"
  },
  "language_info": {
   "codemirror_mode": {
    "name": "ipython",
    "version": 3
   },
   "file_extension": ".py",
   "mimetype": "text/x-python",
   "name": "python",
   "nbconvert_exporter": "python",
   "pygments_lexer": "ipython3",
   "version": "3.7.4"
  }
 },
 "nbformat": 4,
 "nbformat_minor": 2
}
