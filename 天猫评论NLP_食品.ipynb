{
 "cells": [
  {
   "cell_type": "code",
   "execution_count": 1,
   "metadata": {},
   "outputs": [],
   "source": [
    "from IPython.core.interactiveshell import InteractiveShell  #执行该代码可以使得当前nb支持多输出\n",
    "InteractiveShell.ast_node_interactivity = \"all\" \n",
    "import numpy as np\n",
    "from datetime import datetime\n",
    "import pandas as pd \n",
    "import matplotlib.pyplot as plt\n",
    "from mpl_toolkits.mplot3d import Axes3D\n",
    "pd.options.display.max_rows = 8  \n",
    "%matplotlib inline"
   ]
  },
  {
   "cell_type": "code",
   "execution_count": 2,
   "metadata": {},
   "outputs": [],
   "source": [
    "tmp = pd.read_excel('../data/taobao/new/shipin_plus.xlsx')\n",
    "\n",
    "names = tmp['店铺名字']  #得到所有店铺的名称列表"
   ]
  },
  {
   "cell_type": "code",
   "execution_count": 5,
   "metadata": {},
   "outputs": [
    {
     "data": {
      "text/plain": [
       "<1454x450 sparse matrix of type '<class 'numpy.float64'>'\n",
       "\twith 4615 stored elements in Compressed Sparse Row format>"
      ]
     },
     "execution_count": 5,
     "metadata": {},
     "output_type": "execute_result"
    },
    {
     "data": {
      "text/plain": [
       "LatentDirichletAllocation()"
      ]
     },
     "execution_count": 5,
     "metadata": {},
     "output_type": "execute_result"
    },
    {
     "data": {
      "text/plain": [
       "<2000x1765 sparse matrix of type '<class 'numpy.float64'>'\n",
       "\twith 13490 stored elements in Compressed Sparse Row format>"
      ]
     },
     "execution_count": 5,
     "metadata": {},
     "output_type": "execute_result"
    },
    {
     "data": {
      "text/plain": [
       "LatentDirichletAllocation()"
      ]
     },
     "execution_count": 5,
     "metadata": {},
     "output_type": "execute_result"
    },
    {
     "data": {
      "text/plain": [
       "<2000x1388 sparse matrix of type '<class 'numpy.float64'>'\n",
       "\twith 7725 stored elements in Compressed Sparse Row format>"
      ]
     },
     "execution_count": 5,
     "metadata": {},
     "output_type": "execute_result"
    },
    {
     "data": {
      "text/plain": [
       "LatentDirichletAllocation()"
      ]
     },
     "execution_count": 5,
     "metadata": {},
     "output_type": "execute_result"
    },
    {
     "data": {
      "text/plain": [
       "<2000x1914 sparse matrix of type '<class 'numpy.float64'>'\n",
       "\twith 11951 stored elements in Compressed Sparse Row format>"
      ]
     },
     "execution_count": 5,
     "metadata": {},
     "output_type": "execute_result"
    },
    {
     "data": {
      "text/plain": [
       "LatentDirichletAllocation()"
      ]
     },
     "execution_count": 5,
     "metadata": {},
     "output_type": "execute_result"
    },
    {
     "data": {
      "text/plain": [
       "<2000x444 sparse matrix of type '<class 'numpy.float64'>'\n",
       "\twith 5811 stored elements in Compressed Sparse Row format>"
      ]
     },
     "execution_count": 5,
     "metadata": {},
     "output_type": "execute_result"
    },
    {
     "data": {
      "text/plain": [
       "LatentDirichletAllocation()"
      ]
     },
     "execution_count": 5,
     "metadata": {},
     "output_type": "execute_result"
    },
    {
     "data": {
      "text/plain": [
       "<2000x1582 sparse matrix of type '<class 'numpy.float64'>'\n",
       "\twith 7993 stored elements in Compressed Sparse Row format>"
      ]
     },
     "execution_count": 5,
     "metadata": {},
     "output_type": "execute_result"
    },
    {
     "data": {
      "text/plain": [
       "LatentDirichletAllocation()"
      ]
     },
     "execution_count": 5,
     "metadata": {},
     "output_type": "execute_result"
    },
    {
     "data": {
      "text/plain": [
       "<2000x1683 sparse matrix of type '<class 'numpy.float64'>'\n",
       "\twith 13707 stored elements in Compressed Sparse Row format>"
      ]
     },
     "execution_count": 5,
     "metadata": {},
     "output_type": "execute_result"
    },
    {
     "data": {
      "text/plain": [
       "LatentDirichletAllocation()"
      ]
     },
     "execution_count": 5,
     "metadata": {},
     "output_type": "execute_result"
    },
    {
     "data": {
      "text/plain": [
       "<2000x2574 sparse matrix of type '<class 'numpy.float64'>'\n",
       "\twith 15221 stored elements in Compressed Sparse Row format>"
      ]
     },
     "execution_count": 5,
     "metadata": {},
     "output_type": "execute_result"
    },
    {
     "data": {
      "text/plain": [
       "LatentDirichletAllocation()"
      ]
     },
     "execution_count": 5,
     "metadata": {},
     "output_type": "execute_result"
    },
    {
     "data": {
      "text/plain": [
       "<2000x1900 sparse matrix of type '<class 'numpy.float64'>'\n",
       "\twith 10588 stored elements in Compressed Sparse Row format>"
      ]
     },
     "execution_count": 5,
     "metadata": {},
     "output_type": "execute_result"
    },
    {
     "data": {
      "text/plain": [
       "LatentDirichletAllocation()"
      ]
     },
     "execution_count": 5,
     "metadata": {},
     "output_type": "execute_result"
    },
    {
     "data": {
      "text/plain": [
       "<2000x2190 sparse matrix of type '<class 'numpy.float64'>'\n",
       "\twith 11971 stored elements in Compressed Sparse Row format>"
      ]
     },
     "execution_count": 5,
     "metadata": {},
     "output_type": "execute_result"
    },
    {
     "data": {
      "text/plain": [
       "LatentDirichletAllocation()"
      ]
     },
     "execution_count": 5,
     "metadata": {},
     "output_type": "execute_result"
    },
    {
     "data": {
      "text/plain": [
       "<2000x1642 sparse matrix of type '<class 'numpy.float64'>'\n",
       "\twith 9349 stored elements in Compressed Sparse Row format>"
      ]
     },
     "execution_count": 5,
     "metadata": {},
     "output_type": "execute_result"
    },
    {
     "data": {
      "text/plain": [
       "LatentDirichletAllocation()"
      ]
     },
     "execution_count": 5,
     "metadata": {},
     "output_type": "execute_result"
    },
    {
     "data": {
      "text/plain": [
       "<2000x2433 sparse matrix of type '<class 'numpy.float64'>'\n",
       "\twith 12935 stored elements in Compressed Sparse Row format>"
      ]
     },
     "execution_count": 5,
     "metadata": {},
     "output_type": "execute_result"
    },
    {
     "data": {
      "text/plain": [
       "LatentDirichletAllocation()"
      ]
     },
     "execution_count": 5,
     "metadata": {},
     "output_type": "execute_result"
    },
    {
     "data": {
      "text/plain": [
       "<2000x371 sparse matrix of type '<class 'numpy.float64'>'\n",
       "\twith 5921 stored elements in Compressed Sparse Row format>"
      ]
     },
     "execution_count": 5,
     "metadata": {},
     "output_type": "execute_result"
    },
    {
     "data": {
      "text/plain": [
       "LatentDirichletAllocation()"
      ]
     },
     "execution_count": 5,
     "metadata": {},
     "output_type": "execute_result"
    },
    {
     "data": {
      "text/plain": [
       "<2000x1704 sparse matrix of type '<class 'numpy.float64'>'\n",
       "\twith 9009 stored elements in Compressed Sparse Row format>"
      ]
     },
     "execution_count": 5,
     "metadata": {},
     "output_type": "execute_result"
    },
    {
     "data": {
      "text/plain": [
       "LatentDirichletAllocation()"
      ]
     },
     "execution_count": 5,
     "metadata": {},
     "output_type": "execute_result"
    },
    {
     "data": {
      "text/plain": [
       "<289x185 sparse matrix of type '<class 'numpy.float64'>'\n",
       "\twith 966 stored elements in Compressed Sparse Row format>"
      ]
     },
     "execution_count": 5,
     "metadata": {},
     "output_type": "execute_result"
    },
    {
     "data": {
      "text/plain": [
       "LatentDirichletAllocation()"
      ]
     },
     "execution_count": 5,
     "metadata": {},
     "output_type": "execute_result"
    },
    {
     "data": {
      "text/plain": [
       "<2000x2245 sparse matrix of type '<class 'numpy.float64'>'\n",
       "\twith 11047 stored elements in Compressed Sparse Row format>"
      ]
     },
     "execution_count": 5,
     "metadata": {},
     "output_type": "execute_result"
    },
    {
     "data": {
      "text/plain": [
       "LatentDirichletAllocation()"
      ]
     },
     "execution_count": 5,
     "metadata": {},
     "output_type": "execute_result"
    },
    {
     "data": {
      "text/plain": [
       "<2000x2192 sparse matrix of type '<class 'numpy.float64'>'\n",
       "\twith 12098 stored elements in Compressed Sparse Row format>"
      ]
     },
     "execution_count": 5,
     "metadata": {},
     "output_type": "execute_result"
    },
    {
     "data": {
      "text/plain": [
       "LatentDirichletAllocation()"
      ]
     },
     "execution_count": 5,
     "metadata": {},
     "output_type": "execute_result"
    },
    {
     "data": {
      "text/plain": [
       "<2000x1803 sparse matrix of type '<class 'numpy.float64'>'\n",
       "\twith 10114 stored elements in Compressed Sparse Row format>"
      ]
     },
     "execution_count": 5,
     "metadata": {},
     "output_type": "execute_result"
    },
    {
     "data": {
      "text/plain": [
       "LatentDirichletAllocation()"
      ]
     },
     "execution_count": 5,
     "metadata": {},
     "output_type": "execute_result"
    },
    {
     "data": {
      "text/plain": [
       "<2000x1644 sparse matrix of type '<class 'numpy.float64'>'\n",
       "\twith 10503 stored elements in Compressed Sparse Row format>"
      ]
     },
     "execution_count": 5,
     "metadata": {},
     "output_type": "execute_result"
    },
    {
     "data": {
      "text/plain": [
       "LatentDirichletAllocation()"
      ]
     },
     "execution_count": 5,
     "metadata": {},
     "output_type": "execute_result"
    },
    {
     "data": {
      "text/plain": [
       "<2000x1487 sparse matrix of type '<class 'numpy.float64'>'\n",
       "\twith 9924 stored elements in Compressed Sparse Row format>"
      ]
     },
     "execution_count": 5,
     "metadata": {},
     "output_type": "execute_result"
    },
    {
     "data": {
      "text/plain": [
       "LatentDirichletAllocation()"
      ]
     },
     "execution_count": 5,
     "metadata": {},
     "output_type": "execute_result"
    },
    {
     "data": {
      "text/plain": [
       "<2000x1913 sparse matrix of type '<class 'numpy.float64'>'\n",
       "\twith 10695 stored elements in Compressed Sparse Row format>"
      ]
     },
     "execution_count": 5,
     "metadata": {},
     "output_type": "execute_result"
    },
    {
     "data": {
      "text/plain": [
       "LatentDirichletAllocation()"
      ]
     },
     "execution_count": 5,
     "metadata": {},
     "output_type": "execute_result"
    },
    {
     "data": {
      "text/plain": [
       "<2000x1707 sparse matrix of type '<class 'numpy.float64'>'\n",
       "\twith 8975 stored elements in Compressed Sparse Row format>"
      ]
     },
     "execution_count": 5,
     "metadata": {},
     "output_type": "execute_result"
    },
    {
     "data": {
      "text/plain": [
       "LatentDirichletAllocation()"
      ]
     },
     "execution_count": 5,
     "metadata": {},
     "output_type": "execute_result"
    },
    {
     "data": {
      "text/plain": [
       "<2000x1891 sparse matrix of type '<class 'numpy.float64'>'\n",
       "\twith 9504 stored elements in Compressed Sparse Row format>"
      ]
     },
     "execution_count": 5,
     "metadata": {},
     "output_type": "execute_result"
    },
    {
     "data": {
      "text/plain": [
       "LatentDirichletAllocation()"
      ]
     },
     "execution_count": 5,
     "metadata": {},
     "output_type": "execute_result"
    },
    {
     "data": {
      "text/plain": [
       "<2000x1891 sparse matrix of type '<class 'numpy.float64'>'\n",
       "\twith 10660 stored elements in Compressed Sparse Row format>"
      ]
     },
     "execution_count": 5,
     "metadata": {},
     "output_type": "execute_result"
    },
    {
     "data": {
      "text/plain": [
       "LatentDirichletAllocation()"
      ]
     },
     "execution_count": 5,
     "metadata": {},
     "output_type": "execute_result"
    },
    {
     "data": {
      "text/plain": [
       "<2000x1512 sparse matrix of type '<class 'numpy.float64'>'\n",
       "\twith 8719 stored elements in Compressed Sparse Row format>"
      ]
     },
     "execution_count": 5,
     "metadata": {},
     "output_type": "execute_result"
    },
    {
     "data": {
      "text/plain": [
       "LatentDirichletAllocation()"
      ]
     },
     "execution_count": 5,
     "metadata": {},
     "output_type": "execute_result"
    },
    {
     "data": {
      "text/plain": [
       "<2000x2259 sparse matrix of type '<class 'numpy.float64'>'\n",
       "\twith 14368 stored elements in Compressed Sparse Row format>"
      ]
     },
     "execution_count": 5,
     "metadata": {},
     "output_type": "execute_result"
    },
    {
     "data": {
      "text/plain": [
       "LatentDirichletAllocation()"
      ]
     },
     "execution_count": 5,
     "metadata": {},
     "output_type": "execute_result"
    },
    {
     "data": {
      "text/plain": [
       "<2000x1487 sparse matrix of type '<class 'numpy.float64'>'\n",
       "\twith 10844 stored elements in Compressed Sparse Row format>"
      ]
     },
     "execution_count": 5,
     "metadata": {},
     "output_type": "execute_result"
    },
    {
     "data": {
      "text/plain": [
       "LatentDirichletAllocation()"
      ]
     },
     "execution_count": 5,
     "metadata": {},
     "output_type": "execute_result"
    },
    {
     "data": {
      "text/plain": [
       "<2000x2028 sparse matrix of type '<class 'numpy.float64'>'\n",
       "\twith 11937 stored elements in Compressed Sparse Row format>"
      ]
     },
     "execution_count": 5,
     "metadata": {},
     "output_type": "execute_result"
    },
    {
     "data": {
      "text/plain": [
       "LatentDirichletAllocation()"
      ]
     },
     "execution_count": 5,
     "metadata": {},
     "output_type": "execute_result"
    },
    {
     "data": {
      "text/plain": [
       "<2000x1364 sparse matrix of type '<class 'numpy.float64'>'\n",
       "\twith 6981 stored elements in Compressed Sparse Row format>"
      ]
     },
     "execution_count": 5,
     "metadata": {},
     "output_type": "execute_result"
    },
    {
     "data": {
      "text/plain": [
       "LatentDirichletAllocation()"
      ]
     },
     "execution_count": 5,
     "metadata": {},
     "output_type": "execute_result"
    },
    {
     "data": {
      "text/plain": [
       "<2000x970 sparse matrix of type '<class 'numpy.float64'>'\n",
       "\twith 7507 stored elements in Compressed Sparse Row format>"
      ]
     },
     "execution_count": 5,
     "metadata": {},
     "output_type": "execute_result"
    },
    {
     "data": {
      "text/plain": [
       "LatentDirichletAllocation()"
      ]
     },
     "execution_count": 5,
     "metadata": {},
     "output_type": "execute_result"
    },
    {
     "data": {
      "text/plain": [
       "<2000x2066 sparse matrix of type '<class 'numpy.float64'>'\n",
       "\twith 9308 stored elements in Compressed Sparse Row format>"
      ]
     },
     "execution_count": 5,
     "metadata": {},
     "output_type": "execute_result"
    },
    {
     "data": {
      "text/plain": [
       "LatentDirichletAllocation()"
      ]
     },
     "execution_count": 5,
     "metadata": {},
     "output_type": "execute_result"
    },
    {
     "data": {
      "text/plain": [
       "<2000x1160 sparse matrix of type '<class 'numpy.float64'>'\n",
       "\twith 7411 stored elements in Compressed Sparse Row format>"
      ]
     },
     "execution_count": 5,
     "metadata": {},
     "output_type": "execute_result"
    },
    {
     "data": {
      "text/plain": [
       "LatentDirichletAllocation()"
      ]
     },
     "execution_count": 5,
     "metadata": {},
     "output_type": "execute_result"
    },
    {
     "data": {
      "text/plain": [
       "<2000x1747 sparse matrix of type '<class 'numpy.float64'>'\n",
       "\twith 9255 stored elements in Compressed Sparse Row format>"
      ]
     },
     "execution_count": 5,
     "metadata": {},
     "output_type": "execute_result"
    },
    {
     "data": {
      "text/plain": [
       "LatentDirichletAllocation()"
      ]
     },
     "execution_count": 5,
     "metadata": {},
     "output_type": "execute_result"
    },
    {
     "data": {
      "text/plain": [
       "<2000x2136 sparse matrix of type '<class 'numpy.float64'>'\n",
       "\twith 11996 stored elements in Compressed Sparse Row format>"
      ]
     },
     "execution_count": 5,
     "metadata": {},
     "output_type": "execute_result"
    },
    {
     "data": {
      "text/plain": [
       "LatentDirichletAllocation()"
      ]
     },
     "execution_count": 5,
     "metadata": {},
     "output_type": "execute_result"
    },
    {
     "data": {
      "text/plain": [
       "<2000x1880 sparse matrix of type '<class 'numpy.float64'>'\n",
       "\twith 8959 stored elements in Compressed Sparse Row format>"
      ]
     },
     "execution_count": 5,
     "metadata": {},
     "output_type": "execute_result"
    },
    {
     "data": {
      "text/plain": [
       "LatentDirichletAllocation()"
      ]
     },
     "execution_count": 5,
     "metadata": {},
     "output_type": "execute_result"
    },
    {
     "data": {
      "text/plain": [
       "<2000x1344 sparse matrix of type '<class 'numpy.float64'>'\n",
       "\twith 7107 stored elements in Compressed Sparse Row format>"
      ]
     },
     "execution_count": 5,
     "metadata": {},
     "output_type": "execute_result"
    },
    {
     "data": {
      "text/plain": [
       "LatentDirichletAllocation()"
      ]
     },
     "execution_count": 5,
     "metadata": {},
     "output_type": "execute_result"
    },
    {
     "data": {
      "text/plain": [
       "<2000x1833 sparse matrix of type '<class 'numpy.float64'>'\n",
       "\twith 10018 stored elements in Compressed Sparse Row format>"
      ]
     },
     "execution_count": 5,
     "metadata": {},
     "output_type": "execute_result"
    },
    {
     "data": {
      "text/plain": [
       "LatentDirichletAllocation()"
      ]
     },
     "execution_count": 5,
     "metadata": {},
     "output_type": "execute_result"
    },
    {
     "data": {
      "text/plain": [
       "<2000x1829 sparse matrix of type '<class 'numpy.float64'>'\n",
       "\twith 8289 stored elements in Compressed Sparse Row format>"
      ]
     },
     "execution_count": 5,
     "metadata": {},
     "output_type": "execute_result"
    },
    {
     "data": {
      "text/plain": [
       "LatentDirichletAllocation()"
      ]
     },
     "execution_count": 5,
     "metadata": {},
     "output_type": "execute_result"
    },
    {
     "data": {
      "text/plain": [
       "<2000x833 sparse matrix of type '<class 'numpy.float64'>'\n",
       "\twith 6722 stored elements in Compressed Sparse Row format>"
      ]
     },
     "execution_count": 5,
     "metadata": {},
     "output_type": "execute_result"
    },
    {
     "data": {
      "text/plain": [
       "LatentDirichletAllocation()"
      ]
     },
     "execution_count": 5,
     "metadata": {},
     "output_type": "execute_result"
    },
    {
     "data": {
      "text/plain": [
       "<2000x1990 sparse matrix of type '<class 'numpy.float64'>'\n",
       "\twith 11726 stored elements in Compressed Sparse Row format>"
      ]
     },
     "execution_count": 5,
     "metadata": {},
     "output_type": "execute_result"
    },
    {
     "data": {
      "text/plain": [
       "LatentDirichletAllocation()"
      ]
     },
     "execution_count": 5,
     "metadata": {},
     "output_type": "execute_result"
    },
    {
     "data": {
      "text/plain": [
       "<2000x884 sparse matrix of type '<class 'numpy.float64'>'\n",
       "\twith 6937 stored elements in Compressed Sparse Row format>"
      ]
     },
     "execution_count": 5,
     "metadata": {},
     "output_type": "execute_result"
    },
    {
     "data": {
      "text/plain": [
       "LatentDirichletAllocation()"
      ]
     },
     "execution_count": 5,
     "metadata": {},
     "output_type": "execute_result"
    },
    {
     "data": {
      "text/plain": [
       "<2000x1356 sparse matrix of type '<class 'numpy.float64'>'\n",
       "\twith 8279 stored elements in Compressed Sparse Row format>"
      ]
     },
     "execution_count": 5,
     "metadata": {},
     "output_type": "execute_result"
    },
    {
     "data": {
      "text/plain": [
       "LatentDirichletAllocation()"
      ]
     },
     "execution_count": 5,
     "metadata": {},
     "output_type": "execute_result"
    },
    {
     "data": {
      "text/plain": [
       "<2000x2617 sparse matrix of type '<class 'numpy.float64'>'\n",
       "\twith 16170 stored elements in Compressed Sparse Row format>"
      ]
     },
     "execution_count": 5,
     "metadata": {},
     "output_type": "execute_result"
    },
    {
     "data": {
      "text/plain": [
       "LatentDirichletAllocation()"
      ]
     },
     "execution_count": 5,
     "metadata": {},
     "output_type": "execute_result"
    },
    {
     "data": {
      "text/plain": [
       "<2000x1719 sparse matrix of type '<class 'numpy.float64'>'\n",
       "\twith 9261 stored elements in Compressed Sparse Row format>"
      ]
     },
     "execution_count": 5,
     "metadata": {},
     "output_type": "execute_result"
    },
    {
     "data": {
      "text/plain": [
       "LatentDirichletAllocation()"
      ]
     },
     "execution_count": 5,
     "metadata": {},
     "output_type": "execute_result"
    },
    {
     "data": {
      "text/plain": [
       "<2000x1954 sparse matrix of type '<class 'numpy.float64'>'\n",
       "\twith 10342 stored elements in Compressed Sparse Row format>"
      ]
     },
     "execution_count": 5,
     "metadata": {},
     "output_type": "execute_result"
    },
    {
     "data": {
      "text/plain": [
       "LatentDirichletAllocation()"
      ]
     },
     "execution_count": 5,
     "metadata": {},
     "output_type": "execute_result"
    },
    {
     "data": {
      "text/plain": [
       "<2000x1907 sparse matrix of type '<class 'numpy.float64'>'\n",
       "\twith 9429 stored elements in Compressed Sparse Row format>"
      ]
     },
     "execution_count": 5,
     "metadata": {},
     "output_type": "execute_result"
    },
    {
     "data": {
      "text/plain": [
       "LatentDirichletAllocation()"
      ]
     },
     "execution_count": 5,
     "metadata": {},
     "output_type": "execute_result"
    },
    {
     "data": {
      "text/plain": [
       "<2000x1962 sparse matrix of type '<class 'numpy.float64'>'\n",
       "\twith 11140 stored elements in Compressed Sparse Row format>"
      ]
     },
     "execution_count": 5,
     "metadata": {},
     "output_type": "execute_result"
    },
    {
     "data": {
      "text/plain": [
       "LatentDirichletAllocation()"
      ]
     },
     "execution_count": 5,
     "metadata": {},
     "output_type": "execute_result"
    },
    {
     "data": {
      "text/plain": [
       "<2000x2138 sparse matrix of type '<class 'numpy.float64'>'\n",
       "\twith 11099 stored elements in Compressed Sparse Row format>"
      ]
     },
     "execution_count": 5,
     "metadata": {},
     "output_type": "execute_result"
    },
    {
     "data": {
      "text/plain": [
       "LatentDirichletAllocation()"
      ]
     },
     "execution_count": 5,
     "metadata": {},
     "output_type": "execute_result"
    },
    {
     "data": {
      "text/plain": [
       "<2000x2069 sparse matrix of type '<class 'numpy.float64'>'\n",
       "\twith 13825 stored elements in Compressed Sparse Row format>"
      ]
     },
     "execution_count": 5,
     "metadata": {},
     "output_type": "execute_result"
    },
    {
     "data": {
      "text/plain": [
       "LatentDirichletAllocation()"
      ]
     },
     "execution_count": 5,
     "metadata": {},
     "output_type": "execute_result"
    },
    {
     "data": {
      "text/plain": [
       "<2000x2623 sparse matrix of type '<class 'numpy.float64'>'\n",
       "\twith 15460 stored elements in Compressed Sparse Row format>"
      ]
     },
     "execution_count": 5,
     "metadata": {},
     "output_type": "execute_result"
    },
    {
     "data": {
      "text/plain": [
       "LatentDirichletAllocation()"
      ]
     },
     "execution_count": 5,
     "metadata": {},
     "output_type": "execute_result"
    },
    {
     "data": {
      "text/plain": [
       "<2000x1712 sparse matrix of type '<class 'numpy.float64'>'\n",
       "\twith 13693 stored elements in Compressed Sparse Row format>"
      ]
     },
     "execution_count": 5,
     "metadata": {},
     "output_type": "execute_result"
    },
    {
     "data": {
      "text/plain": [
       "LatentDirichletAllocation()"
      ]
     },
     "execution_count": 5,
     "metadata": {},
     "output_type": "execute_result"
    },
    {
     "data": {
      "text/plain": [
       "<2000x2389 sparse matrix of type '<class 'numpy.float64'>'\n",
       "\twith 21661 stored elements in Compressed Sparse Row format>"
      ]
     },
     "execution_count": 5,
     "metadata": {},
     "output_type": "execute_result"
    },
    {
     "data": {
      "text/plain": [
       "LatentDirichletAllocation()"
      ]
     },
     "execution_count": 5,
     "metadata": {},
     "output_type": "execute_result"
    },
    {
     "data": {
      "text/plain": [
       "<2000x1825 sparse matrix of type '<class 'numpy.float64'>'\n",
       "\twith 10041 stored elements in Compressed Sparse Row format>"
      ]
     },
     "execution_count": 5,
     "metadata": {},
     "output_type": "execute_result"
    },
    {
     "data": {
      "text/plain": [
       "LatentDirichletAllocation()"
      ]
     },
     "execution_count": 5,
     "metadata": {},
     "output_type": "execute_result"
    },
    {
     "data": {
      "text/plain": [
       "<2000x1651 sparse matrix of type '<class 'numpy.float64'>'\n",
       "\twith 9377 stored elements in Compressed Sparse Row format>"
      ]
     },
     "execution_count": 5,
     "metadata": {},
     "output_type": "execute_result"
    },
    {
     "data": {
      "text/plain": [
       "LatentDirichletAllocation()"
      ]
     },
     "execution_count": 5,
     "metadata": {},
     "output_type": "execute_result"
    },
    {
     "data": {
      "text/plain": [
       "<2000x1798 sparse matrix of type '<class 'numpy.float64'>'\n",
       "\twith 9064 stored elements in Compressed Sparse Row format>"
      ]
     },
     "execution_count": 5,
     "metadata": {},
     "output_type": "execute_result"
    },
    {
     "data": {
      "text/plain": [
       "LatentDirichletAllocation()"
      ]
     },
     "execution_count": 5,
     "metadata": {},
     "output_type": "execute_result"
    },
    {
     "data": {
      "text/plain": [
       "<2000x2073 sparse matrix of type '<class 'numpy.float64'>'\n",
       "\twith 11234 stored elements in Compressed Sparse Row format>"
      ]
     },
     "execution_count": 5,
     "metadata": {},
     "output_type": "execute_result"
    },
    {
     "data": {
      "text/plain": [
       "LatentDirichletAllocation()"
      ]
     },
     "execution_count": 5,
     "metadata": {},
     "output_type": "execute_result"
    },
    {
     "data": {
      "text/plain": [
       "<2000x1842 sparse matrix of type '<class 'numpy.float64'>'\n",
       "\twith 9398 stored elements in Compressed Sparse Row format>"
      ]
     },
     "execution_count": 5,
     "metadata": {},
     "output_type": "execute_result"
    },
    {
     "data": {
      "text/plain": [
       "LatentDirichletAllocation()"
      ]
     },
     "execution_count": 5,
     "metadata": {},
     "output_type": "execute_result"
    },
    {
     "data": {
      "text/plain": [
       "<2000x2145 sparse matrix of type '<class 'numpy.float64'>'\n",
       "\twith 10998 stored elements in Compressed Sparse Row format>"
      ]
     },
     "execution_count": 5,
     "metadata": {},
     "output_type": "execute_result"
    },
    {
     "data": {
      "text/plain": [
       "LatentDirichletAllocation()"
      ]
     },
     "execution_count": 5,
     "metadata": {},
     "output_type": "execute_result"
    },
    {
     "data": {
      "text/plain": [
       "<2000x1484 sparse matrix of type '<class 'numpy.float64'>'\n",
       "\twith 12510 stored elements in Compressed Sparse Row format>"
      ]
     },
     "execution_count": 5,
     "metadata": {},
     "output_type": "execute_result"
    },
    {
     "data": {
      "text/plain": [
       "LatentDirichletAllocation()"
      ]
     },
     "execution_count": 5,
     "metadata": {},
     "output_type": "execute_result"
    },
    {
     "data": {
      "text/plain": [
       "<543x209 sparse matrix of type '<class 'numpy.float64'>'\n",
       "\twith 1682 stored elements in Compressed Sparse Row format>"
      ]
     },
     "execution_count": 5,
     "metadata": {},
     "output_type": "execute_result"
    },
    {
     "data": {
      "text/plain": [
       "LatentDirichletAllocation()"
      ]
     },
     "execution_count": 5,
     "metadata": {},
     "output_type": "execute_result"
    },
    {
     "data": {
      "text/plain": [
       "<2000x1876 sparse matrix of type '<class 'numpy.float64'>'\n",
       "\twith 8251 stored elements in Compressed Sparse Row format>"
      ]
     },
     "execution_count": 5,
     "metadata": {},
     "output_type": "execute_result"
    },
    {
     "data": {
      "text/plain": [
       "LatentDirichletAllocation()"
      ]
     },
     "execution_count": 5,
     "metadata": {},
     "output_type": "execute_result"
    },
    {
     "data": {
      "text/plain": [
       "<2000x2124 sparse matrix of type '<class 'numpy.float64'>'\n",
       "\twith 10911 stored elements in Compressed Sparse Row format>"
      ]
     },
     "execution_count": 5,
     "metadata": {},
     "output_type": "execute_result"
    },
    {
     "data": {
      "text/plain": [
       "LatentDirichletAllocation()"
      ]
     },
     "execution_count": 5,
     "metadata": {},
     "output_type": "execute_result"
    },
    {
     "data": {
      "text/plain": [
       "<2000x2562 sparse matrix of type '<class 'numpy.float64'>'\n",
       "\twith 14423 stored elements in Compressed Sparse Row format>"
      ]
     },
     "execution_count": 5,
     "metadata": {},
     "output_type": "execute_result"
    },
    {
     "data": {
      "text/plain": [
       "LatentDirichletAllocation()"
      ]
     },
     "execution_count": 5,
     "metadata": {},
     "output_type": "execute_result"
    },
    {
     "data": {
      "text/plain": [
       "<2000x1641 sparse matrix of type '<class 'numpy.float64'>'\n",
       "\twith 10450 stored elements in Compressed Sparse Row format>"
      ]
     },
     "execution_count": 5,
     "metadata": {},
     "output_type": "execute_result"
    },
    {
     "data": {
      "text/plain": [
       "LatentDirichletAllocation()"
      ]
     },
     "execution_count": 5,
     "metadata": {},
     "output_type": "execute_result"
    },
    {
     "data": {
      "text/plain": [
       "<2000x1321 sparse matrix of type '<class 'numpy.float64'>'\n",
       "\twith 10052 stored elements in Compressed Sparse Row format>"
      ]
     },
     "execution_count": 5,
     "metadata": {},
     "output_type": "execute_result"
    },
    {
     "data": {
      "text/plain": [
       "LatentDirichletAllocation()"
      ]
     },
     "execution_count": 5,
     "metadata": {},
     "output_type": "execute_result"
    },
    {
     "data": {
      "text/plain": [
       "<908x457 sparse matrix of type '<class 'numpy.float64'>'\n",
       "\twith 3102 stored elements in Compressed Sparse Row format>"
      ]
     },
     "execution_count": 5,
     "metadata": {},
     "output_type": "execute_result"
    },
    {
     "data": {
      "text/plain": [
       "LatentDirichletAllocation()"
      ]
     },
     "execution_count": 5,
     "metadata": {},
     "output_type": "execute_result"
    },
    {
     "data": {
      "text/plain": [
       "<2000x1339 sparse matrix of type '<class 'numpy.float64'>'\n",
       "\twith 7557 stored elements in Compressed Sparse Row format>"
      ]
     },
     "execution_count": 5,
     "metadata": {},
     "output_type": "execute_result"
    },
    {
     "data": {
      "text/plain": [
       "LatentDirichletAllocation()"
      ]
     },
     "execution_count": 5,
     "metadata": {},
     "output_type": "execute_result"
    },
    {
     "data": {
      "text/plain": [
       "<2000x1816 sparse matrix of type '<class 'numpy.float64'>'\n",
       "\twith 10580 stored elements in Compressed Sparse Row format>"
      ]
     },
     "execution_count": 5,
     "metadata": {},
     "output_type": "execute_result"
    },
    {
     "data": {
      "text/plain": [
       "LatentDirichletAllocation()"
      ]
     },
     "execution_count": 5,
     "metadata": {},
     "output_type": "execute_result"
    },
    {
     "data": {
      "text/plain": [
       "<2000x2192 sparse matrix of type '<class 'numpy.float64'>'\n",
       "\twith 11596 stored elements in Compressed Sparse Row format>"
      ]
     },
     "execution_count": 5,
     "metadata": {},
     "output_type": "execute_result"
    },
    {
     "data": {
      "text/plain": [
       "LatentDirichletAllocation()"
      ]
     },
     "execution_count": 5,
     "metadata": {},
     "output_type": "execute_result"
    },
    {
     "data": {
      "text/plain": [
       "<46x42 sparse matrix of type '<class 'numpy.float64'>'\n",
       "\twith 162 stored elements in Compressed Sparse Row format>"
      ]
     },
     "execution_count": 5,
     "metadata": {},
     "output_type": "execute_result"
    },
    {
     "data": {
      "text/plain": [
       "LatentDirichletAllocation()"
      ]
     },
     "execution_count": 5,
     "metadata": {},
     "output_type": "execute_result"
    },
    {
     "data": {
      "text/plain": [
       "<2000x2878 sparse matrix of type '<class 'numpy.float64'>'\n",
       "\twith 15984 stored elements in Compressed Sparse Row format>"
      ]
     },
     "execution_count": 5,
     "metadata": {},
     "output_type": "execute_result"
    },
    {
     "data": {
      "text/plain": [
       "LatentDirichletAllocation()"
      ]
     },
     "execution_count": 5,
     "metadata": {},
     "output_type": "execute_result"
    },
    {
     "data": {
      "text/plain": [
       "<2000x1234 sparse matrix of type '<class 'numpy.float64'>'\n",
       "\twith 8160 stored elements in Compressed Sparse Row format>"
      ]
     },
     "execution_count": 5,
     "metadata": {},
     "output_type": "execute_result"
    },
    {
     "data": {
      "text/plain": [
       "LatentDirichletAllocation()"
      ]
     },
     "execution_count": 5,
     "metadata": {},
     "output_type": "execute_result"
    },
    {
     "data": {
      "text/plain": [
       "<2000x1468 sparse matrix of type '<class 'numpy.float64'>'\n",
       "\twith 8842 stored elements in Compressed Sparse Row format>"
      ]
     },
     "execution_count": 5,
     "metadata": {},
     "output_type": "execute_result"
    },
    {
     "data": {
      "text/plain": [
       "LatentDirichletAllocation()"
      ]
     },
     "execution_count": 5,
     "metadata": {},
     "output_type": "execute_result"
    },
    {
     "data": {
      "text/plain": [
       "<2000x1886 sparse matrix of type '<class 'numpy.float64'>'\n",
       "\twith 9600 stored elements in Compressed Sparse Row format>"
      ]
     },
     "execution_count": 5,
     "metadata": {},
     "output_type": "execute_result"
    },
    {
     "data": {
      "text/plain": [
       "LatentDirichletAllocation()"
      ]
     },
     "execution_count": 5,
     "metadata": {},
     "output_type": "execute_result"
    },
    {
     "data": {
      "text/plain": [
       "<2000x1858 sparse matrix of type '<class 'numpy.float64'>'\n",
       "\twith 10726 stored elements in Compressed Sparse Row format>"
      ]
     },
     "execution_count": 5,
     "metadata": {},
     "output_type": "execute_result"
    },
    {
     "data": {
      "text/plain": [
       "LatentDirichletAllocation()"
      ]
     },
     "execution_count": 5,
     "metadata": {},
     "output_type": "execute_result"
    },
    {
     "data": {
      "text/plain": [
       "<2000x2285 sparse matrix of type '<class 'numpy.float64'>'\n",
       "\twith 11664 stored elements in Compressed Sparse Row format>"
      ]
     },
     "execution_count": 5,
     "metadata": {},
     "output_type": "execute_result"
    },
    {
     "data": {
      "text/plain": [
       "LatentDirichletAllocation()"
      ]
     },
     "execution_count": 5,
     "metadata": {},
     "output_type": "execute_result"
    },
    {
     "data": {
      "text/plain": [
       "<2000x2032 sparse matrix of type '<class 'numpy.float64'>'\n",
       "\twith 10369 stored elements in Compressed Sparse Row format>"
      ]
     },
     "execution_count": 5,
     "metadata": {},
     "output_type": "execute_result"
    },
    {
     "data": {
      "text/plain": [
       "LatentDirichletAllocation()"
      ]
     },
     "execution_count": 5,
     "metadata": {},
     "output_type": "execute_result"
    },
    {
     "data": {
      "text/plain": [
       "<2000x1660 sparse matrix of type '<class 'numpy.float64'>'\n",
       "\twith 9773 stored elements in Compressed Sparse Row format>"
      ]
     },
     "execution_count": 5,
     "metadata": {},
     "output_type": "execute_result"
    },
    {
     "data": {
      "text/plain": [
       "LatentDirichletAllocation()"
      ]
     },
     "execution_count": 5,
     "metadata": {},
     "output_type": "execute_result"
    },
    {
     "data": {
      "text/plain": [
       "<2000x2115 sparse matrix of type '<class 'numpy.float64'>'\n",
       "\twith 10514 stored elements in Compressed Sparse Row format>"
      ]
     },
     "execution_count": 5,
     "metadata": {},
     "output_type": "execute_result"
    },
    {
     "data": {
      "text/plain": [
       "LatentDirichletAllocation()"
      ]
     },
     "execution_count": 5,
     "metadata": {},
     "output_type": "execute_result"
    },
    {
     "data": {
      "text/plain": [
       "<2000x2025 sparse matrix of type '<class 'numpy.float64'>'\n",
       "\twith 11230 stored elements in Compressed Sparse Row format>"
      ]
     },
     "execution_count": 5,
     "metadata": {},
     "output_type": "execute_result"
    },
    {
     "data": {
      "text/plain": [
       "LatentDirichletAllocation()"
      ]
     },
     "execution_count": 5,
     "metadata": {},
     "output_type": "execute_result"
    },
    {
     "data": {
      "text/plain": [
       "<2000x1742 sparse matrix of type '<class 'numpy.float64'>'\n",
       "\twith 9011 stored elements in Compressed Sparse Row format>"
      ]
     },
     "execution_count": 5,
     "metadata": {},
     "output_type": "execute_result"
    },
    {
     "data": {
      "text/plain": [
       "LatentDirichletAllocation()"
      ]
     },
     "execution_count": 5,
     "metadata": {},
     "output_type": "execute_result"
    },
    {
     "data": {
      "text/plain": [
       "<2000x1523 sparse matrix of type '<class 'numpy.float64'>'\n",
       "\twith 8627 stored elements in Compressed Sparse Row format>"
      ]
     },
     "execution_count": 5,
     "metadata": {},
     "output_type": "execute_result"
    },
    {
     "data": {
      "text/plain": [
       "LatentDirichletAllocation()"
      ]
     },
     "execution_count": 5,
     "metadata": {},
     "output_type": "execute_result"
    },
    {
     "data": {
      "text/plain": [
       "<2000x1238 sparse matrix of type '<class 'numpy.float64'>'\n",
       "\twith 7406 stored elements in Compressed Sparse Row format>"
      ]
     },
     "execution_count": 5,
     "metadata": {},
     "output_type": "execute_result"
    },
    {
     "data": {
      "text/plain": [
       "LatentDirichletAllocation()"
      ]
     },
     "execution_count": 5,
     "metadata": {},
     "output_type": "execute_result"
    },
    {
     "data": {
      "text/plain": [
       "<2000x1328 sparse matrix of type '<class 'numpy.float64'>'\n",
       "\twith 8417 stored elements in Compressed Sparse Row format>"
      ]
     },
     "execution_count": 5,
     "metadata": {},
     "output_type": "execute_result"
    },
    {
     "data": {
      "text/plain": [
       "LatentDirichletAllocation()"
      ]
     },
     "execution_count": 5,
     "metadata": {},
     "output_type": "execute_result"
    },
    {
     "data": {
      "text/plain": [
       "<2000x2364 sparse matrix of type '<class 'numpy.float64'>'\n",
       "\twith 15126 stored elements in Compressed Sparse Row format>"
      ]
     },
     "execution_count": 5,
     "metadata": {},
     "output_type": "execute_result"
    },
    {
     "data": {
      "text/plain": [
       "LatentDirichletAllocation()"
      ]
     },
     "execution_count": 5,
     "metadata": {},
     "output_type": "execute_result"
    },
    {
     "data": {
      "text/plain": [
       "<2000x1708 sparse matrix of type '<class 'numpy.float64'>'\n",
       "\twith 9407 stored elements in Compressed Sparse Row format>"
      ]
     },
     "execution_count": 5,
     "metadata": {},
     "output_type": "execute_result"
    },
    {
     "data": {
      "text/plain": [
       "LatentDirichletAllocation()"
      ]
     },
     "execution_count": 5,
     "metadata": {},
     "output_type": "execute_result"
    },
    {
     "data": {
      "text/plain": [
       "<2000x1645 sparse matrix of type '<class 'numpy.float64'>'\n",
       "\twith 10573 stored elements in Compressed Sparse Row format>"
      ]
     },
     "execution_count": 5,
     "metadata": {},
     "output_type": "execute_result"
    },
    {
     "data": {
      "text/plain": [
       "LatentDirichletAllocation()"
      ]
     },
     "execution_count": 5,
     "metadata": {},
     "output_type": "execute_result"
    },
    {
     "data": {
      "text/plain": [
       "<2000x1775 sparse matrix of type '<class 'numpy.float64'>'\n",
       "\twith 9694 stored elements in Compressed Sparse Row format>"
      ]
     },
     "execution_count": 5,
     "metadata": {},
     "output_type": "execute_result"
    },
    {
     "data": {
      "text/plain": [
       "LatentDirichletAllocation()"
      ]
     },
     "execution_count": 5,
     "metadata": {},
     "output_type": "execute_result"
    },
    {
     "data": {
      "text/plain": [
       "<892x665 sparse matrix of type '<class 'numpy.float64'>'\n",
       "\twith 3629 stored elements in Compressed Sparse Row format>"
      ]
     },
     "execution_count": 5,
     "metadata": {},
     "output_type": "execute_result"
    },
    {
     "data": {
      "text/plain": [
       "LatentDirichletAllocation()"
      ]
     },
     "execution_count": 5,
     "metadata": {},
     "output_type": "execute_result"
    },
    {
     "data": {
      "text/plain": [
       "<2000x1992 sparse matrix of type '<class 'numpy.float64'>'\n",
       "\twith 10201 stored elements in Compressed Sparse Row format>"
      ]
     },
     "execution_count": 5,
     "metadata": {},
     "output_type": "execute_result"
    },
    {
     "data": {
      "text/plain": [
       "LatentDirichletAllocation()"
      ]
     },
     "execution_count": 5,
     "metadata": {},
     "output_type": "execute_result"
    },
    {
     "data": {
      "text/plain": [
       "<2000x1252 sparse matrix of type '<class 'numpy.float64'>'\n",
       "\twith 6897 stored elements in Compressed Sparse Row format>"
      ]
     },
     "execution_count": 5,
     "metadata": {},
     "output_type": "execute_result"
    },
    {
     "data": {
      "text/plain": [
       "LatentDirichletAllocation()"
      ]
     },
     "execution_count": 5,
     "metadata": {},
     "output_type": "execute_result"
    },
    {
     "data": {
      "text/plain": [
       "<2000x858 sparse matrix of type '<class 'numpy.float64'>'\n",
       "\twith 6529 stored elements in Compressed Sparse Row format>"
      ]
     },
     "execution_count": 5,
     "metadata": {},
     "output_type": "execute_result"
    },
    {
     "data": {
      "text/plain": [
       "LatentDirichletAllocation()"
      ]
     },
     "execution_count": 5,
     "metadata": {},
     "output_type": "execute_result"
    },
    {
     "data": {
      "text/plain": [
       "<2000x1821 sparse matrix of type '<class 'numpy.float64'>'\n",
       "\twith 7882 stored elements in Compressed Sparse Row format>"
      ]
     },
     "execution_count": 5,
     "metadata": {},
     "output_type": "execute_result"
    },
    {
     "data": {
      "text/plain": [
       "LatentDirichletAllocation()"
      ]
     },
     "execution_count": 5,
     "metadata": {},
     "output_type": "execute_result"
    },
    {
     "data": {
      "text/plain": [
       "<2000x2786 sparse matrix of type '<class 'numpy.float64'>'\n",
       "\twith 17355 stored elements in Compressed Sparse Row format>"
      ]
     },
     "execution_count": 5,
     "metadata": {},
     "output_type": "execute_result"
    },
    {
     "data": {
      "text/plain": [
       "LatentDirichletAllocation()"
      ]
     },
     "execution_count": 5,
     "metadata": {},
     "output_type": "execute_result"
    },
    {
     "data": {
      "text/plain": [
       "<2000x1863 sparse matrix of type '<class 'numpy.float64'>'\n",
       "\twith 10035 stored elements in Compressed Sparse Row format>"
      ]
     },
     "execution_count": 5,
     "metadata": {},
     "output_type": "execute_result"
    },
    {
     "data": {
      "text/plain": [
       "LatentDirichletAllocation()"
      ]
     },
     "execution_count": 5,
     "metadata": {},
     "output_type": "execute_result"
    },
    {
     "data": {
      "text/plain": [
       "<2000x2255 sparse matrix of type '<class 'numpy.float64'>'\n",
       "\twith 12711 stored elements in Compressed Sparse Row format>"
      ]
     },
     "execution_count": 5,
     "metadata": {},
     "output_type": "execute_result"
    },
    {
     "data": {
      "text/plain": [
       "LatentDirichletAllocation()"
      ]
     },
     "execution_count": 5,
     "metadata": {},
     "output_type": "execute_result"
    },
    {
     "data": {
      "text/plain": [
       "<2000x1472 sparse matrix of type '<class 'numpy.float64'>'\n",
       "\twith 8949 stored elements in Compressed Sparse Row format>"
      ]
     },
     "execution_count": 5,
     "metadata": {},
     "output_type": "execute_result"
    },
    {
     "data": {
      "text/plain": [
       "LatentDirichletAllocation()"
      ]
     },
     "execution_count": 5,
     "metadata": {},
     "output_type": "execute_result"
    },
    {
     "data": {
      "text/plain": [
       "<2000x2695 sparse matrix of type '<class 'numpy.float64'>'\n",
       "\twith 14852 stored elements in Compressed Sparse Row format>"
      ]
     },
     "execution_count": 5,
     "metadata": {},
     "output_type": "execute_result"
    },
    {
     "data": {
      "text/plain": [
       "LatentDirichletAllocation()"
      ]
     },
     "execution_count": 5,
     "metadata": {},
     "output_type": "execute_result"
    },
    {
     "data": {
      "text/plain": [
       "<2000x2378 sparse matrix of type '<class 'numpy.float64'>'\n",
       "\twith 17538 stored elements in Compressed Sparse Row format>"
      ]
     },
     "execution_count": 5,
     "metadata": {},
     "output_type": "execute_result"
    },
    {
     "data": {
      "text/plain": [
       "LatentDirichletAllocation()"
      ]
     },
     "execution_count": 5,
     "metadata": {},
     "output_type": "execute_result"
    },
    {
     "data": {
      "text/plain": [
       "<2000x2343 sparse matrix of type '<class 'numpy.float64'>'\n",
       "\twith 14246 stored elements in Compressed Sparse Row format>"
      ]
     },
     "execution_count": 5,
     "metadata": {},
     "output_type": "execute_result"
    },
    {
     "data": {
      "text/plain": [
       "LatentDirichletAllocation()"
      ]
     },
     "execution_count": 5,
     "metadata": {},
     "output_type": "execute_result"
    },
    {
     "data": {
      "text/plain": [
       "<2000x2246 sparse matrix of type '<class 'numpy.float64'>'\n",
       "\twith 11545 stored elements in Compressed Sparse Row format>"
      ]
     },
     "execution_count": 5,
     "metadata": {},
     "output_type": "execute_result"
    },
    {
     "data": {
      "text/plain": [
       "LatentDirichletAllocation()"
      ]
     },
     "execution_count": 5,
     "metadata": {},
     "output_type": "execute_result"
    },
    {
     "data": {
      "text/plain": [
       "<2000x2773 sparse matrix of type '<class 'numpy.float64'>'\n",
       "\twith 15399 stored elements in Compressed Sparse Row format>"
      ]
     },
     "execution_count": 5,
     "metadata": {},
     "output_type": "execute_result"
    },
    {
     "data": {
      "text/plain": [
       "LatentDirichletAllocation()"
      ]
     },
     "execution_count": 5,
     "metadata": {},
     "output_type": "execute_result"
    },
    {
     "data": {
      "text/plain": [
       "<2000x1665 sparse matrix of type '<class 'numpy.float64'>'\n",
       "\twith 9466 stored elements in Compressed Sparse Row format>"
      ]
     },
     "execution_count": 5,
     "metadata": {},
     "output_type": "execute_result"
    },
    {
     "data": {
      "text/plain": [
       "LatentDirichletAllocation()"
      ]
     },
     "execution_count": 5,
     "metadata": {},
     "output_type": "execute_result"
    },
    {
     "data": {
      "text/plain": [
       "<2000x2040 sparse matrix of type '<class 'numpy.float64'>'\n",
       "\twith 9595 stored elements in Compressed Sparse Row format>"
      ]
     },
     "execution_count": 5,
     "metadata": {},
     "output_type": "execute_result"
    },
    {
     "data": {
      "text/plain": [
       "LatentDirichletAllocation()"
      ]
     },
     "execution_count": 5,
     "metadata": {},
     "output_type": "execute_result"
    },
    {
     "data": {
      "text/plain": [
       "<2000x1750 sparse matrix of type '<class 'numpy.float64'>'\n",
       "\twith 8794 stored elements in Compressed Sparse Row format>"
      ]
     },
     "execution_count": 5,
     "metadata": {},
     "output_type": "execute_result"
    },
    {
     "data": {
      "text/plain": [
       "LatentDirichletAllocation()"
      ]
     },
     "execution_count": 5,
     "metadata": {},
     "output_type": "execute_result"
    },
    {
     "data": {
      "text/plain": [
       "<2000x2264 sparse matrix of type '<class 'numpy.float64'>'\n",
       "\twith 16189 stored elements in Compressed Sparse Row format>"
      ]
     },
     "execution_count": 5,
     "metadata": {},
     "output_type": "execute_result"
    },
    {
     "data": {
      "text/plain": [
       "LatentDirichletAllocation()"
      ]
     },
     "execution_count": 5,
     "metadata": {},
     "output_type": "execute_result"
    },
    {
     "data": {
      "text/plain": [
       "<2000x2034 sparse matrix of type '<class 'numpy.float64'>'\n",
       "\twith 9873 stored elements in Compressed Sparse Row format>"
      ]
     },
     "execution_count": 5,
     "metadata": {},
     "output_type": "execute_result"
    },
    {
     "data": {
      "text/plain": [
       "LatentDirichletAllocation()"
      ]
     },
     "execution_count": 5,
     "metadata": {},
     "output_type": "execute_result"
    },
    {
     "data": {
      "text/plain": [
       "<2000x2148 sparse matrix of type '<class 'numpy.float64'>'\n",
       "\twith 12489 stored elements in Compressed Sparse Row format>"
      ]
     },
     "execution_count": 5,
     "metadata": {},
     "output_type": "execute_result"
    },
    {
     "data": {
      "text/plain": [
       "LatentDirichletAllocation()"
      ]
     },
     "execution_count": 5,
     "metadata": {},
     "output_type": "execute_result"
    },
    {
     "data": {
      "text/plain": [
       "<2000x1403 sparse matrix of type '<class 'numpy.float64'>'\n",
       "\twith 6533 stored elements in Compressed Sparse Row format>"
      ]
     },
     "execution_count": 5,
     "metadata": {},
     "output_type": "execute_result"
    },
    {
     "data": {
      "text/plain": [
       "LatentDirichletAllocation()"
      ]
     },
     "execution_count": 5,
     "metadata": {},
     "output_type": "execute_result"
    },
    {
     "data": {
      "text/plain": [
       "<2000x1566 sparse matrix of type '<class 'numpy.float64'>'\n",
       "\twith 11215 stored elements in Compressed Sparse Row format>"
      ]
     },
     "execution_count": 5,
     "metadata": {},
     "output_type": "execute_result"
    },
    {
     "data": {
      "text/plain": [
       "LatentDirichletAllocation()"
      ]
     },
     "execution_count": 5,
     "metadata": {},
     "output_type": "execute_result"
    },
    {
     "data": {
      "text/plain": [
       "<2000x1238 sparse matrix of type '<class 'numpy.float64'>'\n",
       "\twith 6927 stored elements in Compressed Sparse Row format>"
      ]
     },
     "execution_count": 5,
     "metadata": {},
     "output_type": "execute_result"
    },
    {
     "data": {
      "text/plain": [
       "LatentDirichletAllocation()"
      ]
     },
     "execution_count": 5,
     "metadata": {},
     "output_type": "execute_result"
    },
    {
     "data": {
      "text/plain": [
       "<2000x2823 sparse matrix of type '<class 'numpy.float64'>'\n",
       "\twith 31669 stored elements in Compressed Sparse Row format>"
      ]
     },
     "execution_count": 5,
     "metadata": {},
     "output_type": "execute_result"
    },
    {
     "data": {
      "text/plain": [
       "LatentDirichletAllocation()"
      ]
     },
     "execution_count": 5,
     "metadata": {},
     "output_type": "execute_result"
    },
    {
     "data": {
      "text/plain": [
       "<2000x1982 sparse matrix of type '<class 'numpy.float64'>'\n",
       "\twith 9450 stored elements in Compressed Sparse Row format>"
      ]
     },
     "execution_count": 5,
     "metadata": {},
     "output_type": "execute_result"
    },
    {
     "data": {
      "text/plain": [
       "LatentDirichletAllocation()"
      ]
     },
     "execution_count": 5,
     "metadata": {},
     "output_type": "execute_result"
    },
    {
     "data": {
      "text/plain": [
       "<2000x1392 sparse matrix of type '<class 'numpy.float64'>'\n",
       "\twith 9062 stored elements in Compressed Sparse Row format>"
      ]
     },
     "execution_count": 5,
     "metadata": {},
     "output_type": "execute_result"
    },
    {
     "data": {
      "text/plain": [
       "LatentDirichletAllocation()"
      ]
     },
     "execution_count": 5,
     "metadata": {},
     "output_type": "execute_result"
    },
    {
     "data": {
      "text/plain": [
       "<2000x1726 sparse matrix of type '<class 'numpy.float64'>'\n",
       "\twith 9472 stored elements in Compressed Sparse Row format>"
      ]
     },
     "execution_count": 5,
     "metadata": {},
     "output_type": "execute_result"
    },
    {
     "data": {
      "text/plain": [
       "LatentDirichletAllocation()"
      ]
     },
     "execution_count": 5,
     "metadata": {},
     "output_type": "execute_result"
    },
    {
     "data": {
      "text/plain": [
       "<2000x2358 sparse matrix of type '<class 'numpy.float64'>'\n",
       "\twith 13847 stored elements in Compressed Sparse Row format>"
      ]
     },
     "execution_count": 5,
     "metadata": {},
     "output_type": "execute_result"
    },
    {
     "data": {
      "text/plain": [
       "LatentDirichletAllocation()"
      ]
     },
     "execution_count": 5,
     "metadata": {},
     "output_type": "execute_result"
    },
    {
     "data": {
      "text/plain": [
       "<2000x2231 sparse matrix of type '<class 'numpy.float64'>'\n",
       "\twith 13478 stored elements in Compressed Sparse Row format>"
      ]
     },
     "execution_count": 5,
     "metadata": {},
     "output_type": "execute_result"
    },
    {
     "data": {
      "text/plain": [
       "LatentDirichletAllocation()"
      ]
     },
     "execution_count": 5,
     "metadata": {},
     "output_type": "execute_result"
    },
    {
     "data": {
      "text/plain": [
       "<2000x3227 sparse matrix of type '<class 'numpy.float64'>'\n",
       "\twith 36824 stored elements in Compressed Sparse Row format>"
      ]
     },
     "execution_count": 5,
     "metadata": {},
     "output_type": "execute_result"
    },
    {
     "data": {
      "text/plain": [
       "LatentDirichletAllocation()"
      ]
     },
     "execution_count": 5,
     "metadata": {},
     "output_type": "execute_result"
    },
    {
     "data": {
      "text/plain": [
       "<2000x2062 sparse matrix of type '<class 'numpy.float64'>'\n",
       "\twith 10299 stored elements in Compressed Sparse Row format>"
      ]
     },
     "execution_count": 5,
     "metadata": {},
     "output_type": "execute_result"
    },
    {
     "data": {
      "text/plain": [
       "LatentDirichletAllocation()"
      ]
     },
     "execution_count": 5,
     "metadata": {},
     "output_type": "execute_result"
    },
    {
     "data": {
      "text/plain": [
       "<2000x1959 sparse matrix of type '<class 'numpy.float64'>'\n",
       "\twith 11487 stored elements in Compressed Sparse Row format>"
      ]
     },
     "execution_count": 5,
     "metadata": {},
     "output_type": "execute_result"
    },
    {
     "data": {
      "text/plain": [
       "LatentDirichletAllocation()"
      ]
     },
     "execution_count": 5,
     "metadata": {},
     "output_type": "execute_result"
    },
    {
     "data": {
      "text/plain": [
       "<2000x2211 sparse matrix of type '<class 'numpy.float64'>'\n",
       "\twith 14663 stored elements in Compressed Sparse Row format>"
      ]
     },
     "execution_count": 5,
     "metadata": {},
     "output_type": "execute_result"
    },
    {
     "data": {
      "text/plain": [
       "LatentDirichletAllocation()"
      ]
     },
     "execution_count": 5,
     "metadata": {},
     "output_type": "execute_result"
    },
    {
     "data": {
      "text/plain": [
       "<2000x1642 sparse matrix of type '<class 'numpy.float64'>'\n",
       "\twith 9644 stored elements in Compressed Sparse Row format>"
      ]
     },
     "execution_count": 5,
     "metadata": {},
     "output_type": "execute_result"
    },
    {
     "data": {
      "text/plain": [
       "LatentDirichletAllocation()"
      ]
     },
     "execution_count": 5,
     "metadata": {},
     "output_type": "execute_result"
    },
    {
     "data": {
      "text/plain": [
       "<2000x2041 sparse matrix of type '<class 'numpy.float64'>'\n",
       "\twith 11850 stored elements in Compressed Sparse Row format>"
      ]
     },
     "execution_count": 5,
     "metadata": {},
     "output_type": "execute_result"
    },
    {
     "data": {
      "text/plain": [
       "LatentDirichletAllocation()"
      ]
     },
     "execution_count": 5,
     "metadata": {},
     "output_type": "execute_result"
    },
    {
     "data": {
      "text/plain": [
       "<2000x1728 sparse matrix of type '<class 'numpy.float64'>'\n",
       "\twith 13031 stored elements in Compressed Sparse Row format>"
      ]
     },
     "execution_count": 5,
     "metadata": {},
     "output_type": "execute_result"
    },
    {
     "data": {
      "text/plain": [
       "LatentDirichletAllocation()"
      ]
     },
     "execution_count": 5,
     "metadata": {},
     "output_type": "execute_result"
    },
    {
     "data": {
      "text/plain": [
       "<2000x1283 sparse matrix of type '<class 'numpy.float64'>'\n",
       "\twith 9309 stored elements in Compressed Sparse Row format>"
      ]
     },
     "execution_count": 5,
     "metadata": {},
     "output_type": "execute_result"
    },
    {
     "data": {
      "text/plain": [
       "LatentDirichletAllocation()"
      ]
     },
     "execution_count": 5,
     "metadata": {},
     "output_type": "execute_result"
    },
    {
     "data": {
      "text/plain": [
       "<2000x1952 sparse matrix of type '<class 'numpy.float64'>'\n",
       "\twith 11767 stored elements in Compressed Sparse Row format>"
      ]
     },
     "execution_count": 5,
     "metadata": {},
     "output_type": "execute_result"
    },
    {
     "data": {
      "text/plain": [
       "LatentDirichletAllocation()"
      ]
     },
     "execution_count": 5,
     "metadata": {},
     "output_type": "execute_result"
    },
    {
     "data": {
      "text/plain": [
       "<2000x1539 sparse matrix of type '<class 'numpy.float64'>'\n",
       "\twith 10656 stored elements in Compressed Sparse Row format>"
      ]
     },
     "execution_count": 5,
     "metadata": {},
     "output_type": "execute_result"
    },
    {
     "data": {
      "text/plain": [
       "LatentDirichletAllocation()"
      ]
     },
     "execution_count": 5,
     "metadata": {},
     "output_type": "execute_result"
    },
    {
     "data": {
      "text/plain": [
       "<2000x1892 sparse matrix of type '<class 'numpy.float64'>'\n",
       "\twith 10682 stored elements in Compressed Sparse Row format>"
      ]
     },
     "execution_count": 5,
     "metadata": {},
     "output_type": "execute_result"
    },
    {
     "data": {
      "text/plain": [
       "LatentDirichletAllocation()"
      ]
     },
     "execution_count": 5,
     "metadata": {},
     "output_type": "execute_result"
    },
    {
     "data": {
      "text/plain": [
       "<2000x1829 sparse matrix of type '<class 'numpy.float64'>'\n",
       "\twith 9560 stored elements in Compressed Sparse Row format>"
      ]
     },
     "execution_count": 5,
     "metadata": {},
     "output_type": "execute_result"
    },
    {
     "data": {
      "text/plain": [
       "LatentDirichletAllocation()"
      ]
     },
     "execution_count": 5,
     "metadata": {},
     "output_type": "execute_result"
    },
    {
     "data": {
      "text/plain": [
       "<2000x1926 sparse matrix of type '<class 'numpy.float64'>'\n",
       "\twith 12652 stored elements in Compressed Sparse Row format>"
      ]
     },
     "execution_count": 5,
     "metadata": {},
     "output_type": "execute_result"
    },
    {
     "data": {
      "text/plain": [
       "LatentDirichletAllocation()"
      ]
     },
     "execution_count": 5,
     "metadata": {},
     "output_type": "execute_result"
    },
    {
     "data": {
      "text/plain": [
       "<2000x1574 sparse matrix of type '<class 'numpy.float64'>'\n",
       "\twith 11062 stored elements in Compressed Sparse Row format>"
      ]
     },
     "execution_count": 5,
     "metadata": {},
     "output_type": "execute_result"
    },
    {
     "data": {
      "text/plain": [
       "LatentDirichletAllocation()"
      ]
     },
     "execution_count": 5,
     "metadata": {},
     "output_type": "execute_result"
    },
    {
     "data": {
      "text/plain": [
       "<2000x1920 sparse matrix of type '<class 'numpy.float64'>'\n",
       "\twith 11467 stored elements in Compressed Sparse Row format>"
      ]
     },
     "execution_count": 5,
     "metadata": {},
     "output_type": "execute_result"
    },
    {
     "data": {
      "text/plain": [
       "LatentDirichletAllocation()"
      ]
     },
     "execution_count": 5,
     "metadata": {},
     "output_type": "execute_result"
    },
    {
     "data": {
      "text/plain": [
       "<2000x1829 sparse matrix of type '<class 'numpy.float64'>'\n",
       "\twith 7782 stored elements in Compressed Sparse Row format>"
      ]
     },
     "execution_count": 5,
     "metadata": {},
     "output_type": "execute_result"
    },
    {
     "data": {
      "text/plain": [
       "LatentDirichletAllocation()"
      ]
     },
     "execution_count": 5,
     "metadata": {},
     "output_type": "execute_result"
    },
    {
     "data": {
      "text/plain": [
       "<2000x1603 sparse matrix of type '<class 'numpy.float64'>'\n",
       "\twith 9114 stored elements in Compressed Sparse Row format>"
      ]
     },
     "execution_count": 5,
     "metadata": {},
     "output_type": "execute_result"
    },
    {
     "data": {
      "text/plain": [
       "LatentDirichletAllocation()"
      ]
     },
     "execution_count": 5,
     "metadata": {},
     "output_type": "execute_result"
    },
    {
     "data": {
      "text/plain": [
       "<154x63 sparse matrix of type '<class 'numpy.float64'>'\n",
       "\twith 494 stored elements in Compressed Sparse Row format>"
      ]
     },
     "execution_count": 5,
     "metadata": {},
     "output_type": "execute_result"
    },
    {
     "data": {
      "text/plain": [
       "LatentDirichletAllocation()"
      ]
     },
     "execution_count": 5,
     "metadata": {},
     "output_type": "execute_result"
    },
    {
     "data": {
      "text/plain": [
       "<2000x2502 sparse matrix of type '<class 'numpy.float64'>'\n",
       "\twith 13481 stored elements in Compressed Sparse Row format>"
      ]
     },
     "execution_count": 5,
     "metadata": {},
     "output_type": "execute_result"
    },
    {
     "data": {
      "text/plain": [
       "LatentDirichletAllocation()"
      ]
     },
     "execution_count": 5,
     "metadata": {},
     "output_type": "execute_result"
    },
    {
     "data": {
      "text/plain": [
       "<2000x1959 sparse matrix of type '<class 'numpy.float64'>'\n",
       "\twith 9816 stored elements in Compressed Sparse Row format>"
      ]
     },
     "execution_count": 5,
     "metadata": {},
     "output_type": "execute_result"
    },
    {
     "data": {
      "text/plain": [
       "LatentDirichletAllocation()"
      ]
     },
     "execution_count": 5,
     "metadata": {},
     "output_type": "execute_result"
    },
    {
     "data": {
      "text/plain": [
       "<2000x2250 sparse matrix of type '<class 'numpy.float64'>'\n",
       "\twith 14880 stored elements in Compressed Sparse Row format>"
      ]
     },
     "execution_count": 5,
     "metadata": {},
     "output_type": "execute_result"
    },
    {
     "data": {
      "text/plain": [
       "LatentDirichletAllocation()"
      ]
     },
     "execution_count": 5,
     "metadata": {},
     "output_type": "execute_result"
    },
    {
     "data": {
      "text/plain": [
       "<2000x1477 sparse matrix of type '<class 'numpy.float64'>'\n",
       "\twith 9457 stored elements in Compressed Sparse Row format>"
      ]
     },
     "execution_count": 5,
     "metadata": {},
     "output_type": "execute_result"
    },
    {
     "data": {
      "text/plain": [
       "LatentDirichletAllocation()"
      ]
     },
     "execution_count": 5,
     "metadata": {},
     "output_type": "execute_result"
    },
    {
     "data": {
      "text/plain": [
       "<2000x1664 sparse matrix of type '<class 'numpy.float64'>'\n",
       "\twith 7679 stored elements in Compressed Sparse Row format>"
      ]
     },
     "execution_count": 5,
     "metadata": {},
     "output_type": "execute_result"
    },
    {
     "data": {
      "text/plain": [
       "LatentDirichletAllocation()"
      ]
     },
     "execution_count": 5,
     "metadata": {},
     "output_type": "execute_result"
    },
    {
     "data": {
      "text/plain": [
       "<2000x2085 sparse matrix of type '<class 'numpy.float64'>'\n",
       "\twith 11374 stored elements in Compressed Sparse Row format>"
      ]
     },
     "execution_count": 5,
     "metadata": {},
     "output_type": "execute_result"
    },
    {
     "data": {
      "text/plain": [
       "LatentDirichletAllocation()"
      ]
     },
     "execution_count": 5,
     "metadata": {},
     "output_type": "execute_result"
    },
    {
     "data": {
      "text/plain": [
       "<2000x1680 sparse matrix of type '<class 'numpy.float64'>'\n",
       "\twith 10829 stored elements in Compressed Sparse Row format>"
      ]
     },
     "execution_count": 5,
     "metadata": {},
     "output_type": "execute_result"
    },
    {
     "data": {
      "text/plain": [
       "LatentDirichletAllocation()"
      ]
     },
     "execution_count": 5,
     "metadata": {},
     "output_type": "execute_result"
    },
    {
     "data": {
      "text/plain": [
       "<2000x1895 sparse matrix of type '<class 'numpy.float64'>'\n",
       "\twith 11312 stored elements in Compressed Sparse Row format>"
      ]
     },
     "execution_count": 5,
     "metadata": {},
     "output_type": "execute_result"
    },
    {
     "data": {
      "text/plain": [
       "LatentDirichletAllocation()"
      ]
     },
     "execution_count": 5,
     "metadata": {},
     "output_type": "execute_result"
    },
    {
     "data": {
      "text/plain": [
       "<2000x1527 sparse matrix of type '<class 'numpy.float64'>'\n",
       "\twith 7579 stored elements in Compressed Sparse Row format>"
      ]
     },
     "execution_count": 5,
     "metadata": {},
     "output_type": "execute_result"
    },
    {
     "data": {
      "text/plain": [
       "LatentDirichletAllocation()"
      ]
     },
     "execution_count": 5,
     "metadata": {},
     "output_type": "execute_result"
    },
    {
     "data": {
      "text/plain": [
       "<2000x1573 sparse matrix of type '<class 'numpy.float64'>'\n",
       "\twith 8719 stored elements in Compressed Sparse Row format>"
      ]
     },
     "execution_count": 5,
     "metadata": {},
     "output_type": "execute_result"
    },
    {
     "data": {
      "text/plain": [
       "LatentDirichletAllocation()"
      ]
     },
     "execution_count": 5,
     "metadata": {},
     "output_type": "execute_result"
    },
    {
     "data": {
      "text/plain": [
       "<296x139 sparse matrix of type '<class 'numpy.float64'>'\n",
       "\twith 921 stored elements in Compressed Sparse Row format>"
      ]
     },
     "execution_count": 5,
     "metadata": {},
     "output_type": "execute_result"
    },
    {
     "data": {
      "text/plain": [
       "LatentDirichletAllocation()"
      ]
     },
     "execution_count": 5,
     "metadata": {},
     "output_type": "execute_result"
    },
    {
     "data": {
      "text/plain": [
       "<2000x3504 sparse matrix of type '<class 'numpy.float64'>'\n",
       "\twith 18575 stored elements in Compressed Sparse Row format>"
      ]
     },
     "execution_count": 5,
     "metadata": {},
     "output_type": "execute_result"
    },
    {
     "data": {
      "text/plain": [
       "LatentDirichletAllocation()"
      ]
     },
     "execution_count": 5,
     "metadata": {},
     "output_type": "execute_result"
    },
    {
     "data": {
      "text/plain": [
       "<2000x2238 sparse matrix of type '<class 'numpy.float64'>'\n",
       "\twith 12648 stored elements in Compressed Sparse Row format>"
      ]
     },
     "execution_count": 5,
     "metadata": {},
     "output_type": "execute_result"
    },
    {
     "data": {
      "text/plain": [
       "LatentDirichletAllocation()"
      ]
     },
     "execution_count": 5,
     "metadata": {},
     "output_type": "execute_result"
    },
    {
     "data": {
      "text/plain": [
       "<2000x1872 sparse matrix of type '<class 'numpy.float64'>'\n",
       "\twith 9565 stored elements in Compressed Sparse Row format>"
      ]
     },
     "execution_count": 5,
     "metadata": {},
     "output_type": "execute_result"
    },
    {
     "data": {
      "text/plain": [
       "LatentDirichletAllocation()"
      ]
     },
     "execution_count": 5,
     "metadata": {},
     "output_type": "execute_result"
    },
    {
     "data": {
      "text/plain": [
       "<2000x683 sparse matrix of type '<class 'numpy.float64'>'\n",
       "\twith 6078 stored elements in Compressed Sparse Row format>"
      ]
     },
     "execution_count": 5,
     "metadata": {},
     "output_type": "execute_result"
    },
    {
     "data": {
      "text/plain": [
       "LatentDirichletAllocation()"
      ]
     },
     "execution_count": 5,
     "metadata": {},
     "output_type": "execute_result"
    },
    {
     "data": {
      "text/plain": [
       "[5.465662443144791,\n",
       " 6.02829678732853,\n",
       " 5.899148894736737,\n",
       " 5.668299383276963,\n",
       " 5.9275218489035355,\n",
       " 5.7869599686052275,\n",
       " 6.101946524597176,\n",
       " 5.776401046266082,\n",
       " 6.085968003414379,\n",
       " 5.667816583066816,\n",
       " 6.154916342496824,\n",
       " 5.507999650531569,\n",
       " 5.400682810136027,\n",
       " 6.0624560633799245,\n",
       " 5.5744373490401085,\n",
       " 6.120014504983384,\n",
       " 5.799516412069044,\n",
       " 6.023437675643645,\n",
       " 6.0891492604330235,\n",
       " 6.203926220891448,\n",
       " 6.076549995486869,\n",
       " 5.742113618234688,\n",
       " 5.727930790745396,\n",
       " 5.536053503872047,\n",
       " 5.726148497233404,\n",
       " 5.430360150643047,\n",
       " 5.604252463619858,\n",
       " 6.286031137719798,\n",
       " 5.709972859571843,\n",
       " 6.033751350065529,\n",
       " 5.856415922376381,\n",
       " 5.704435058422798,\n",
       " 5.701605232757169,\n",
       " 6.226043693879134,\n",
       " 5.966570442419693,\n",
       " 6.277198737815218,\n",
       " 5.822899553503156,\n",
       " 5.885788199262544,\n",
       " 5.785606579828281,\n",
       " 5.924032891264985,\n",
       " 5.426686126056774,\n",
       " 6.156093270222317,\n",
       " 5.328199130986725,\n",
       " 5.8799932769495245,\n",
       " 5.809145206106507,\n",
       " 5.67141982347416,\n",
       " 5.818306835266513,\n",
       " 5.904672368662091,\n",
       " 5.4957311480831565,\n",
       " 5.463159413475776,\n",
       " 5.901789844488355,\n",
       " 5.527878262168122,\n",
       " 5.476036591838229,\n",
       " 5.996897164120585,\n",
       " 6.003994416073479,\n",
       " 6.1031282708199965,\n",
       " 6.148517007372243,\n",
       " 5.924488289763912,\n",
       " 5.996478513054128,\n",
       " 4.941815306341301,\n",
       " 5.732755177540339,\n",
       " 5.747961080241344,\n",
       " 5.856926149420504,\n",
       " 5.914730760307778,\n",
       " 5.643200766776373,\n",
       " 5.193572275284471,\n",
       " 5.846648575261576,\n",
       " 6.064802294462597,\n",
       " 5.871432983119369,\n",
       " 5.435764477961838,\n",
       " 5.765896417657094,\n",
       " 5.811170837781666,\n",
       " 5.706280670539947,\n",
       " 5.784558175344334,\n",
       " 5.909252276796559,\n",
       " 5.978151778219894,\n",
       " 5.780537753762088,\n",
       " 5.972177379854596,\n",
       " 5.6905374320261135,\n",
       " 5.624592937911471,\n",
       " 5.809679431148686,\n",
       " 5.692680738033936,\n",
       " 5.50237951422159,\n",
       " 6.080573005704656,\n",
       " 6.170071416336315,\n",
       " 5.667659083521011,\n",
       " 5.313127841076371,\n",
       " 5.836557287886537,\n",
       " 5.710900965353311,\n",
       " 6.049158143393999,\n",
       " 5.6673042019475375,\n",
       " 5.657029636879299,\n",
       " 5.991525615398291,\n",
       " 5.216684536712064,\n",
       " 5.715284601586829,\n",
       " 6.142027702570976,\n",
       " 6.005065752013646,\n",
       " 5.762622878321431,\n",
       " 5.6018725340183675,\n",
       " 5.615554523310618,\n",
       " 5.90752502924645,\n",
       " 5.755867872735564,\n",
       " 5.811033946857586,\n",
       " 5.799453850430162,\n",
       " 5.705958547960154,\n",
       " 5.813571931580311,\n",
       " 5.895434885995316,\n",
       " 5.885036393712516,\n",
       " 5.6973230757408935,\n",
       " 5.44091561531634,\n",
       " 5.631066642224495,\n",
       " 5.965112028859583,\n",
       " 5.4085083237371405,\n",
       " 5.783533952308,\n",
       " 5.6887031004195565,\n",
       " 5.428423440640024,\n",
       " 5.610405657342842,\n",
       " 6.156665137542509,\n",
       " 5.842728383936344,\n",
       " 5.974185531342087,\n",
       " 6.075266498973921,\n",
       " 5.789135840250239,\n",
       " 6.122464037798457,\n",
       " 5.831882561442921,\n",
       " 5.815243250683637,\n",
       " 5.854912622471343,\n",
       " 6.10669106790096,\n",
       " 5.987800760706639,\n",
       " 5.774104997938923,\n",
       " 5.477521663997475,\n",
       " 5.831001714864538,\n",
       " 5.707555673428029,\n",
       " 5.545895438274139,\n",
       " 5.799067378405789,\n",
       " 5.49953844260828,\n",
       " 5.580766303526841,\n",
       " 5.970686058012992,\n",
       " 6.073542338712655,\n",
       " 5.821802950289148,\n",
       " 5.635652986427671,\n",
       " 5.560614917614819,\n",
       " 5.604382053962405,\n",
       " 5.863217811481427,\n",
       " 5.470555420544833,\n",
       " 5.766059568772425,\n",
       " 5.399858831604508,\n",
       " 5.941044732187672,\n",
       " 5.655913255558586,\n",
       " 6.131755733100092,\n",
       " 5.6372855876280425]"
      ]
     },
     "execution_count": 5,
     "metadata": {},
     "output_type": "execute_result"
    },
    {
     "data": {
      "text/plain": [
       "[0.25,\n",
       " 0.1248630887185104,\n",
       " 0.14814814814814814,\n",
       " 0.19436997319034852,\n",
       " 0.09868421052631579,\n",
       " 0.19047619047619047,\n",
       " 0.16952789699570817,\n",
       " 0.1307471264367816,\n",
       " 0.21605839416058395,\n",
       " 0.31266149870801035,\n",
       " 0.3093220338983051,\n",
       " 0.32751091703056767,\n",
       " 0.09090909090909091,\n",
       " 0.19607843137254902,\n",
       " 0.2608695652173913,\n",
       " 0.1744186046511628,\n",
       " 0.20765027322404372,\n",
       " 0.1650485436893204,\n",
       " 0.2,\n",
       " 0.2,\n",
       " 0.1956521739130435,\n",
       " 0.31902985074626866,\n",
       " 0.25882352941176473,\n",
       " 0.296551724137931,\n",
       " 0.2692307692307692,\n",
       " 0.1917808219178082,\n",
       " 0.37142857142857144,\n",
       " 0.1875,\n",
       " 0.2897196261682243,\n",
       " 0.13414634146341464,\n",
       " 0.2751677852348993,\n",
       " 0.21428571428571427,\n",
       " 0.17796610169491525,\n",
       " 0.15774647887323945,\n",
       " 0.14878048780487804,\n",
       " 0.22388059701492538,\n",
       " 0.22030651340996169,\n",
       " 0.45161290322580644,\n",
       " 0.2376237623762376,\n",
       " 0.13725490196078433,\n",
       " 0.45454545454545453,\n",
       " 0.13513513513513514,\n",
       " 0.36538461538461536,\n",
       " 0.17616580310880828,\n",
       " 0.15714285714285714,\n",
       " 0.25609756097560976,\n",
       " 0.2222222222222222,\n",
       " 0.17073170731707318,\n",
       " 0.1956521739130435,\n",
       " 0.21706398996235884,\n",
       " 0.1995841995841996,\n",
       " 0.2948073701842546,\n",
       " 0.17894736842105263,\n",
       " 0.13157894736842105,\n",
       " 0.1875,\n",
       " 0.16,\n",
       " 0.26126126126126126,\n",
       " 0.232,\n",
       " 0.1645021645021645,\n",
       " 0.45161290322580644,\n",
       " 0.375,\n",
       " 0.30060120240480964,\n",
       " 0.25882352941176473,\n",
       " 0.23796033994334279,\n",
       " 0.15625,\n",
       " 0.2916666666666667,\n",
       " 0.2819843342036554,\n",
       " 0.13915857605177995,\n",
       " 0.3076923076923077,\n",
       " 0.8695652173913043,\n",
       " 0.233,\n",
       " 0.13167259786476868,\n",
       " 0.1095890410958904,\n",
       " 0.15483870967741936,\n",
       " 0.18181818181818182,\n",
       " 0.15337423312883436,\n",
       " 0.26804123711340205,\n",
       " 0.11214953271028037,\n",
       " 0.21321961620469082,\n",
       " 0.18487394957983194,\n",
       " 0.1536697247706422,\n",
       " 0.2850678733031674,\n",
       " 0.2442528735632184,\n",
       " 0.1465798045602606,\n",
       " 0.1958174904942966,\n",
       " 0.24,\n",
       " 0.3686440677966102,\n",
       " 0.20437956204379562,\n",
       " 0.18773946360153257,\n",
       " 0.22301136363636365,\n",
       " 0.21875,\n",
       " 0.3140495867768595,\n",
       " 0.3384615384615385,\n",
       " 0.26054590570719605,\n",
       " 0.20087336244541484,\n",
       " 0.152327221438646,\n",
       " 0.24347826086956523,\n",
       " 0.1844484629294756,\n",
       " 0.20198675496688742,\n",
       " 0.23202614379084968,\n",
       " 0.13385826771653545,\n",
       " 0.2934472934472934,\n",
       " 0.27106227106227104,\n",
       " 0.23113207547169812,\n",
       " 0.23809523809523808,\n",
       " 0.17647058823529413,\n",
       " 0.3114754098360656,\n",
       " 0.22393822393822393,\n",
       " 0.14285714285714285,\n",
       " 0.0777027027027027,\n",
       " 0.2967032967032967,\n",
       " 0.05475504322766571,\n",
       " 0.3867924528301887,\n",
       " 0.26136363636363635,\n",
       " 0.2066869300911854,\n",
       " 0.21714285714285714,\n",
       " 0.2509505703422053,\n",
       " 0.03488372093023256,\n",
       " 0.23714285714285716,\n",
       " 0.19457889641819942,\n",
       " 0.16501650165016502,\n",
       " 0.26666666666666666,\n",
       " 0.1724137931034483,\n",
       " 0.21794871794871795,\n",
       " 0.08403361344537816,\n",
       " 0.17410714285714285,\n",
       " 0.1188118811881188,\n",
       " 0.16666666666666666,\n",
       " 0.234375,\n",
       " 0.2635814889336016,\n",
       " 0.2111111111111111,\n",
       " 0.21546261089987326,\n",
       " 0.4090909090909091,\n",
       " 0.18518518518518517,\n",
       " 0.2727272727272727,\n",
       " 0.24413145539906103,\n",
       " 0.18857142857142858,\n",
       " 0.09119010819165378,\n",
       " 0.2,\n",
       " 0.3284671532846715,\n",
       " 0.2805755395683453,\n",
       " 0.3708609271523179,\n",
       " 0.2364217252396166,\n",
       " 0.2434077079107505,\n",
       " 0.12280701754385964,\n",
       " 0.3333333333333333,\n",
       " 0.2156469408224674,\n",
       " 0.22929936305732485,\n",
       " 0.1440677966101695,\n",
       " 0.21649484536082475]"
      ]
     },
     "execution_count": 5,
     "metadata": {},
     "output_type": "execute_result"
    }
   ],
   "source": [
    "import os\n",
    "import pandas as pd\n",
    "import numpy as np\n",
    "from datetime import datetime\n",
    "import re\n",
    "from sklearn.feature_extraction.text import TfidfTransformer\n",
    "from sklearn.decomposition import LatentDirichletAllocation\n",
    "from snownlp import SnowNLP\n",
    "import jieba.analyse as ana\n",
    "import jieba\n",
    "from sklearn.decomposition import LatentDirichletAllocation\n",
    "from sklearn.feature_extraction.text import TfidfTransformer\n",
    "from sklearn.feature_extraction.text import CountVectorizer\n",
    "\n",
    "\n",
    "sen_avg_list= []  #综合情感值得分列表\n",
    "grades_list = [] #负面评论所占比重列表\n",
    "\n",
    "for parent,dirnames,filenames in os.walk(r'../data/taobao/new/评论数据_食品/'):\n",
    "    for filename in filenames:\n",
    "        #root 所指的是当前正在遍历的这个文件夹的本身的地址\n",
    "        #dirs 是一个 list ，内容是该文件夹中所有的目录的名字(不包括子目录)\n",
    "        #files 同样是 list , 内容是该文件夹中所有的文件(不包括子目录)\n",
    "\n",
    "#         print(parent+filename)\n",
    "        df = pd.read_csv(parent+filename,skiprows =1,lineterminator=\"\\n\") \n",
    "        df = df.iloc[:len(df)-2]['评价内容']\n",
    "#         print(df)\n",
    "        \n",
    "        #分词\n",
    "        dict1 = '../data/nlp/电商客服输入法.txt'\n",
    "        dict2 = '../data/nlp/电子商务专用词汇.txt'\n",
    "        jieba.load_userdict(dict1) # dict_为自定义词典的路径\n",
    "        jieba.load_userdict(dict2) # dict_为自定义词典的路径\n",
    "\n",
    "\n",
    "\n",
    "        # 去除停用词\n",
    "        # 使用预先准备的停用词表\n",
    "#         tmpdf = pd.read_csv('../data/nlp/停用词.txt',\n",
    "#                             names = ['w'], sep = 'aaa', encoding = 'utf-8')\n",
    "#         tmpdf.head()\n",
    "\n",
    "        ana.set_stop_words('../data/nlp/停用词.txt')\n",
    "\n",
    "        for i,value in enumerate(df):\n",
    "            res = ana.extract_tags(value , topK = 50) # 使用TF-IDF算法提取关键词，并同时去掉停用词\n",
    "            df[i] = ' '.join(res)\n",
    "  \n",
    "        \n",
    "    \n",
    "        #特征提取\n",
    "        vectorizer = CountVectorizer() \n",
    "        X = vectorizer.fit_transform(df) # 将文本中的词语转换为词频矩阵  \n",
    "        transformer = TfidfTransformer()  \n",
    "        tfidf = transformer.fit_transform(X)  #基于词频矩阵X计算TF-IDF值  \n",
    "        tfidf\n",
    "\n",
    "\n",
    "#         tfidf.toarray() # 转换为数组\n",
    "#         tfidf.todense() # 转换为矩阵\n",
    "#         tfidf.todense().shape\n",
    "#         print(\"字典长度：\", len(vectorizer.vocabulary_))\n",
    "#         vectorizer.vocabulary_\n",
    "        \n",
    "        #抽取文档主题\n",
    "        # 设定LDA模型\n",
    "        n_topics = 10\n",
    "        ldamodel = LatentDirichletAllocation(n_components = n_topics)\n",
    "        \n",
    "        # 拟合LDA模型\n",
    "        ldamodel.fit(tfidf)\n",
    "        \n",
    "        # 拟合后模型的实质\n",
    "#         print(ldamodel.components_.shape)\n",
    "#         ldamodel.components_[:2]\n",
    "\n",
    "        \n",
    "        #打印出前十个主题的10关键词信息\n",
    "        n_top_words = 10\n",
    "        tf_feature_names = vectorizer.get_feature_names()\n",
    "\n",
    "        #--------------------------------------------------------------------------------------\n",
    "        #获取每家店铺的情感值得分  \n",
    "        sen_total = []\n",
    "        for topic_idx, topic in enumerate(ldamodel.components_):\n",
    "            sum_ = 0\n",
    "            str_topic = np.array([tf_feature_names[i] \n",
    "                            for i in topic.argsort()[:-n_top_words - 1:-1]])\n",
    "            if len(str_topic) > 0 :\n",
    "                for i in str_topic:     #对每个主题的情绪值求和\n",
    "                   sum_ += SnowNLP(i).sentiments\n",
    "\n",
    "            else:\n",
    "                sum_ = 0\n",
    "            sen_total.append(sum_)\n",
    "\n",
    "        sen_total = np.array(sen_total)\n",
    "        sen_avg = sen_total.mean()  #对各个主题求平均\n",
    "        sen_avg_list.append(sen_avg)   \n",
    "        #--------------------------------------------------------------------------------------\n",
    "        \n",
    "        \n",
    "        #--------------------------------------------------------------------------------------\n",
    "        #获取负面评论\n",
    "        grades = []\n",
    "        neg_grades = []\n",
    "        try:\n",
    "            for i, value in enumerate(df):\n",
    "                sum_ = 0 \n",
    "                for j in value.split(\" \"):\n",
    "                    sum_+= SnowNLP(j).sentiments\n",
    "                avg_word = sum_/len(value.split(\" \"))  \n",
    "                \n",
    "                \n",
    "                if avg_word < 0.5:\n",
    "                    neg_grades.append(avg_word)\n",
    "                grades.append(avg_word)    \n",
    "           \n",
    "        except:\n",
    "            avg_word = 0\n",
    "            neg_grades.append(avg_word)\n",
    "            grades.append(avg_word)    \n",
    "            pass\n",
    "\n",
    "       \n",
    "        # grades        \n",
    "        ratio =len( neg_grades)/len(grades)\n",
    "        grades_list.append(ratio)  \n",
    "        #--------------------------------------------------------------------------------------\n",
    "        \n",
    "\n",
    "sen_avg_list\n",
    "grades_list\n",
    "\n",
    "\n",
    "to_file = pd.DataFrame(sen_avg_list)\n",
    "to_file['负面评论比重'] = grades_list\n",
    "to_file['店铺名称'] = names\n",
    "to_file.to_csv(r'../data/taobao/new/nlp特征_食品.csv',encoding=\"utf_8_sig\")"
   ]
  },
  {
   "cell_type": "code",
   "execution_count": null,
   "metadata": {},
   "outputs": [],
   "source": [
    "tmp = pd.read_excel(r'../data/taobao/new/shipin_plus.xlsx')\n",
    "\n",
    "\n",
    "file_all2 = pd.DataFrame()\n",
    "file_all2['词频综合'] = 0\n",
    "file_all2['店铺名称'] = tmp['店铺名字']\n",
    "\n",
    "for parent,dirnames,filenames in os.walk(r'../data/taobao/new/评论数据_食品/'):\n",
    "    for filename in filenames:\n",
    "        \n",
    "#         print(filename[0:-4])\n",
    "#         print(parent+filename)\n",
    "        df = pd.read_csv(parent+filename,skiprows =1,lineterminator=\"\\n\") \n",
    "        df = df.iloc[:len(df)-2]['评价内容']\n",
    "        \n",
    "        #分词\n",
    "        dict1 = '../data/nlp/电商客服输入法.txt'\n",
    "        dict2 = '../data/nlp/电子商务专用词汇.txt'\n",
    "        jieba.load_userdict(dict1) # dict_为自定义词典的路径\n",
    "        jieba.load_userdict(dict2) # dict_为自定义词典的路径\n",
    "\n",
    "\n",
    "        # 去除停用词\n",
    "        ana.set_stop_words('../data/nlp/停用词.txt')\n",
    "\n",
    "        for i,value in enumerate(df):\n",
    "            res = ana.extract_tags(value , topK = 50) # 使用TF-IDF算法提取关键词，并同时去掉停用词\n",
    "            df[i] = ' '.join(res)\n",
    "                         \n",
    "        str_sum = \"\"  #把一篇文章的所有评论综合在一起\n",
    "        for i in df:\n",
    "            str_sum += i\n",
    "#         print(str_sum)\n",
    "  \n",
    "#         file_all[file_all['店铺名称'] == filename[0:-4]]['词频综合得分'] = str_sum\n",
    "        for i,filename2 in enumerate(file_all2['店铺名称']):\n",
    "            if filename2.strip() == filename[0:-4].strip():\n",
    "                file_all2['词频综合'][i] = str_sum   \n",
    "                \n",
    "        \n",
    "\n",
    "#         print(file_all[file_all['店铺名称'] == filename]['词频综合得分'])\n",
    "file_all2.to_csv(r'../data/taobao/new/nlp词频综合_食品.csv',encoding=\"utf_8_sig\")\n",
    "        \n",
    "#         print(df)"
   ]
  },
  {
   "cell_type": "code",
   "execution_count": null,
   "metadata": {},
   "outputs": [],
   "source": [
    "from sklearn.cluster import DBSCAN\n",
    "import pandas as pd\n",
    "import numpy as np\n",
    "import matplotlib.pyplot as plt\n",
    "\n",
    "db = DBSCAN(eps=1.1,min_samples=2, n_jobs=4).fit(data)\n",
    "\n",
    "r = pd.Series(db.labels_, index =file_all.index)   # 详细输出每个样本对应的类别\n",
    "\n",
    "r.to_excel(r'../data/taobao/new/data_type2.xls')\n",
    "print(r.sort_values())"
   ]
  },
  {
   "cell_type": "code",
   "execution_count": null,
   "metadata": {},
   "outputs": [],
   "source": [
    "final1 = pd.read_csv(r'../data/taobao/new/nlp特征.csv')\n",
    "final1\n",
    "final2 = pd.read_excel(r'../data/taobao/new/data_type2.xls')\n",
    "final2\n",
    "\n",
    "flag = pd.read_excel(r'../data/taobao/new/dianqi_plus.xlsx')\n",
    "flag\n",
    "\n",
    "final = pd.merge(final1,final2,how='inner',left_on='店铺名称',right_on='店铺名称')\n",
    "final.corr()\n",
    "flag = pd.merge(flag,final,how='inner',left_on='店铺名字',right_on='店铺名称')\n",
    "flag.to_csv(r'../data/taobao/new/nlp特征最终_new.csv',encoding=\"utf_8_sig\")"
   ]
  },
  {
   "cell_type": "code",
   "execution_count": null,
   "metadata": {},
   "outputs": [],
   "source": []
  },
  {
   "cell_type": "code",
   "execution_count": null,
   "metadata": {},
   "outputs": [],
   "source": []
  },
  {
   "cell_type": "code",
   "execution_count": null,
   "metadata": {},
   "outputs": [],
   "source": []
  }
 ],
 "metadata": {
  "kernelspec": {
   "display_name": "Python 3",
   "language": "python",
   "name": "python3"
  },
  "language_info": {
   "codemirror_mode": {
    "name": "ipython",
    "version": 3
   },
   "file_extension": ".py",
   "mimetype": "text/x-python",
   "name": "python",
   "nbconvert_exporter": "python",
   "pygments_lexer": "ipython3",
   "version": "3.7.4"
  }
 },
 "nbformat": 4,
 "nbformat_minor": 2
}
